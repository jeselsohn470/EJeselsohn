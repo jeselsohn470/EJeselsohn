{
  "cells": [
    {
      "cell_type": "markdown",
      "metadata": {
        "id": "FjsLFazrJ8ke"
      },
      "source": [
        "Got the load and join data from:\n",
        "https://colab.research.google.com/drive/1zfdTF1u1FpoVOvD_b7sfuXfiPdxYkVbL?usp=sharing\n"
      ]
    },
    {
      "cell_type": "markdown",
      "metadata": {
        "id": "0EoruzQsDuzT"
      },
      "source": [
        "#Load, Join & Clean Data"
      ]
    },
    {
      "cell_type": "markdown",
      "metadata": {
        "id": "Er-kPMBflvI1"
      },
      "source": [
        "##Explanation of Dataset Usage\n"
      ]
    },
    {
      "cell_type": "markdown",
      "metadata": {
        "id": "we1ryArNDBQb"
      },
      "source": [
        "For a simple model, all that is needed are users with unique ids rating and movies with unique ids. It's enough for matrix factorization, and even using the movie vectors to use for a neural network embedding."
      ]
    },
    {
      "cell_type": "markdown",
      "metadata": {
        "id": "CeReAnH1Dnou"
      },
      "source": [
        "However, for a more nuanced model with better performance, there is other data that can be very helpful"
      ]
    },
    {
      "cell_type": "markdown",
      "metadata": {
        "id": "Pu8ea1wlCYdh"
      },
      "source": [
        "The Movie Lens dataset supplies us with users with unique ids rating titled movies with unique ids. Addtionally, it supplies genre and release date which will be helpful for the hybrid model. For the hybrid model, I will take the genres which are already one hot encoded for me. In addition to the genres, I will also take user information from the u.user dataset. I will take the age of the users, gender and profession. I normalized the age by dividing by the max age, and one-hot encoded the gender and professions. \n",
        "The user id in u.users and the movielens dataset match up, makeing the join easy.\n",
        "\n",
        "Using the movie lens dataset gave me 80k points to use for training. I believe that was enough points and that fact that my RMSE was around 1 for my models with an unseen test dataset shows me that the movie lens dataset was enough."
      ]
    },
    {
      "cell_type": "markdown",
      "metadata": {
        "id": "7UKe2mmdD33j"
      },
      "source": [
        "## Movie Lens"
      ]
    },
    {
      "cell_type": "markdown",
      "metadata": {
        "id": "qBn-PqIqL12a"
      },
      "source": [
        "- ratings: has the user ratings, and a timestamp of when they happened \n",
        "- items: has the movie titles, and the genre info \n",
        " - Note: Both use the same movieId. This will be helpful when I need to match the genre with the movie for the bybrid model.\n"
      ]
    },
    {
      "cell_type": "code",
      "execution_count": null,
      "metadata": {
        "id": "54QgUpW8rSCr"
      },
      "outputs": [],
      "source": [
        "import pandas as pd\n",
        "import numpy as np"
      ]
    },
    {
      "cell_type": "code",
      "execution_count": null,
      "metadata": {
        "id": "oB9Y5OTZrTuk"
      },
      "outputs": [],
      "source": [
        "# movielens data\n",
        "ratings = pd.read_csv(\"http://files.grouplens.org/datasets/movielens/ml-100k/u1.base\",sep='\\t',header=None, names=[\"userId\", \"movieId\", \"rating\", \"timestamp\"])"
      ]
    },
    {
      "cell_type": "code",
      "execution_count": null,
      "metadata": {
        "colab": {
          "base_uri": "https://localhost:8080/",
          "height": 424
        },
        "id": "oTjZI5zPrZPd",
        "outputId": "28ebaffe-8736-4132-b47a-9a3a655428ac"
      },
      "outputs": [
        {
          "output_type": "execute_result",
          "data": {
            "text/plain": [
              "       userId  movieId  rating  timestamp\n",
              "0           1        1       5  874965758\n",
              "1           1        2       3  876893171\n",
              "2           1        3       4  878542960\n",
              "3           1        4       3  876893119\n",
              "4           1        5       3  889751712\n",
              "...       ...      ...     ...        ...\n",
              "79995     943     1067       2  875501756\n",
              "79996     943     1074       4  888640250\n",
              "79997     943     1188       3  888640250\n",
              "79998     943     1228       3  888640275\n",
              "79999     943     1330       3  888692465\n",
              "\n",
              "[80000 rows x 4 columns]"
            ],
            "text/html": [
              "\n",
              "  <div id=\"df-f1548d47-5df6-4125-b7d3-1d578133b30e\">\n",
              "    <div class=\"colab-df-container\">\n",
              "      <div>\n",
              "<style scoped>\n",
              "    .dataframe tbody tr th:only-of-type {\n",
              "        vertical-align: middle;\n",
              "    }\n",
              "\n",
              "    .dataframe tbody tr th {\n",
              "        vertical-align: top;\n",
              "    }\n",
              "\n",
              "    .dataframe thead th {\n",
              "        text-align: right;\n",
              "    }\n",
              "</style>\n",
              "<table border=\"1\" class=\"dataframe\">\n",
              "  <thead>\n",
              "    <tr style=\"text-align: right;\">\n",
              "      <th></th>\n",
              "      <th>userId</th>\n",
              "      <th>movieId</th>\n",
              "      <th>rating</th>\n",
              "      <th>timestamp</th>\n",
              "    </tr>\n",
              "  </thead>\n",
              "  <tbody>\n",
              "    <tr>\n",
              "      <th>0</th>\n",
              "      <td>1</td>\n",
              "      <td>1</td>\n",
              "      <td>5</td>\n",
              "      <td>874965758</td>\n",
              "    </tr>\n",
              "    <tr>\n",
              "      <th>1</th>\n",
              "      <td>1</td>\n",
              "      <td>2</td>\n",
              "      <td>3</td>\n",
              "      <td>876893171</td>\n",
              "    </tr>\n",
              "    <tr>\n",
              "      <th>2</th>\n",
              "      <td>1</td>\n",
              "      <td>3</td>\n",
              "      <td>4</td>\n",
              "      <td>878542960</td>\n",
              "    </tr>\n",
              "    <tr>\n",
              "      <th>3</th>\n",
              "      <td>1</td>\n",
              "      <td>4</td>\n",
              "      <td>3</td>\n",
              "      <td>876893119</td>\n",
              "    </tr>\n",
              "    <tr>\n",
              "      <th>4</th>\n",
              "      <td>1</td>\n",
              "      <td>5</td>\n",
              "      <td>3</td>\n",
              "      <td>889751712</td>\n",
              "    </tr>\n",
              "    <tr>\n",
              "      <th>...</th>\n",
              "      <td>...</td>\n",
              "      <td>...</td>\n",
              "      <td>...</td>\n",
              "      <td>...</td>\n",
              "    </tr>\n",
              "    <tr>\n",
              "      <th>79995</th>\n",
              "      <td>943</td>\n",
              "      <td>1067</td>\n",
              "      <td>2</td>\n",
              "      <td>875501756</td>\n",
              "    </tr>\n",
              "    <tr>\n",
              "      <th>79996</th>\n",
              "      <td>943</td>\n",
              "      <td>1074</td>\n",
              "      <td>4</td>\n",
              "      <td>888640250</td>\n",
              "    </tr>\n",
              "    <tr>\n",
              "      <th>79997</th>\n",
              "      <td>943</td>\n",
              "      <td>1188</td>\n",
              "      <td>3</td>\n",
              "      <td>888640250</td>\n",
              "    </tr>\n",
              "    <tr>\n",
              "      <th>79998</th>\n",
              "      <td>943</td>\n",
              "      <td>1228</td>\n",
              "      <td>3</td>\n",
              "      <td>888640275</td>\n",
              "    </tr>\n",
              "    <tr>\n",
              "      <th>79999</th>\n",
              "      <td>943</td>\n",
              "      <td>1330</td>\n",
              "      <td>3</td>\n",
              "      <td>888692465</td>\n",
              "    </tr>\n",
              "  </tbody>\n",
              "</table>\n",
              "<p>80000 rows × 4 columns</p>\n",
              "</div>\n",
              "      <button class=\"colab-df-convert\" onclick=\"convertToInteractive('df-f1548d47-5df6-4125-b7d3-1d578133b30e')\"\n",
              "              title=\"Convert this dataframe to an interactive table.\"\n",
              "              style=\"display:none;\">\n",
              "        \n",
              "  <svg xmlns=\"http://www.w3.org/2000/svg\" height=\"24px\"viewBox=\"0 0 24 24\"\n",
              "       width=\"24px\">\n",
              "    <path d=\"M0 0h24v24H0V0z\" fill=\"none\"/>\n",
              "    <path d=\"M18.56 5.44l.94 2.06.94-2.06 2.06-.94-2.06-.94-.94-2.06-.94 2.06-2.06.94zm-11 1L8.5 8.5l.94-2.06 2.06-.94-2.06-.94L8.5 2.5l-.94 2.06-2.06.94zm10 10l.94 2.06.94-2.06 2.06-.94-2.06-.94-.94-2.06-.94 2.06-2.06.94z\"/><path d=\"M17.41 7.96l-1.37-1.37c-.4-.4-.92-.59-1.43-.59-.52 0-1.04.2-1.43.59L10.3 9.45l-7.72 7.72c-.78.78-.78 2.05 0 2.83L4 21.41c.39.39.9.59 1.41.59.51 0 1.02-.2 1.41-.59l7.78-7.78 2.81-2.81c.8-.78.8-2.07 0-2.86zM5.41 20L4 18.59l7.72-7.72 1.47 1.35L5.41 20z\"/>\n",
              "  </svg>\n",
              "      </button>\n",
              "      \n",
              "  <style>\n",
              "    .colab-df-container {\n",
              "      display:flex;\n",
              "      flex-wrap:wrap;\n",
              "      gap: 12px;\n",
              "    }\n",
              "\n",
              "    .colab-df-convert {\n",
              "      background-color: #E8F0FE;\n",
              "      border: none;\n",
              "      border-radius: 50%;\n",
              "      cursor: pointer;\n",
              "      display: none;\n",
              "      fill: #1967D2;\n",
              "      height: 32px;\n",
              "      padding: 0 0 0 0;\n",
              "      width: 32px;\n",
              "    }\n",
              "\n",
              "    .colab-df-convert:hover {\n",
              "      background-color: #E2EBFA;\n",
              "      box-shadow: 0px 1px 2px rgba(60, 64, 67, 0.3), 0px 1px 3px 1px rgba(60, 64, 67, 0.15);\n",
              "      fill: #174EA6;\n",
              "    }\n",
              "\n",
              "    [theme=dark] .colab-df-convert {\n",
              "      background-color: #3B4455;\n",
              "      fill: #D2E3FC;\n",
              "    }\n",
              "\n",
              "    [theme=dark] .colab-df-convert:hover {\n",
              "      background-color: #434B5C;\n",
              "      box-shadow: 0px 1px 3px 1px rgba(0, 0, 0, 0.15);\n",
              "      filter: drop-shadow(0px 1px 2px rgba(0, 0, 0, 0.3));\n",
              "      fill: #FFFFFF;\n",
              "    }\n",
              "  </style>\n",
              "\n",
              "      <script>\n",
              "        const buttonEl =\n",
              "          document.querySelector('#df-f1548d47-5df6-4125-b7d3-1d578133b30e button.colab-df-convert');\n",
              "        buttonEl.style.display =\n",
              "          google.colab.kernel.accessAllowed ? 'block' : 'none';\n",
              "\n",
              "        async function convertToInteractive(key) {\n",
              "          const element = document.querySelector('#df-f1548d47-5df6-4125-b7d3-1d578133b30e');\n",
              "          const dataTable =\n",
              "            await google.colab.kernel.invokeFunction('convertToInteractive',\n",
              "                                                     [key], {});\n",
              "          if (!dataTable) return;\n",
              "\n",
              "          const docLinkHtml = 'Like what you see? Visit the ' +\n",
              "            '<a target=\"_blank\" href=https://colab.research.google.com/notebooks/data_table.ipynb>data table notebook</a>'\n",
              "            + ' to learn more about interactive tables.';\n",
              "          element.innerHTML = '';\n",
              "          dataTable['output_type'] = 'display_data';\n",
              "          await google.colab.output.renderOutput(dataTable, element);\n",
              "          const docLink = document.createElement('div');\n",
              "          docLink.innerHTML = docLinkHtml;\n",
              "          element.appendChild(docLink);\n",
              "        }\n",
              "      </script>\n",
              "    </div>\n",
              "  </div>\n",
              "  "
            ]
          },
          "metadata": {},
          "execution_count": 3
        }
      ],
      "source": [
        "ratings"
      ]
    },
    {
      "cell_type": "code",
      "execution_count": null,
      "metadata": {
        "id": "dMsj3SDj1My6"
      },
      "outputs": [],
      "source": [
        "ml_movies = pd.read_csv(\"http://files.grouplens.org/datasets/movielens/ml-100k/u.item\", \n",
        "                    sep='|', \n",
        "                    header=None, \n",
        "                    encoding=\"latin1\",\n",
        "                    names=[\"ml_movieId\", \"title\", \"date released\", \"video_release_date\", \"link\", \"genre_unknown\", \"Action\", \"Adventure\", \"Animation\", \"Family\", \"Comedy\", \"Crime\", \"Documentary\", \"Drama\", \"Fantasy\", \"Film-Noir\", \"Horror\", \"Music\", \"Mystery\", \"Romance\", \"Science Fiction\", \"Thriller\", \"War\", \"Western\"])"
      ]
    },
    {
      "cell_type": "code",
      "execution_count": null,
      "metadata": {
        "colab": {
          "base_uri": "https://localhost:8080/",
          "height": 818
        },
        "id": "QgLyB9VY2LKw",
        "outputId": "9ab63651-d154-4a2e-dee7-1bdb29aa3d70"
      },
      "outputs": [
        {
          "output_type": "execute_result",
          "data": {
            "text/plain": [
              "      ml_movieId                                      title date released  \\\n",
              "0              1                           Toy Story (1995)   01-Jan-1995   \n",
              "1              2                           GoldenEye (1995)   01-Jan-1995   \n",
              "2              3                          Four Rooms (1995)   01-Jan-1995   \n",
              "3              4                          Get Shorty (1995)   01-Jan-1995   \n",
              "4              5                             Copycat (1995)   01-Jan-1995   \n",
              "...          ...                                        ...           ...   \n",
              "1677        1678                          Mat' i syn (1997)   06-Feb-1998   \n",
              "1678        1679                           B. Monkey (1998)   06-Feb-1998   \n",
              "1679        1680                       Sliding Doors (1998)   01-Jan-1998   \n",
              "1680        1681                        You So Crazy (1994)   01-Jan-1994   \n",
              "1681        1682  Scream of Stone (Schrei aus Stein) (1991)   08-Mar-1996   \n",
              "\n",
              "      video_release_date                                               link  \\\n",
              "0                    NaN  http://us.imdb.com/M/title-exact?Toy%20Story%2...   \n",
              "1                    NaN  http://us.imdb.com/M/title-exact?GoldenEye%20(...   \n",
              "2                    NaN  http://us.imdb.com/M/title-exact?Four%20Rooms%...   \n",
              "3                    NaN  http://us.imdb.com/M/title-exact?Get%20Shorty%...   \n",
              "4                    NaN  http://us.imdb.com/M/title-exact?Copycat%20(1995)   \n",
              "...                  ...                                                ...   \n",
              "1677                 NaN  http://us.imdb.com/M/title-exact?Mat%27+i+syn+...   \n",
              "1678                 NaN  http://us.imdb.com/M/title-exact?B%2E+Monkey+(...   \n",
              "1679                 NaN      http://us.imdb.com/Title?Sliding+Doors+(1998)   \n",
              "1680                 NaN  http://us.imdb.com/M/title-exact?You%20So%20Cr...   \n",
              "1681                 NaN  http://us.imdb.com/M/title-exact?Schrei%20aus%...   \n",
              "\n",
              "      genre_unknown  Action  Adventure  Animation  Family  ...  Fantasy  \\\n",
              "0                 0       0          0          1       1  ...        0   \n",
              "1                 0       1          1          0       0  ...        0   \n",
              "2                 0       0          0          0       0  ...        0   \n",
              "3                 0       1          0          0       0  ...        0   \n",
              "4                 0       0          0          0       0  ...        0   \n",
              "...             ...     ...        ...        ...     ...  ...      ...   \n",
              "1677              0       0          0          0       0  ...        0   \n",
              "1678              0       0          0          0       0  ...        0   \n",
              "1679              0       0          0          0       0  ...        0   \n",
              "1680              0       0          0          0       0  ...        0   \n",
              "1681              0       0          0          0       0  ...        0   \n",
              "\n",
              "      Film-Noir  Horror  Music  Mystery  Romance  Science Fiction  Thriller  \\\n",
              "0             0       0      0        0        0                0         0   \n",
              "1             0       0      0        0        0                0         1   \n",
              "2             0       0      0        0        0                0         1   \n",
              "3             0       0      0        0        0                0         0   \n",
              "4             0       0      0        0        0                0         1   \n",
              "...         ...     ...    ...      ...      ...              ...       ...   \n",
              "1677          0       0      0        0        0                0         0   \n",
              "1678          0       0      0        0        1                0         1   \n",
              "1679          0       0      0        0        1                0         0   \n",
              "1680          0       0      0        0        0                0         0   \n",
              "1681          0       0      0        0        0                0         0   \n",
              "\n",
              "      War  Western  \n",
              "0       0        0  \n",
              "1       0        0  \n",
              "2       0        0  \n",
              "3       0        0  \n",
              "4       0        0  \n",
              "...   ...      ...  \n",
              "1677    0        0  \n",
              "1678    0        0  \n",
              "1679    0        0  \n",
              "1680    0        0  \n",
              "1681    0        0  \n",
              "\n",
              "[1682 rows x 24 columns]"
            ],
            "text/html": [
              "\n",
              "  <div id=\"df-5fd9c2c4-2063-4358-8056-cfda455b6f32\">\n",
              "    <div class=\"colab-df-container\">\n",
              "      <div>\n",
              "<style scoped>\n",
              "    .dataframe tbody tr th:only-of-type {\n",
              "        vertical-align: middle;\n",
              "    }\n",
              "\n",
              "    .dataframe tbody tr th {\n",
              "        vertical-align: top;\n",
              "    }\n",
              "\n",
              "    .dataframe thead th {\n",
              "        text-align: right;\n",
              "    }\n",
              "</style>\n",
              "<table border=\"1\" class=\"dataframe\">\n",
              "  <thead>\n",
              "    <tr style=\"text-align: right;\">\n",
              "      <th></th>\n",
              "      <th>ml_movieId</th>\n",
              "      <th>title</th>\n",
              "      <th>date released</th>\n",
              "      <th>video_release_date</th>\n",
              "      <th>link</th>\n",
              "      <th>genre_unknown</th>\n",
              "      <th>Action</th>\n",
              "      <th>Adventure</th>\n",
              "      <th>Animation</th>\n",
              "      <th>Family</th>\n",
              "      <th>...</th>\n",
              "      <th>Fantasy</th>\n",
              "      <th>Film-Noir</th>\n",
              "      <th>Horror</th>\n",
              "      <th>Music</th>\n",
              "      <th>Mystery</th>\n",
              "      <th>Romance</th>\n",
              "      <th>Science Fiction</th>\n",
              "      <th>Thriller</th>\n",
              "      <th>War</th>\n",
              "      <th>Western</th>\n",
              "    </tr>\n",
              "  </thead>\n",
              "  <tbody>\n",
              "    <tr>\n",
              "      <th>0</th>\n",
              "      <td>1</td>\n",
              "      <td>Toy Story (1995)</td>\n",
              "      <td>01-Jan-1995</td>\n",
              "      <td>NaN</td>\n",
              "      <td>http://us.imdb.com/M/title-exact?Toy%20Story%2...</td>\n",
              "      <td>0</td>\n",
              "      <td>0</td>\n",
              "      <td>0</td>\n",
              "      <td>1</td>\n",
              "      <td>1</td>\n",
              "      <td>...</td>\n",
              "      <td>0</td>\n",
              "      <td>0</td>\n",
              "      <td>0</td>\n",
              "      <td>0</td>\n",
              "      <td>0</td>\n",
              "      <td>0</td>\n",
              "      <td>0</td>\n",
              "      <td>0</td>\n",
              "      <td>0</td>\n",
              "      <td>0</td>\n",
              "    </tr>\n",
              "    <tr>\n",
              "      <th>1</th>\n",
              "      <td>2</td>\n",
              "      <td>GoldenEye (1995)</td>\n",
              "      <td>01-Jan-1995</td>\n",
              "      <td>NaN</td>\n",
              "      <td>http://us.imdb.com/M/title-exact?GoldenEye%20(...</td>\n",
              "      <td>0</td>\n",
              "      <td>1</td>\n",
              "      <td>1</td>\n",
              "      <td>0</td>\n",
              "      <td>0</td>\n",
              "      <td>...</td>\n",
              "      <td>0</td>\n",
              "      <td>0</td>\n",
              "      <td>0</td>\n",
              "      <td>0</td>\n",
              "      <td>0</td>\n",
              "      <td>0</td>\n",
              "      <td>0</td>\n",
              "      <td>1</td>\n",
              "      <td>0</td>\n",
              "      <td>0</td>\n",
              "    </tr>\n",
              "    <tr>\n",
              "      <th>2</th>\n",
              "      <td>3</td>\n",
              "      <td>Four Rooms (1995)</td>\n",
              "      <td>01-Jan-1995</td>\n",
              "      <td>NaN</td>\n",
              "      <td>http://us.imdb.com/M/title-exact?Four%20Rooms%...</td>\n",
              "      <td>0</td>\n",
              "      <td>0</td>\n",
              "      <td>0</td>\n",
              "      <td>0</td>\n",
              "      <td>0</td>\n",
              "      <td>...</td>\n",
              "      <td>0</td>\n",
              "      <td>0</td>\n",
              "      <td>0</td>\n",
              "      <td>0</td>\n",
              "      <td>0</td>\n",
              "      <td>0</td>\n",
              "      <td>0</td>\n",
              "      <td>1</td>\n",
              "      <td>0</td>\n",
              "      <td>0</td>\n",
              "    </tr>\n",
              "    <tr>\n",
              "      <th>3</th>\n",
              "      <td>4</td>\n",
              "      <td>Get Shorty (1995)</td>\n",
              "      <td>01-Jan-1995</td>\n",
              "      <td>NaN</td>\n",
              "      <td>http://us.imdb.com/M/title-exact?Get%20Shorty%...</td>\n",
              "      <td>0</td>\n",
              "      <td>1</td>\n",
              "      <td>0</td>\n",
              "      <td>0</td>\n",
              "      <td>0</td>\n",
              "      <td>...</td>\n",
              "      <td>0</td>\n",
              "      <td>0</td>\n",
              "      <td>0</td>\n",
              "      <td>0</td>\n",
              "      <td>0</td>\n",
              "      <td>0</td>\n",
              "      <td>0</td>\n",
              "      <td>0</td>\n",
              "      <td>0</td>\n",
              "      <td>0</td>\n",
              "    </tr>\n",
              "    <tr>\n",
              "      <th>4</th>\n",
              "      <td>5</td>\n",
              "      <td>Copycat (1995)</td>\n",
              "      <td>01-Jan-1995</td>\n",
              "      <td>NaN</td>\n",
              "      <td>http://us.imdb.com/M/title-exact?Copycat%20(1995)</td>\n",
              "      <td>0</td>\n",
              "      <td>0</td>\n",
              "      <td>0</td>\n",
              "      <td>0</td>\n",
              "      <td>0</td>\n",
              "      <td>...</td>\n",
              "      <td>0</td>\n",
              "      <td>0</td>\n",
              "      <td>0</td>\n",
              "      <td>0</td>\n",
              "      <td>0</td>\n",
              "      <td>0</td>\n",
              "      <td>0</td>\n",
              "      <td>1</td>\n",
              "      <td>0</td>\n",
              "      <td>0</td>\n",
              "    </tr>\n",
              "    <tr>\n",
              "      <th>...</th>\n",
              "      <td>...</td>\n",
              "      <td>...</td>\n",
              "      <td>...</td>\n",
              "      <td>...</td>\n",
              "      <td>...</td>\n",
              "      <td>...</td>\n",
              "      <td>...</td>\n",
              "      <td>...</td>\n",
              "      <td>...</td>\n",
              "      <td>...</td>\n",
              "      <td>...</td>\n",
              "      <td>...</td>\n",
              "      <td>...</td>\n",
              "      <td>...</td>\n",
              "      <td>...</td>\n",
              "      <td>...</td>\n",
              "      <td>...</td>\n",
              "      <td>...</td>\n",
              "      <td>...</td>\n",
              "      <td>...</td>\n",
              "      <td>...</td>\n",
              "    </tr>\n",
              "    <tr>\n",
              "      <th>1677</th>\n",
              "      <td>1678</td>\n",
              "      <td>Mat' i syn (1997)</td>\n",
              "      <td>06-Feb-1998</td>\n",
              "      <td>NaN</td>\n",
              "      <td>http://us.imdb.com/M/title-exact?Mat%27+i+syn+...</td>\n",
              "      <td>0</td>\n",
              "      <td>0</td>\n",
              "      <td>0</td>\n",
              "      <td>0</td>\n",
              "      <td>0</td>\n",
              "      <td>...</td>\n",
              "      <td>0</td>\n",
              "      <td>0</td>\n",
              "      <td>0</td>\n",
              "      <td>0</td>\n",
              "      <td>0</td>\n",
              "      <td>0</td>\n",
              "      <td>0</td>\n",
              "      <td>0</td>\n",
              "      <td>0</td>\n",
              "      <td>0</td>\n",
              "    </tr>\n",
              "    <tr>\n",
              "      <th>1678</th>\n",
              "      <td>1679</td>\n",
              "      <td>B. Monkey (1998)</td>\n",
              "      <td>06-Feb-1998</td>\n",
              "      <td>NaN</td>\n",
              "      <td>http://us.imdb.com/M/title-exact?B%2E+Monkey+(...</td>\n",
              "      <td>0</td>\n",
              "      <td>0</td>\n",
              "      <td>0</td>\n",
              "      <td>0</td>\n",
              "      <td>0</td>\n",
              "      <td>...</td>\n",
              "      <td>0</td>\n",
              "      <td>0</td>\n",
              "      <td>0</td>\n",
              "      <td>0</td>\n",
              "      <td>0</td>\n",
              "      <td>1</td>\n",
              "      <td>0</td>\n",
              "      <td>1</td>\n",
              "      <td>0</td>\n",
              "      <td>0</td>\n",
              "    </tr>\n",
              "    <tr>\n",
              "      <th>1679</th>\n",
              "      <td>1680</td>\n",
              "      <td>Sliding Doors (1998)</td>\n",
              "      <td>01-Jan-1998</td>\n",
              "      <td>NaN</td>\n",
              "      <td>http://us.imdb.com/Title?Sliding+Doors+(1998)</td>\n",
              "      <td>0</td>\n",
              "      <td>0</td>\n",
              "      <td>0</td>\n",
              "      <td>0</td>\n",
              "      <td>0</td>\n",
              "      <td>...</td>\n",
              "      <td>0</td>\n",
              "      <td>0</td>\n",
              "      <td>0</td>\n",
              "      <td>0</td>\n",
              "      <td>0</td>\n",
              "      <td>1</td>\n",
              "      <td>0</td>\n",
              "      <td>0</td>\n",
              "      <td>0</td>\n",
              "      <td>0</td>\n",
              "    </tr>\n",
              "    <tr>\n",
              "      <th>1680</th>\n",
              "      <td>1681</td>\n",
              "      <td>You So Crazy (1994)</td>\n",
              "      <td>01-Jan-1994</td>\n",
              "      <td>NaN</td>\n",
              "      <td>http://us.imdb.com/M/title-exact?You%20So%20Cr...</td>\n",
              "      <td>0</td>\n",
              "      <td>0</td>\n",
              "      <td>0</td>\n",
              "      <td>0</td>\n",
              "      <td>0</td>\n",
              "      <td>...</td>\n",
              "      <td>0</td>\n",
              "      <td>0</td>\n",
              "      <td>0</td>\n",
              "      <td>0</td>\n",
              "      <td>0</td>\n",
              "      <td>0</td>\n",
              "      <td>0</td>\n",
              "      <td>0</td>\n",
              "      <td>0</td>\n",
              "      <td>0</td>\n",
              "    </tr>\n",
              "    <tr>\n",
              "      <th>1681</th>\n",
              "      <td>1682</td>\n",
              "      <td>Scream of Stone (Schrei aus Stein) (1991)</td>\n",
              "      <td>08-Mar-1996</td>\n",
              "      <td>NaN</td>\n",
              "      <td>http://us.imdb.com/M/title-exact?Schrei%20aus%...</td>\n",
              "      <td>0</td>\n",
              "      <td>0</td>\n",
              "      <td>0</td>\n",
              "      <td>0</td>\n",
              "      <td>0</td>\n",
              "      <td>...</td>\n",
              "      <td>0</td>\n",
              "      <td>0</td>\n",
              "      <td>0</td>\n",
              "      <td>0</td>\n",
              "      <td>0</td>\n",
              "      <td>0</td>\n",
              "      <td>0</td>\n",
              "      <td>0</td>\n",
              "      <td>0</td>\n",
              "      <td>0</td>\n",
              "    </tr>\n",
              "  </tbody>\n",
              "</table>\n",
              "<p>1682 rows × 24 columns</p>\n",
              "</div>\n",
              "      <button class=\"colab-df-convert\" onclick=\"convertToInteractive('df-5fd9c2c4-2063-4358-8056-cfda455b6f32')\"\n",
              "              title=\"Convert this dataframe to an interactive table.\"\n",
              "              style=\"display:none;\">\n",
              "        \n",
              "  <svg xmlns=\"http://www.w3.org/2000/svg\" height=\"24px\"viewBox=\"0 0 24 24\"\n",
              "       width=\"24px\">\n",
              "    <path d=\"M0 0h24v24H0V0z\" fill=\"none\"/>\n",
              "    <path d=\"M18.56 5.44l.94 2.06.94-2.06 2.06-.94-2.06-.94-.94-2.06-.94 2.06-2.06.94zm-11 1L8.5 8.5l.94-2.06 2.06-.94-2.06-.94L8.5 2.5l-.94 2.06-2.06.94zm10 10l.94 2.06.94-2.06 2.06-.94-2.06-.94-.94-2.06-.94 2.06-2.06.94z\"/><path d=\"M17.41 7.96l-1.37-1.37c-.4-.4-.92-.59-1.43-.59-.52 0-1.04.2-1.43.59L10.3 9.45l-7.72 7.72c-.78.78-.78 2.05 0 2.83L4 21.41c.39.39.9.59 1.41.59.51 0 1.02-.2 1.41-.59l7.78-7.78 2.81-2.81c.8-.78.8-2.07 0-2.86zM5.41 20L4 18.59l7.72-7.72 1.47 1.35L5.41 20z\"/>\n",
              "  </svg>\n",
              "      </button>\n",
              "      \n",
              "  <style>\n",
              "    .colab-df-container {\n",
              "      display:flex;\n",
              "      flex-wrap:wrap;\n",
              "      gap: 12px;\n",
              "    }\n",
              "\n",
              "    .colab-df-convert {\n",
              "      background-color: #E8F0FE;\n",
              "      border: none;\n",
              "      border-radius: 50%;\n",
              "      cursor: pointer;\n",
              "      display: none;\n",
              "      fill: #1967D2;\n",
              "      height: 32px;\n",
              "      padding: 0 0 0 0;\n",
              "      width: 32px;\n",
              "    }\n",
              "\n",
              "    .colab-df-convert:hover {\n",
              "      background-color: #E2EBFA;\n",
              "      box-shadow: 0px 1px 2px rgba(60, 64, 67, 0.3), 0px 1px 3px 1px rgba(60, 64, 67, 0.15);\n",
              "      fill: #174EA6;\n",
              "    }\n",
              "\n",
              "    [theme=dark] .colab-df-convert {\n",
              "      background-color: #3B4455;\n",
              "      fill: #D2E3FC;\n",
              "    }\n",
              "\n",
              "    [theme=dark] .colab-df-convert:hover {\n",
              "      background-color: #434B5C;\n",
              "      box-shadow: 0px 1px 3px 1px rgba(0, 0, 0, 0.15);\n",
              "      filter: drop-shadow(0px 1px 2px rgba(0, 0, 0, 0.3));\n",
              "      fill: #FFFFFF;\n",
              "    }\n",
              "  </style>\n",
              "\n",
              "      <script>\n",
              "        const buttonEl =\n",
              "          document.querySelector('#df-5fd9c2c4-2063-4358-8056-cfda455b6f32 button.colab-df-convert');\n",
              "        buttonEl.style.display =\n",
              "          google.colab.kernel.accessAllowed ? 'block' : 'none';\n",
              "\n",
              "        async function convertToInteractive(key) {\n",
              "          const element = document.querySelector('#df-5fd9c2c4-2063-4358-8056-cfda455b6f32');\n",
              "          const dataTable =\n",
              "            await google.colab.kernel.invokeFunction('convertToInteractive',\n",
              "                                                     [key], {});\n",
              "          if (!dataTable) return;\n",
              "\n",
              "          const docLinkHtml = 'Like what you see? Visit the ' +\n",
              "            '<a target=\"_blank\" href=https://colab.research.google.com/notebooks/data_table.ipynb>data table notebook</a>'\n",
              "            + ' to learn more about interactive tables.';\n",
              "          element.innerHTML = '';\n",
              "          dataTable['output_type'] = 'display_data';\n",
              "          await google.colab.output.renderOutput(dataTable, element);\n",
              "          const docLink = document.createElement('div');\n",
              "          docLink.innerHTML = docLinkHtml;\n",
              "          element.appendChild(docLink);\n",
              "        }\n",
              "      </script>\n",
              "    </div>\n",
              "  </div>\n",
              "  "
            ]
          },
          "metadata": {},
          "execution_count": 5
        }
      ],
      "source": [
        "ml_movies"
      ]
    },
    {
      "cell_type": "code",
      "execution_count": null,
      "metadata": {
        "id": "d7P_gAoKpgGt"
      },
      "outputs": [],
      "source": [
        "users = pd.read_csv(\"https://files.grouplens.org/datasets/movielens/ml-100k/u.user\",sep='|',header=None, names=[\"userId\", \"age\", \"gender\", \"profession\", \"zipcode\"])"
      ]
    },
    {
      "cell_type": "code",
      "execution_count": null,
      "metadata": {
        "colab": {
          "base_uri": "https://localhost:8080/",
          "height": 424
        },
        "id": "3pgFL3TDp4lj",
        "outputId": "e8b93f4c-017b-44e6-feed-dff5a87923b1"
      },
      "outputs": [
        {
          "output_type": "execute_result",
          "data": {
            "text/plain": [
              "     userId  age gender     profession zipcode\n",
              "0         1   24      M     technician   85711\n",
              "1         2   53      F          other   94043\n",
              "2         3   23      M         writer   32067\n",
              "3         4   24      M     technician   43537\n",
              "4         5   33      F          other   15213\n",
              "..      ...  ...    ...            ...     ...\n",
              "938     939   26      F        student   33319\n",
              "939     940   32      M  administrator   02215\n",
              "940     941   20      M        student   97229\n",
              "941     942   48      F      librarian   78209\n",
              "942     943   22      M        student   77841\n",
              "\n",
              "[943 rows x 5 columns]"
            ],
            "text/html": [
              "\n",
              "  <div id=\"df-4a4c66c3-1196-44fa-a3ee-689106ba17c1\">\n",
              "    <div class=\"colab-df-container\">\n",
              "      <div>\n",
              "<style scoped>\n",
              "    .dataframe tbody tr th:only-of-type {\n",
              "        vertical-align: middle;\n",
              "    }\n",
              "\n",
              "    .dataframe tbody tr th {\n",
              "        vertical-align: top;\n",
              "    }\n",
              "\n",
              "    .dataframe thead th {\n",
              "        text-align: right;\n",
              "    }\n",
              "</style>\n",
              "<table border=\"1\" class=\"dataframe\">\n",
              "  <thead>\n",
              "    <tr style=\"text-align: right;\">\n",
              "      <th></th>\n",
              "      <th>userId</th>\n",
              "      <th>age</th>\n",
              "      <th>gender</th>\n",
              "      <th>profession</th>\n",
              "      <th>zipcode</th>\n",
              "    </tr>\n",
              "  </thead>\n",
              "  <tbody>\n",
              "    <tr>\n",
              "      <th>0</th>\n",
              "      <td>1</td>\n",
              "      <td>24</td>\n",
              "      <td>M</td>\n",
              "      <td>technician</td>\n",
              "      <td>85711</td>\n",
              "    </tr>\n",
              "    <tr>\n",
              "      <th>1</th>\n",
              "      <td>2</td>\n",
              "      <td>53</td>\n",
              "      <td>F</td>\n",
              "      <td>other</td>\n",
              "      <td>94043</td>\n",
              "    </tr>\n",
              "    <tr>\n",
              "      <th>2</th>\n",
              "      <td>3</td>\n",
              "      <td>23</td>\n",
              "      <td>M</td>\n",
              "      <td>writer</td>\n",
              "      <td>32067</td>\n",
              "    </tr>\n",
              "    <tr>\n",
              "      <th>3</th>\n",
              "      <td>4</td>\n",
              "      <td>24</td>\n",
              "      <td>M</td>\n",
              "      <td>technician</td>\n",
              "      <td>43537</td>\n",
              "    </tr>\n",
              "    <tr>\n",
              "      <th>4</th>\n",
              "      <td>5</td>\n",
              "      <td>33</td>\n",
              "      <td>F</td>\n",
              "      <td>other</td>\n",
              "      <td>15213</td>\n",
              "    </tr>\n",
              "    <tr>\n",
              "      <th>...</th>\n",
              "      <td>...</td>\n",
              "      <td>...</td>\n",
              "      <td>...</td>\n",
              "      <td>...</td>\n",
              "      <td>...</td>\n",
              "    </tr>\n",
              "    <tr>\n",
              "      <th>938</th>\n",
              "      <td>939</td>\n",
              "      <td>26</td>\n",
              "      <td>F</td>\n",
              "      <td>student</td>\n",
              "      <td>33319</td>\n",
              "    </tr>\n",
              "    <tr>\n",
              "      <th>939</th>\n",
              "      <td>940</td>\n",
              "      <td>32</td>\n",
              "      <td>M</td>\n",
              "      <td>administrator</td>\n",
              "      <td>02215</td>\n",
              "    </tr>\n",
              "    <tr>\n",
              "      <th>940</th>\n",
              "      <td>941</td>\n",
              "      <td>20</td>\n",
              "      <td>M</td>\n",
              "      <td>student</td>\n",
              "      <td>97229</td>\n",
              "    </tr>\n",
              "    <tr>\n",
              "      <th>941</th>\n",
              "      <td>942</td>\n",
              "      <td>48</td>\n",
              "      <td>F</td>\n",
              "      <td>librarian</td>\n",
              "      <td>78209</td>\n",
              "    </tr>\n",
              "    <tr>\n",
              "      <th>942</th>\n",
              "      <td>943</td>\n",
              "      <td>22</td>\n",
              "      <td>M</td>\n",
              "      <td>student</td>\n",
              "      <td>77841</td>\n",
              "    </tr>\n",
              "  </tbody>\n",
              "</table>\n",
              "<p>943 rows × 5 columns</p>\n",
              "</div>\n",
              "      <button class=\"colab-df-convert\" onclick=\"convertToInteractive('df-4a4c66c3-1196-44fa-a3ee-689106ba17c1')\"\n",
              "              title=\"Convert this dataframe to an interactive table.\"\n",
              "              style=\"display:none;\">\n",
              "        \n",
              "  <svg xmlns=\"http://www.w3.org/2000/svg\" height=\"24px\"viewBox=\"0 0 24 24\"\n",
              "       width=\"24px\">\n",
              "    <path d=\"M0 0h24v24H0V0z\" fill=\"none\"/>\n",
              "    <path d=\"M18.56 5.44l.94 2.06.94-2.06 2.06-.94-2.06-.94-.94-2.06-.94 2.06-2.06.94zm-11 1L8.5 8.5l.94-2.06 2.06-.94-2.06-.94L8.5 2.5l-.94 2.06-2.06.94zm10 10l.94 2.06.94-2.06 2.06-.94-2.06-.94-.94-2.06-.94 2.06-2.06.94z\"/><path d=\"M17.41 7.96l-1.37-1.37c-.4-.4-.92-.59-1.43-.59-.52 0-1.04.2-1.43.59L10.3 9.45l-7.72 7.72c-.78.78-.78 2.05 0 2.83L4 21.41c.39.39.9.59 1.41.59.51 0 1.02-.2 1.41-.59l7.78-7.78 2.81-2.81c.8-.78.8-2.07 0-2.86zM5.41 20L4 18.59l7.72-7.72 1.47 1.35L5.41 20z\"/>\n",
              "  </svg>\n",
              "      </button>\n",
              "      \n",
              "  <style>\n",
              "    .colab-df-container {\n",
              "      display:flex;\n",
              "      flex-wrap:wrap;\n",
              "      gap: 12px;\n",
              "    }\n",
              "\n",
              "    .colab-df-convert {\n",
              "      background-color: #E8F0FE;\n",
              "      border: none;\n",
              "      border-radius: 50%;\n",
              "      cursor: pointer;\n",
              "      display: none;\n",
              "      fill: #1967D2;\n",
              "      height: 32px;\n",
              "      padding: 0 0 0 0;\n",
              "      width: 32px;\n",
              "    }\n",
              "\n",
              "    .colab-df-convert:hover {\n",
              "      background-color: #E2EBFA;\n",
              "      box-shadow: 0px 1px 2px rgba(60, 64, 67, 0.3), 0px 1px 3px 1px rgba(60, 64, 67, 0.15);\n",
              "      fill: #174EA6;\n",
              "    }\n",
              "\n",
              "    [theme=dark] .colab-df-convert {\n",
              "      background-color: #3B4455;\n",
              "      fill: #D2E3FC;\n",
              "    }\n",
              "\n",
              "    [theme=dark] .colab-df-convert:hover {\n",
              "      background-color: #434B5C;\n",
              "      box-shadow: 0px 1px 3px 1px rgba(0, 0, 0, 0.15);\n",
              "      filter: drop-shadow(0px 1px 2px rgba(0, 0, 0, 0.3));\n",
              "      fill: #FFFFFF;\n",
              "    }\n",
              "  </style>\n",
              "\n",
              "      <script>\n",
              "        const buttonEl =\n",
              "          document.querySelector('#df-4a4c66c3-1196-44fa-a3ee-689106ba17c1 button.colab-df-convert');\n",
              "        buttonEl.style.display =\n",
              "          google.colab.kernel.accessAllowed ? 'block' : 'none';\n",
              "\n",
              "        async function convertToInteractive(key) {\n",
              "          const element = document.querySelector('#df-4a4c66c3-1196-44fa-a3ee-689106ba17c1');\n",
              "          const dataTable =\n",
              "            await google.colab.kernel.invokeFunction('convertToInteractive',\n",
              "                                                     [key], {});\n",
              "          if (!dataTable) return;\n",
              "\n",
              "          const docLinkHtml = 'Like what you see? Visit the ' +\n",
              "            '<a target=\"_blank\" href=https://colab.research.google.com/notebooks/data_table.ipynb>data table notebook</a>'\n",
              "            + ' to learn more about interactive tables.';\n",
              "          element.innerHTML = '';\n",
              "          dataTable['output_type'] = 'display_data';\n",
              "          await google.colab.output.renderOutput(dataTable, element);\n",
              "          const docLink = document.createElement('div');\n",
              "          docLink.innerHTML = docLinkHtml;\n",
              "          element.appendChild(docLink);\n",
              "        }\n",
              "      </script>\n",
              "    </div>\n",
              "  </div>\n",
              "  "
            ]
          },
          "metadata": {},
          "execution_count": 12
        }
      ],
      "source": [
        "users"
      ]
    },
    {
      "cell_type": "code",
      "execution_count": null,
      "metadata": {
        "colab": {
          "base_uri": "https://localhost:8080/"
        },
        "id": "viMhDnFvqyGJ",
        "outputId": "53a6f01b-6c9e-4a77-a357-9c1272b081e6"
      },
      "outputs": [
        {
          "output_type": "stream",
          "name": "stdout",
          "text": [
            "73\n"
          ]
        }
      ],
      "source": [
        "max_age = users.max()[1]\n",
        "print(max_age)"
      ]
    },
    {
      "cell_type": "code",
      "execution_count": null,
      "metadata": {
        "id": "AVGSligQsmTA"
      },
      "outputs": [],
      "source": [
        "#divide age by max age to normalize\n",
        "users.age = users.age.apply(lambda x: x / 73)\n",
        "#one hot encode gender and professions\n",
        "users = pd.get_dummies(users, columns = ['gender'])\n",
        "users = pd.get_dummies(users, columns = ['profession'])\n"
      ]
    },
    {
      "cell_type": "code",
      "execution_count": null,
      "metadata": {
        "colab": {
          "base_uri": "https://localhost:8080/",
          "height": 488
        },
        "id": "L48jt-j4uOem",
        "outputId": "a90719dc-61ac-4957-9906-6a99cc4f6af2"
      },
      "outputs": [
        {
          "output_type": "execute_result",
          "data": {
            "text/plain": [
              "     userId       age zipcode  gender_F  gender_M  profession_administrator  \\\n",
              "0         1  0.328767   85711         0         1                         0   \n",
              "1         2  0.726027   94043         1         0                         0   \n",
              "2         3  0.315068   32067         0         1                         0   \n",
              "3         4  0.328767   43537         0         1                         0   \n",
              "4         5  0.452055   15213         1         0                         0   \n",
              "..      ...       ...     ...       ...       ...                       ...   \n",
              "938     939  0.356164   33319         1         0                         0   \n",
              "939     940  0.438356   02215         0         1                         1   \n",
              "940     941  0.273973   97229         0         1                         0   \n",
              "941     942  0.657534   78209         1         0                         0   \n",
              "942     943  0.301370   77841         0         1                         0   \n",
              "\n",
              "     profession_artist  profession_doctor  profession_educator  \\\n",
              "0                    0                  0                    0   \n",
              "1                    0                  0                    0   \n",
              "2                    0                  0                    0   \n",
              "3                    0                  0                    0   \n",
              "4                    0                  0                    0   \n",
              "..                 ...                ...                  ...   \n",
              "938                  0                  0                    0   \n",
              "939                  0                  0                    0   \n",
              "940                  0                  0                    0   \n",
              "941                  0                  0                    0   \n",
              "942                  0                  0                    0   \n",
              "\n",
              "     profession_engineer  ...  profession_marketing  profession_none  \\\n",
              "0                      0  ...                     0                0   \n",
              "1                      0  ...                     0                0   \n",
              "2                      0  ...                     0                0   \n",
              "3                      0  ...                     0                0   \n",
              "4                      0  ...                     0                0   \n",
              "..                   ...  ...                   ...              ...   \n",
              "938                    0  ...                     0                0   \n",
              "939                    0  ...                     0                0   \n",
              "940                    0  ...                     0                0   \n",
              "941                    0  ...                     0                0   \n",
              "942                    0  ...                     0                0   \n",
              "\n",
              "     profession_other  profession_programmer  profession_retired  \\\n",
              "0                   0                      0                   0   \n",
              "1                   1                      0                   0   \n",
              "2                   0                      0                   0   \n",
              "3                   0                      0                   0   \n",
              "4                   1                      0                   0   \n",
              "..                ...                    ...                 ...   \n",
              "938                 0                      0                   0   \n",
              "939                 0                      0                   0   \n",
              "940                 0                      0                   0   \n",
              "941                 0                      0                   0   \n",
              "942                 0                      0                   0   \n",
              "\n",
              "     profession_salesman  profession_scientist  profession_student  \\\n",
              "0                      0                     0                   0   \n",
              "1                      0                     0                   0   \n",
              "2                      0                     0                   0   \n",
              "3                      0                     0                   0   \n",
              "4                      0                     0                   0   \n",
              "..                   ...                   ...                 ...   \n",
              "938                    0                     0                   1   \n",
              "939                    0                     0                   0   \n",
              "940                    0                     0                   1   \n",
              "941                    0                     0                   0   \n",
              "942                    0                     0                   1   \n",
              "\n",
              "     profession_technician  profession_writer  \n",
              "0                        1                  0  \n",
              "1                        0                  0  \n",
              "2                        0                  1  \n",
              "3                        1                  0  \n",
              "4                        0                  0  \n",
              "..                     ...                ...  \n",
              "938                      0                  0  \n",
              "939                      0                  0  \n",
              "940                      0                  0  \n",
              "941                      0                  0  \n",
              "942                      0                  0  \n",
              "\n",
              "[943 rows x 26 columns]"
            ],
            "text/html": [
              "\n",
              "  <div id=\"df-87033d2f-9311-457c-92a1-1b9f0743fb88\">\n",
              "    <div class=\"colab-df-container\">\n",
              "      <div>\n",
              "<style scoped>\n",
              "    .dataframe tbody tr th:only-of-type {\n",
              "        vertical-align: middle;\n",
              "    }\n",
              "\n",
              "    .dataframe tbody tr th {\n",
              "        vertical-align: top;\n",
              "    }\n",
              "\n",
              "    .dataframe thead th {\n",
              "        text-align: right;\n",
              "    }\n",
              "</style>\n",
              "<table border=\"1\" class=\"dataframe\">\n",
              "  <thead>\n",
              "    <tr style=\"text-align: right;\">\n",
              "      <th></th>\n",
              "      <th>userId</th>\n",
              "      <th>age</th>\n",
              "      <th>zipcode</th>\n",
              "      <th>gender_F</th>\n",
              "      <th>gender_M</th>\n",
              "      <th>profession_administrator</th>\n",
              "      <th>profession_artist</th>\n",
              "      <th>profession_doctor</th>\n",
              "      <th>profession_educator</th>\n",
              "      <th>profession_engineer</th>\n",
              "      <th>...</th>\n",
              "      <th>profession_marketing</th>\n",
              "      <th>profession_none</th>\n",
              "      <th>profession_other</th>\n",
              "      <th>profession_programmer</th>\n",
              "      <th>profession_retired</th>\n",
              "      <th>profession_salesman</th>\n",
              "      <th>profession_scientist</th>\n",
              "      <th>profession_student</th>\n",
              "      <th>profession_technician</th>\n",
              "      <th>profession_writer</th>\n",
              "    </tr>\n",
              "  </thead>\n",
              "  <tbody>\n",
              "    <tr>\n",
              "      <th>0</th>\n",
              "      <td>1</td>\n",
              "      <td>0.328767</td>\n",
              "      <td>85711</td>\n",
              "      <td>0</td>\n",
              "      <td>1</td>\n",
              "      <td>0</td>\n",
              "      <td>0</td>\n",
              "      <td>0</td>\n",
              "      <td>0</td>\n",
              "      <td>0</td>\n",
              "      <td>...</td>\n",
              "      <td>0</td>\n",
              "      <td>0</td>\n",
              "      <td>0</td>\n",
              "      <td>0</td>\n",
              "      <td>0</td>\n",
              "      <td>0</td>\n",
              "      <td>0</td>\n",
              "      <td>0</td>\n",
              "      <td>1</td>\n",
              "      <td>0</td>\n",
              "    </tr>\n",
              "    <tr>\n",
              "      <th>1</th>\n",
              "      <td>2</td>\n",
              "      <td>0.726027</td>\n",
              "      <td>94043</td>\n",
              "      <td>1</td>\n",
              "      <td>0</td>\n",
              "      <td>0</td>\n",
              "      <td>0</td>\n",
              "      <td>0</td>\n",
              "      <td>0</td>\n",
              "      <td>0</td>\n",
              "      <td>...</td>\n",
              "      <td>0</td>\n",
              "      <td>0</td>\n",
              "      <td>1</td>\n",
              "      <td>0</td>\n",
              "      <td>0</td>\n",
              "      <td>0</td>\n",
              "      <td>0</td>\n",
              "      <td>0</td>\n",
              "      <td>0</td>\n",
              "      <td>0</td>\n",
              "    </tr>\n",
              "    <tr>\n",
              "      <th>2</th>\n",
              "      <td>3</td>\n",
              "      <td>0.315068</td>\n",
              "      <td>32067</td>\n",
              "      <td>0</td>\n",
              "      <td>1</td>\n",
              "      <td>0</td>\n",
              "      <td>0</td>\n",
              "      <td>0</td>\n",
              "      <td>0</td>\n",
              "      <td>0</td>\n",
              "      <td>...</td>\n",
              "      <td>0</td>\n",
              "      <td>0</td>\n",
              "      <td>0</td>\n",
              "      <td>0</td>\n",
              "      <td>0</td>\n",
              "      <td>0</td>\n",
              "      <td>0</td>\n",
              "      <td>0</td>\n",
              "      <td>0</td>\n",
              "      <td>1</td>\n",
              "    </tr>\n",
              "    <tr>\n",
              "      <th>3</th>\n",
              "      <td>4</td>\n",
              "      <td>0.328767</td>\n",
              "      <td>43537</td>\n",
              "      <td>0</td>\n",
              "      <td>1</td>\n",
              "      <td>0</td>\n",
              "      <td>0</td>\n",
              "      <td>0</td>\n",
              "      <td>0</td>\n",
              "      <td>0</td>\n",
              "      <td>...</td>\n",
              "      <td>0</td>\n",
              "      <td>0</td>\n",
              "      <td>0</td>\n",
              "      <td>0</td>\n",
              "      <td>0</td>\n",
              "      <td>0</td>\n",
              "      <td>0</td>\n",
              "      <td>0</td>\n",
              "      <td>1</td>\n",
              "      <td>0</td>\n",
              "    </tr>\n",
              "    <tr>\n",
              "      <th>4</th>\n",
              "      <td>5</td>\n",
              "      <td>0.452055</td>\n",
              "      <td>15213</td>\n",
              "      <td>1</td>\n",
              "      <td>0</td>\n",
              "      <td>0</td>\n",
              "      <td>0</td>\n",
              "      <td>0</td>\n",
              "      <td>0</td>\n",
              "      <td>0</td>\n",
              "      <td>...</td>\n",
              "      <td>0</td>\n",
              "      <td>0</td>\n",
              "      <td>1</td>\n",
              "      <td>0</td>\n",
              "      <td>0</td>\n",
              "      <td>0</td>\n",
              "      <td>0</td>\n",
              "      <td>0</td>\n",
              "      <td>0</td>\n",
              "      <td>0</td>\n",
              "    </tr>\n",
              "    <tr>\n",
              "      <th>...</th>\n",
              "      <td>...</td>\n",
              "      <td>...</td>\n",
              "      <td>...</td>\n",
              "      <td>...</td>\n",
              "      <td>...</td>\n",
              "      <td>...</td>\n",
              "      <td>...</td>\n",
              "      <td>...</td>\n",
              "      <td>...</td>\n",
              "      <td>...</td>\n",
              "      <td>...</td>\n",
              "      <td>...</td>\n",
              "      <td>...</td>\n",
              "      <td>...</td>\n",
              "      <td>...</td>\n",
              "      <td>...</td>\n",
              "      <td>...</td>\n",
              "      <td>...</td>\n",
              "      <td>...</td>\n",
              "      <td>...</td>\n",
              "      <td>...</td>\n",
              "    </tr>\n",
              "    <tr>\n",
              "      <th>938</th>\n",
              "      <td>939</td>\n",
              "      <td>0.356164</td>\n",
              "      <td>33319</td>\n",
              "      <td>1</td>\n",
              "      <td>0</td>\n",
              "      <td>0</td>\n",
              "      <td>0</td>\n",
              "      <td>0</td>\n",
              "      <td>0</td>\n",
              "      <td>0</td>\n",
              "      <td>...</td>\n",
              "      <td>0</td>\n",
              "      <td>0</td>\n",
              "      <td>0</td>\n",
              "      <td>0</td>\n",
              "      <td>0</td>\n",
              "      <td>0</td>\n",
              "      <td>0</td>\n",
              "      <td>1</td>\n",
              "      <td>0</td>\n",
              "      <td>0</td>\n",
              "    </tr>\n",
              "    <tr>\n",
              "      <th>939</th>\n",
              "      <td>940</td>\n",
              "      <td>0.438356</td>\n",
              "      <td>02215</td>\n",
              "      <td>0</td>\n",
              "      <td>1</td>\n",
              "      <td>1</td>\n",
              "      <td>0</td>\n",
              "      <td>0</td>\n",
              "      <td>0</td>\n",
              "      <td>0</td>\n",
              "      <td>...</td>\n",
              "      <td>0</td>\n",
              "      <td>0</td>\n",
              "      <td>0</td>\n",
              "      <td>0</td>\n",
              "      <td>0</td>\n",
              "      <td>0</td>\n",
              "      <td>0</td>\n",
              "      <td>0</td>\n",
              "      <td>0</td>\n",
              "      <td>0</td>\n",
              "    </tr>\n",
              "    <tr>\n",
              "      <th>940</th>\n",
              "      <td>941</td>\n",
              "      <td>0.273973</td>\n",
              "      <td>97229</td>\n",
              "      <td>0</td>\n",
              "      <td>1</td>\n",
              "      <td>0</td>\n",
              "      <td>0</td>\n",
              "      <td>0</td>\n",
              "      <td>0</td>\n",
              "      <td>0</td>\n",
              "      <td>...</td>\n",
              "      <td>0</td>\n",
              "      <td>0</td>\n",
              "      <td>0</td>\n",
              "      <td>0</td>\n",
              "      <td>0</td>\n",
              "      <td>0</td>\n",
              "      <td>0</td>\n",
              "      <td>1</td>\n",
              "      <td>0</td>\n",
              "      <td>0</td>\n",
              "    </tr>\n",
              "    <tr>\n",
              "      <th>941</th>\n",
              "      <td>942</td>\n",
              "      <td>0.657534</td>\n",
              "      <td>78209</td>\n",
              "      <td>1</td>\n",
              "      <td>0</td>\n",
              "      <td>0</td>\n",
              "      <td>0</td>\n",
              "      <td>0</td>\n",
              "      <td>0</td>\n",
              "      <td>0</td>\n",
              "      <td>...</td>\n",
              "      <td>0</td>\n",
              "      <td>0</td>\n",
              "      <td>0</td>\n",
              "      <td>0</td>\n",
              "      <td>0</td>\n",
              "      <td>0</td>\n",
              "      <td>0</td>\n",
              "      <td>0</td>\n",
              "      <td>0</td>\n",
              "      <td>0</td>\n",
              "    </tr>\n",
              "    <tr>\n",
              "      <th>942</th>\n",
              "      <td>943</td>\n",
              "      <td>0.301370</td>\n",
              "      <td>77841</td>\n",
              "      <td>0</td>\n",
              "      <td>1</td>\n",
              "      <td>0</td>\n",
              "      <td>0</td>\n",
              "      <td>0</td>\n",
              "      <td>0</td>\n",
              "      <td>0</td>\n",
              "      <td>...</td>\n",
              "      <td>0</td>\n",
              "      <td>0</td>\n",
              "      <td>0</td>\n",
              "      <td>0</td>\n",
              "      <td>0</td>\n",
              "      <td>0</td>\n",
              "      <td>0</td>\n",
              "      <td>1</td>\n",
              "      <td>0</td>\n",
              "      <td>0</td>\n",
              "    </tr>\n",
              "  </tbody>\n",
              "</table>\n",
              "<p>943 rows × 26 columns</p>\n",
              "</div>\n",
              "      <button class=\"colab-df-convert\" onclick=\"convertToInteractive('df-87033d2f-9311-457c-92a1-1b9f0743fb88')\"\n",
              "              title=\"Convert this dataframe to an interactive table.\"\n",
              "              style=\"display:none;\">\n",
              "        \n",
              "  <svg xmlns=\"http://www.w3.org/2000/svg\" height=\"24px\"viewBox=\"0 0 24 24\"\n",
              "       width=\"24px\">\n",
              "    <path d=\"M0 0h24v24H0V0z\" fill=\"none\"/>\n",
              "    <path d=\"M18.56 5.44l.94 2.06.94-2.06 2.06-.94-2.06-.94-.94-2.06-.94 2.06-2.06.94zm-11 1L8.5 8.5l.94-2.06 2.06-.94-2.06-.94L8.5 2.5l-.94 2.06-2.06.94zm10 10l.94 2.06.94-2.06 2.06-.94-2.06-.94-.94-2.06-.94 2.06-2.06.94z\"/><path d=\"M17.41 7.96l-1.37-1.37c-.4-.4-.92-.59-1.43-.59-.52 0-1.04.2-1.43.59L10.3 9.45l-7.72 7.72c-.78.78-.78 2.05 0 2.83L4 21.41c.39.39.9.59 1.41.59.51 0 1.02-.2 1.41-.59l7.78-7.78 2.81-2.81c.8-.78.8-2.07 0-2.86zM5.41 20L4 18.59l7.72-7.72 1.47 1.35L5.41 20z\"/>\n",
              "  </svg>\n",
              "      </button>\n",
              "      \n",
              "  <style>\n",
              "    .colab-df-container {\n",
              "      display:flex;\n",
              "      flex-wrap:wrap;\n",
              "      gap: 12px;\n",
              "    }\n",
              "\n",
              "    .colab-df-convert {\n",
              "      background-color: #E8F0FE;\n",
              "      border: none;\n",
              "      border-radius: 50%;\n",
              "      cursor: pointer;\n",
              "      display: none;\n",
              "      fill: #1967D2;\n",
              "      height: 32px;\n",
              "      padding: 0 0 0 0;\n",
              "      width: 32px;\n",
              "    }\n",
              "\n",
              "    .colab-df-convert:hover {\n",
              "      background-color: #E2EBFA;\n",
              "      box-shadow: 0px 1px 2px rgba(60, 64, 67, 0.3), 0px 1px 3px 1px rgba(60, 64, 67, 0.15);\n",
              "      fill: #174EA6;\n",
              "    }\n",
              "\n",
              "    [theme=dark] .colab-df-convert {\n",
              "      background-color: #3B4455;\n",
              "      fill: #D2E3FC;\n",
              "    }\n",
              "\n",
              "    [theme=dark] .colab-df-convert:hover {\n",
              "      background-color: #434B5C;\n",
              "      box-shadow: 0px 1px 3px 1px rgba(0, 0, 0, 0.15);\n",
              "      filter: drop-shadow(0px 1px 2px rgba(0, 0, 0, 0.3));\n",
              "      fill: #FFFFFF;\n",
              "    }\n",
              "  </style>\n",
              "\n",
              "      <script>\n",
              "        const buttonEl =\n",
              "          document.querySelector('#df-87033d2f-9311-457c-92a1-1b9f0743fb88 button.colab-df-convert');\n",
              "        buttonEl.style.display =\n",
              "          google.colab.kernel.accessAllowed ? 'block' : 'none';\n",
              "\n",
              "        async function convertToInteractive(key) {\n",
              "          const element = document.querySelector('#df-87033d2f-9311-457c-92a1-1b9f0743fb88');\n",
              "          const dataTable =\n",
              "            await google.colab.kernel.invokeFunction('convertToInteractive',\n",
              "                                                     [key], {});\n",
              "          if (!dataTable) return;\n",
              "\n",
              "          const docLinkHtml = 'Like what you see? Visit the ' +\n",
              "            '<a target=\"_blank\" href=https://colab.research.google.com/notebooks/data_table.ipynb>data table notebook</a>'\n",
              "            + ' to learn more about interactive tables.';\n",
              "          element.innerHTML = '';\n",
              "          dataTable['output_type'] = 'display_data';\n",
              "          await google.colab.output.renderOutput(dataTable, element);\n",
              "          const docLink = document.createElement('div');\n",
              "          docLink.innerHTML = docLinkHtml;\n",
              "          element.appendChild(docLink);\n",
              "        }\n",
              "      </script>\n",
              "    </div>\n",
              "  </div>\n",
              "  "
            ]
          },
          "metadata": {},
          "execution_count": 15
        }
      ],
      "source": [
        "users"
      ]
    },
    {
      "cell_type": "code",
      "execution_count": null,
      "metadata": {
        "colab": {
          "base_uri": "https://localhost:8080/",
          "height": 488
        },
        "id": "DCNNC2Zdww8d",
        "outputId": "72c0e018-e783-4885-9c34-c764271de32a"
      },
      "outputs": [
        {
          "output_type": "execute_result",
          "data": {
            "text/plain": [
              "     userId       age zipcode  gender_F  gender_M  profession_administrator  \\\n",
              "0         1  0.328767   85711         0         1                         0   \n",
              "1         2  0.726027   94043         1         0                         0   \n",
              "2         3  0.315068   32067         0         1                         0   \n",
              "3         4  0.328767   43537         0         1                         0   \n",
              "4         5  0.452055   15213         1         0                         0   \n",
              "..      ...       ...     ...       ...       ...                       ...   \n",
              "938     939  0.356164   33319         1         0                         0   \n",
              "939     940  0.438356   02215         0         1                         1   \n",
              "940     941  0.273973   97229         0         1                         0   \n",
              "941     942  0.657534   78209         1         0                         0   \n",
              "942     943  0.301370   77841         0         1                         0   \n",
              "\n",
              "     profession_artist  profession_doctor  profession_educator  \\\n",
              "0                    0                  0                    0   \n",
              "1                    0                  0                    0   \n",
              "2                    0                  0                    0   \n",
              "3                    0                  0                    0   \n",
              "4                    0                  0                    0   \n",
              "..                 ...                ...                  ...   \n",
              "938                  0                  0                    0   \n",
              "939                  0                  0                    0   \n",
              "940                  0                  0                    0   \n",
              "941                  0                  0                    0   \n",
              "942                  0                  0                    0   \n",
              "\n",
              "     profession_engineer  ...  profession_marketing  profession_none  \\\n",
              "0                      0  ...                     0                0   \n",
              "1                      0  ...                     0                0   \n",
              "2                      0  ...                     0                0   \n",
              "3                      0  ...                     0                0   \n",
              "4                      0  ...                     0                0   \n",
              "..                   ...  ...                   ...              ...   \n",
              "938                    0  ...                     0                0   \n",
              "939                    0  ...                     0                0   \n",
              "940                    0  ...                     0                0   \n",
              "941                    0  ...                     0                0   \n",
              "942                    0  ...                     0                0   \n",
              "\n",
              "     profession_other  profession_programmer  profession_retired  \\\n",
              "0                   0                      0                   0   \n",
              "1                   1                      0                   0   \n",
              "2                   0                      0                   0   \n",
              "3                   0                      0                   0   \n",
              "4                   1                      0                   0   \n",
              "..                ...                    ...                 ...   \n",
              "938                 0                      0                   0   \n",
              "939                 0                      0                   0   \n",
              "940                 0                      0                   0   \n",
              "941                 0                      0                   0   \n",
              "942                 0                      0                   0   \n",
              "\n",
              "     profession_salesman  profession_scientist  profession_student  \\\n",
              "0                      0                     0                   0   \n",
              "1                      0                     0                   0   \n",
              "2                      0                     0                   0   \n",
              "3                      0                     0                   0   \n",
              "4                      0                     0                   0   \n",
              "..                   ...                   ...                 ...   \n",
              "938                    0                     0                   1   \n",
              "939                    0                     0                   0   \n",
              "940                    0                     0                   1   \n",
              "941                    0                     0                   0   \n",
              "942                    0                     0                   1   \n",
              "\n",
              "     profession_technician  profession_writer  \n",
              "0                        1                  0  \n",
              "1                        0                  0  \n",
              "2                        0                  1  \n",
              "3                        1                  0  \n",
              "4                        0                  0  \n",
              "..                     ...                ...  \n",
              "938                      0                  0  \n",
              "939                      0                  0  \n",
              "940                      0                  0  \n",
              "941                      0                  0  \n",
              "942                      0                  0  \n",
              "\n",
              "[943 rows x 26 columns]"
            ],
            "text/html": [
              "\n",
              "  <div id=\"df-24e51a0e-8be9-4eb3-ae78-c9e8f6f49fc3\">\n",
              "    <div class=\"colab-df-container\">\n",
              "      <div>\n",
              "<style scoped>\n",
              "    .dataframe tbody tr th:only-of-type {\n",
              "        vertical-align: middle;\n",
              "    }\n",
              "\n",
              "    .dataframe tbody tr th {\n",
              "        vertical-align: top;\n",
              "    }\n",
              "\n",
              "    .dataframe thead th {\n",
              "        text-align: right;\n",
              "    }\n",
              "</style>\n",
              "<table border=\"1\" class=\"dataframe\">\n",
              "  <thead>\n",
              "    <tr style=\"text-align: right;\">\n",
              "      <th></th>\n",
              "      <th>userId</th>\n",
              "      <th>age</th>\n",
              "      <th>zipcode</th>\n",
              "      <th>gender_F</th>\n",
              "      <th>gender_M</th>\n",
              "      <th>profession_administrator</th>\n",
              "      <th>profession_artist</th>\n",
              "      <th>profession_doctor</th>\n",
              "      <th>profession_educator</th>\n",
              "      <th>profession_engineer</th>\n",
              "      <th>...</th>\n",
              "      <th>profession_marketing</th>\n",
              "      <th>profession_none</th>\n",
              "      <th>profession_other</th>\n",
              "      <th>profession_programmer</th>\n",
              "      <th>profession_retired</th>\n",
              "      <th>profession_salesman</th>\n",
              "      <th>profession_scientist</th>\n",
              "      <th>profession_student</th>\n",
              "      <th>profession_technician</th>\n",
              "      <th>profession_writer</th>\n",
              "    </tr>\n",
              "  </thead>\n",
              "  <tbody>\n",
              "    <tr>\n",
              "      <th>0</th>\n",
              "      <td>1</td>\n",
              "      <td>0.328767</td>\n",
              "      <td>85711</td>\n",
              "      <td>0</td>\n",
              "      <td>1</td>\n",
              "      <td>0</td>\n",
              "      <td>0</td>\n",
              "      <td>0</td>\n",
              "      <td>0</td>\n",
              "      <td>0</td>\n",
              "      <td>...</td>\n",
              "      <td>0</td>\n",
              "      <td>0</td>\n",
              "      <td>0</td>\n",
              "      <td>0</td>\n",
              "      <td>0</td>\n",
              "      <td>0</td>\n",
              "      <td>0</td>\n",
              "      <td>0</td>\n",
              "      <td>1</td>\n",
              "      <td>0</td>\n",
              "    </tr>\n",
              "    <tr>\n",
              "      <th>1</th>\n",
              "      <td>2</td>\n",
              "      <td>0.726027</td>\n",
              "      <td>94043</td>\n",
              "      <td>1</td>\n",
              "      <td>0</td>\n",
              "      <td>0</td>\n",
              "      <td>0</td>\n",
              "      <td>0</td>\n",
              "      <td>0</td>\n",
              "      <td>0</td>\n",
              "      <td>...</td>\n",
              "      <td>0</td>\n",
              "      <td>0</td>\n",
              "      <td>1</td>\n",
              "      <td>0</td>\n",
              "      <td>0</td>\n",
              "      <td>0</td>\n",
              "      <td>0</td>\n",
              "      <td>0</td>\n",
              "      <td>0</td>\n",
              "      <td>0</td>\n",
              "    </tr>\n",
              "    <tr>\n",
              "      <th>2</th>\n",
              "      <td>3</td>\n",
              "      <td>0.315068</td>\n",
              "      <td>32067</td>\n",
              "      <td>0</td>\n",
              "      <td>1</td>\n",
              "      <td>0</td>\n",
              "      <td>0</td>\n",
              "      <td>0</td>\n",
              "      <td>0</td>\n",
              "      <td>0</td>\n",
              "      <td>...</td>\n",
              "      <td>0</td>\n",
              "      <td>0</td>\n",
              "      <td>0</td>\n",
              "      <td>0</td>\n",
              "      <td>0</td>\n",
              "      <td>0</td>\n",
              "      <td>0</td>\n",
              "      <td>0</td>\n",
              "      <td>0</td>\n",
              "      <td>1</td>\n",
              "    </tr>\n",
              "    <tr>\n",
              "      <th>3</th>\n",
              "      <td>4</td>\n",
              "      <td>0.328767</td>\n",
              "      <td>43537</td>\n",
              "      <td>0</td>\n",
              "      <td>1</td>\n",
              "      <td>0</td>\n",
              "      <td>0</td>\n",
              "      <td>0</td>\n",
              "      <td>0</td>\n",
              "      <td>0</td>\n",
              "      <td>...</td>\n",
              "      <td>0</td>\n",
              "      <td>0</td>\n",
              "      <td>0</td>\n",
              "      <td>0</td>\n",
              "      <td>0</td>\n",
              "      <td>0</td>\n",
              "      <td>0</td>\n",
              "      <td>0</td>\n",
              "      <td>1</td>\n",
              "      <td>0</td>\n",
              "    </tr>\n",
              "    <tr>\n",
              "      <th>4</th>\n",
              "      <td>5</td>\n",
              "      <td>0.452055</td>\n",
              "      <td>15213</td>\n",
              "      <td>1</td>\n",
              "      <td>0</td>\n",
              "      <td>0</td>\n",
              "      <td>0</td>\n",
              "      <td>0</td>\n",
              "      <td>0</td>\n",
              "      <td>0</td>\n",
              "      <td>...</td>\n",
              "      <td>0</td>\n",
              "      <td>0</td>\n",
              "      <td>1</td>\n",
              "      <td>0</td>\n",
              "      <td>0</td>\n",
              "      <td>0</td>\n",
              "      <td>0</td>\n",
              "      <td>0</td>\n",
              "      <td>0</td>\n",
              "      <td>0</td>\n",
              "    </tr>\n",
              "    <tr>\n",
              "      <th>...</th>\n",
              "      <td>...</td>\n",
              "      <td>...</td>\n",
              "      <td>...</td>\n",
              "      <td>...</td>\n",
              "      <td>...</td>\n",
              "      <td>...</td>\n",
              "      <td>...</td>\n",
              "      <td>...</td>\n",
              "      <td>...</td>\n",
              "      <td>...</td>\n",
              "      <td>...</td>\n",
              "      <td>...</td>\n",
              "      <td>...</td>\n",
              "      <td>...</td>\n",
              "      <td>...</td>\n",
              "      <td>...</td>\n",
              "      <td>...</td>\n",
              "      <td>...</td>\n",
              "      <td>...</td>\n",
              "      <td>...</td>\n",
              "      <td>...</td>\n",
              "    </tr>\n",
              "    <tr>\n",
              "      <th>938</th>\n",
              "      <td>939</td>\n",
              "      <td>0.356164</td>\n",
              "      <td>33319</td>\n",
              "      <td>1</td>\n",
              "      <td>0</td>\n",
              "      <td>0</td>\n",
              "      <td>0</td>\n",
              "      <td>0</td>\n",
              "      <td>0</td>\n",
              "      <td>0</td>\n",
              "      <td>...</td>\n",
              "      <td>0</td>\n",
              "      <td>0</td>\n",
              "      <td>0</td>\n",
              "      <td>0</td>\n",
              "      <td>0</td>\n",
              "      <td>0</td>\n",
              "      <td>0</td>\n",
              "      <td>1</td>\n",
              "      <td>0</td>\n",
              "      <td>0</td>\n",
              "    </tr>\n",
              "    <tr>\n",
              "      <th>939</th>\n",
              "      <td>940</td>\n",
              "      <td>0.438356</td>\n",
              "      <td>02215</td>\n",
              "      <td>0</td>\n",
              "      <td>1</td>\n",
              "      <td>1</td>\n",
              "      <td>0</td>\n",
              "      <td>0</td>\n",
              "      <td>0</td>\n",
              "      <td>0</td>\n",
              "      <td>...</td>\n",
              "      <td>0</td>\n",
              "      <td>0</td>\n",
              "      <td>0</td>\n",
              "      <td>0</td>\n",
              "      <td>0</td>\n",
              "      <td>0</td>\n",
              "      <td>0</td>\n",
              "      <td>0</td>\n",
              "      <td>0</td>\n",
              "      <td>0</td>\n",
              "    </tr>\n",
              "    <tr>\n",
              "      <th>940</th>\n",
              "      <td>941</td>\n",
              "      <td>0.273973</td>\n",
              "      <td>97229</td>\n",
              "      <td>0</td>\n",
              "      <td>1</td>\n",
              "      <td>0</td>\n",
              "      <td>0</td>\n",
              "      <td>0</td>\n",
              "      <td>0</td>\n",
              "      <td>0</td>\n",
              "      <td>...</td>\n",
              "      <td>0</td>\n",
              "      <td>0</td>\n",
              "      <td>0</td>\n",
              "      <td>0</td>\n",
              "      <td>0</td>\n",
              "      <td>0</td>\n",
              "      <td>0</td>\n",
              "      <td>1</td>\n",
              "      <td>0</td>\n",
              "      <td>0</td>\n",
              "    </tr>\n",
              "    <tr>\n",
              "      <th>941</th>\n",
              "      <td>942</td>\n",
              "      <td>0.657534</td>\n",
              "      <td>78209</td>\n",
              "      <td>1</td>\n",
              "      <td>0</td>\n",
              "      <td>0</td>\n",
              "      <td>0</td>\n",
              "      <td>0</td>\n",
              "      <td>0</td>\n",
              "      <td>0</td>\n",
              "      <td>...</td>\n",
              "      <td>0</td>\n",
              "      <td>0</td>\n",
              "      <td>0</td>\n",
              "      <td>0</td>\n",
              "      <td>0</td>\n",
              "      <td>0</td>\n",
              "      <td>0</td>\n",
              "      <td>0</td>\n",
              "      <td>0</td>\n",
              "      <td>0</td>\n",
              "    </tr>\n",
              "    <tr>\n",
              "      <th>942</th>\n",
              "      <td>943</td>\n",
              "      <td>0.301370</td>\n",
              "      <td>77841</td>\n",
              "      <td>0</td>\n",
              "      <td>1</td>\n",
              "      <td>0</td>\n",
              "      <td>0</td>\n",
              "      <td>0</td>\n",
              "      <td>0</td>\n",
              "      <td>0</td>\n",
              "      <td>...</td>\n",
              "      <td>0</td>\n",
              "      <td>0</td>\n",
              "      <td>0</td>\n",
              "      <td>0</td>\n",
              "      <td>0</td>\n",
              "      <td>0</td>\n",
              "      <td>0</td>\n",
              "      <td>1</td>\n",
              "      <td>0</td>\n",
              "      <td>0</td>\n",
              "    </tr>\n",
              "  </tbody>\n",
              "</table>\n",
              "<p>943 rows × 26 columns</p>\n",
              "</div>\n",
              "      <button class=\"colab-df-convert\" onclick=\"convertToInteractive('df-24e51a0e-8be9-4eb3-ae78-c9e8f6f49fc3')\"\n",
              "              title=\"Convert this dataframe to an interactive table.\"\n",
              "              style=\"display:none;\">\n",
              "        \n",
              "  <svg xmlns=\"http://www.w3.org/2000/svg\" height=\"24px\"viewBox=\"0 0 24 24\"\n",
              "       width=\"24px\">\n",
              "    <path d=\"M0 0h24v24H0V0z\" fill=\"none\"/>\n",
              "    <path d=\"M18.56 5.44l.94 2.06.94-2.06 2.06-.94-2.06-.94-.94-2.06-.94 2.06-2.06.94zm-11 1L8.5 8.5l.94-2.06 2.06-.94-2.06-.94L8.5 2.5l-.94 2.06-2.06.94zm10 10l.94 2.06.94-2.06 2.06-.94-2.06-.94-.94-2.06-.94 2.06-2.06.94z\"/><path d=\"M17.41 7.96l-1.37-1.37c-.4-.4-.92-.59-1.43-.59-.52 0-1.04.2-1.43.59L10.3 9.45l-7.72 7.72c-.78.78-.78 2.05 0 2.83L4 21.41c.39.39.9.59 1.41.59.51 0 1.02-.2 1.41-.59l7.78-7.78 2.81-2.81c.8-.78.8-2.07 0-2.86zM5.41 20L4 18.59l7.72-7.72 1.47 1.35L5.41 20z\"/>\n",
              "  </svg>\n",
              "      </button>\n",
              "      \n",
              "  <style>\n",
              "    .colab-df-container {\n",
              "      display:flex;\n",
              "      flex-wrap:wrap;\n",
              "      gap: 12px;\n",
              "    }\n",
              "\n",
              "    .colab-df-convert {\n",
              "      background-color: #E8F0FE;\n",
              "      border: none;\n",
              "      border-radius: 50%;\n",
              "      cursor: pointer;\n",
              "      display: none;\n",
              "      fill: #1967D2;\n",
              "      height: 32px;\n",
              "      padding: 0 0 0 0;\n",
              "      width: 32px;\n",
              "    }\n",
              "\n",
              "    .colab-df-convert:hover {\n",
              "      background-color: #E2EBFA;\n",
              "      box-shadow: 0px 1px 2px rgba(60, 64, 67, 0.3), 0px 1px 3px 1px rgba(60, 64, 67, 0.15);\n",
              "      fill: #174EA6;\n",
              "    }\n",
              "\n",
              "    [theme=dark] .colab-df-convert {\n",
              "      background-color: #3B4455;\n",
              "      fill: #D2E3FC;\n",
              "    }\n",
              "\n",
              "    [theme=dark] .colab-df-convert:hover {\n",
              "      background-color: #434B5C;\n",
              "      box-shadow: 0px 1px 3px 1px rgba(0, 0, 0, 0.15);\n",
              "      filter: drop-shadow(0px 1px 2px rgba(0, 0, 0, 0.3));\n",
              "      fill: #FFFFFF;\n",
              "    }\n",
              "  </style>\n",
              "\n",
              "      <script>\n",
              "        const buttonEl =\n",
              "          document.querySelector('#df-24e51a0e-8be9-4eb3-ae78-c9e8f6f49fc3 button.colab-df-convert');\n",
              "        buttonEl.style.display =\n",
              "          google.colab.kernel.accessAllowed ? 'block' : 'none';\n",
              "\n",
              "        async function convertToInteractive(key) {\n",
              "          const element = document.querySelector('#df-24e51a0e-8be9-4eb3-ae78-c9e8f6f49fc3');\n",
              "          const dataTable =\n",
              "            await google.colab.kernel.invokeFunction('convertToInteractive',\n",
              "                                                     [key], {});\n",
              "          if (!dataTable) return;\n",
              "\n",
              "          const docLinkHtml = 'Like what you see? Visit the ' +\n",
              "            '<a target=\"_blank\" href=https://colab.research.google.com/notebooks/data_table.ipynb>data table notebook</a>'\n",
              "            + ' to learn more about interactive tables.';\n",
              "          element.innerHTML = '';\n",
              "          dataTable['output_type'] = 'display_data';\n",
              "          await google.colab.output.renderOutput(dataTable, element);\n",
              "          const docLink = document.createElement('div');\n",
              "          docLink.innerHTML = docLinkHtml;\n",
              "          element.appendChild(docLink);\n",
              "        }\n",
              "      </script>\n",
              "    </div>\n",
              "  </div>\n",
              "  "
            ]
          },
          "metadata": {},
          "execution_count": 16
        }
      ],
      "source": [
        "users_list = pd.DataFrame (users, columns = ['userId', 'age', 'zipcode', 'gender_F', 'gender_M', 'profession_administrator','profession_artist', 'profession_doctor', 'profession_educator', 'profession_engineer', 'profession_entertainment',  'profession_executive', 'profession_healthcare',  'profession_homemaker',  'profession_lawyer',  'profession_librarian', 'profession_marketing', 'profession_none', 'profession_other', 'profession_programmer', 'profession_retired', 'profession_salesman',  'profession_scientist', 'profession_student', 'profession_technician', 'profession_writer' ])\n",
        "\n",
        "users_list"
      ]
    },
    {
      "cell_type": "markdown",
      "metadata": {
        "id": "E_04gPaM1veM"
      },
      "source": [
        "# **Test Dataset**\n",
        "\n",
        "Below is the u1.test which will be used as a final test."
      ]
    },
    {
      "cell_type": "code",
      "execution_count": null,
      "metadata": {
        "id": "MRbUfFXXp3Nc"
      },
      "outputs": [],
      "source": [
        "test = pd.read_csv(\"http://files.grouplens.org/datasets/movielens/ml-100k/u1.test\",sep='\\t',header=None, names=[\"userId\", \"movieId\", \"rating\", \"timestamp\"])"
      ]
    },
    {
      "cell_type": "code",
      "execution_count": null,
      "metadata": {
        "colab": {
          "base_uri": "https://localhost:8080/",
          "height": 424
        },
        "id": "DKfoIeRvp6WQ",
        "outputId": "82ebd7dd-f6f4-4dc8-9cc8-128f73321624"
      },
      "outputs": [
        {
          "output_type": "execute_result",
          "data": {
            "text/plain": [
              "       userId  movieId  rating  timestamp\n",
              "0           1        6       5  887431973\n",
              "1           1       10       3  875693118\n",
              "2           1       12       5  878542960\n",
              "3           1       14       5  874965706\n",
              "4           1       17       3  875073198\n",
              "...       ...      ...     ...        ...\n",
              "19995     458      648       4  886395899\n",
              "19996     458     1101       4  886397931\n",
              "19997     459      934       3  879563639\n",
              "19998     460       10       3  882912371\n",
              "19999     462      682       5  886365231\n",
              "\n",
              "[20000 rows x 4 columns]"
            ],
            "text/html": [
              "\n",
              "  <div id=\"df-b0b6548e-979f-4f91-894b-e406dd1f4284\">\n",
              "    <div class=\"colab-df-container\">\n",
              "      <div>\n",
              "<style scoped>\n",
              "    .dataframe tbody tr th:only-of-type {\n",
              "        vertical-align: middle;\n",
              "    }\n",
              "\n",
              "    .dataframe tbody tr th {\n",
              "        vertical-align: top;\n",
              "    }\n",
              "\n",
              "    .dataframe thead th {\n",
              "        text-align: right;\n",
              "    }\n",
              "</style>\n",
              "<table border=\"1\" class=\"dataframe\">\n",
              "  <thead>\n",
              "    <tr style=\"text-align: right;\">\n",
              "      <th></th>\n",
              "      <th>userId</th>\n",
              "      <th>movieId</th>\n",
              "      <th>rating</th>\n",
              "      <th>timestamp</th>\n",
              "    </tr>\n",
              "  </thead>\n",
              "  <tbody>\n",
              "    <tr>\n",
              "      <th>0</th>\n",
              "      <td>1</td>\n",
              "      <td>6</td>\n",
              "      <td>5</td>\n",
              "      <td>887431973</td>\n",
              "    </tr>\n",
              "    <tr>\n",
              "      <th>1</th>\n",
              "      <td>1</td>\n",
              "      <td>10</td>\n",
              "      <td>3</td>\n",
              "      <td>875693118</td>\n",
              "    </tr>\n",
              "    <tr>\n",
              "      <th>2</th>\n",
              "      <td>1</td>\n",
              "      <td>12</td>\n",
              "      <td>5</td>\n",
              "      <td>878542960</td>\n",
              "    </tr>\n",
              "    <tr>\n",
              "      <th>3</th>\n",
              "      <td>1</td>\n",
              "      <td>14</td>\n",
              "      <td>5</td>\n",
              "      <td>874965706</td>\n",
              "    </tr>\n",
              "    <tr>\n",
              "      <th>4</th>\n",
              "      <td>1</td>\n",
              "      <td>17</td>\n",
              "      <td>3</td>\n",
              "      <td>875073198</td>\n",
              "    </tr>\n",
              "    <tr>\n",
              "      <th>...</th>\n",
              "      <td>...</td>\n",
              "      <td>...</td>\n",
              "      <td>...</td>\n",
              "      <td>...</td>\n",
              "    </tr>\n",
              "    <tr>\n",
              "      <th>19995</th>\n",
              "      <td>458</td>\n",
              "      <td>648</td>\n",
              "      <td>4</td>\n",
              "      <td>886395899</td>\n",
              "    </tr>\n",
              "    <tr>\n",
              "      <th>19996</th>\n",
              "      <td>458</td>\n",
              "      <td>1101</td>\n",
              "      <td>4</td>\n",
              "      <td>886397931</td>\n",
              "    </tr>\n",
              "    <tr>\n",
              "      <th>19997</th>\n",
              "      <td>459</td>\n",
              "      <td>934</td>\n",
              "      <td>3</td>\n",
              "      <td>879563639</td>\n",
              "    </tr>\n",
              "    <tr>\n",
              "      <th>19998</th>\n",
              "      <td>460</td>\n",
              "      <td>10</td>\n",
              "      <td>3</td>\n",
              "      <td>882912371</td>\n",
              "    </tr>\n",
              "    <tr>\n",
              "      <th>19999</th>\n",
              "      <td>462</td>\n",
              "      <td>682</td>\n",
              "      <td>5</td>\n",
              "      <td>886365231</td>\n",
              "    </tr>\n",
              "  </tbody>\n",
              "</table>\n",
              "<p>20000 rows × 4 columns</p>\n",
              "</div>\n",
              "      <button class=\"colab-df-convert\" onclick=\"convertToInteractive('df-b0b6548e-979f-4f91-894b-e406dd1f4284')\"\n",
              "              title=\"Convert this dataframe to an interactive table.\"\n",
              "              style=\"display:none;\">\n",
              "        \n",
              "  <svg xmlns=\"http://www.w3.org/2000/svg\" height=\"24px\"viewBox=\"0 0 24 24\"\n",
              "       width=\"24px\">\n",
              "    <path d=\"M0 0h24v24H0V0z\" fill=\"none\"/>\n",
              "    <path d=\"M18.56 5.44l.94 2.06.94-2.06 2.06-.94-2.06-.94-.94-2.06-.94 2.06-2.06.94zm-11 1L8.5 8.5l.94-2.06 2.06-.94-2.06-.94L8.5 2.5l-.94 2.06-2.06.94zm10 10l.94 2.06.94-2.06 2.06-.94-2.06-.94-.94-2.06-.94 2.06-2.06.94z\"/><path d=\"M17.41 7.96l-1.37-1.37c-.4-.4-.92-.59-1.43-.59-.52 0-1.04.2-1.43.59L10.3 9.45l-7.72 7.72c-.78.78-.78 2.05 0 2.83L4 21.41c.39.39.9.59 1.41.59.51 0 1.02-.2 1.41-.59l7.78-7.78 2.81-2.81c.8-.78.8-2.07 0-2.86zM5.41 20L4 18.59l7.72-7.72 1.47 1.35L5.41 20z\"/>\n",
              "  </svg>\n",
              "      </button>\n",
              "      \n",
              "  <style>\n",
              "    .colab-df-container {\n",
              "      display:flex;\n",
              "      flex-wrap:wrap;\n",
              "      gap: 12px;\n",
              "    }\n",
              "\n",
              "    .colab-df-convert {\n",
              "      background-color: #E8F0FE;\n",
              "      border: none;\n",
              "      border-radius: 50%;\n",
              "      cursor: pointer;\n",
              "      display: none;\n",
              "      fill: #1967D2;\n",
              "      height: 32px;\n",
              "      padding: 0 0 0 0;\n",
              "      width: 32px;\n",
              "    }\n",
              "\n",
              "    .colab-df-convert:hover {\n",
              "      background-color: #E2EBFA;\n",
              "      box-shadow: 0px 1px 2px rgba(60, 64, 67, 0.3), 0px 1px 3px 1px rgba(60, 64, 67, 0.15);\n",
              "      fill: #174EA6;\n",
              "    }\n",
              "\n",
              "    [theme=dark] .colab-df-convert {\n",
              "      background-color: #3B4455;\n",
              "      fill: #D2E3FC;\n",
              "    }\n",
              "\n",
              "    [theme=dark] .colab-df-convert:hover {\n",
              "      background-color: #434B5C;\n",
              "      box-shadow: 0px 1px 3px 1px rgba(0, 0, 0, 0.15);\n",
              "      filter: drop-shadow(0px 1px 2px rgba(0, 0, 0, 0.3));\n",
              "      fill: #FFFFFF;\n",
              "    }\n",
              "  </style>\n",
              "\n",
              "      <script>\n",
              "        const buttonEl =\n",
              "          document.querySelector('#df-b0b6548e-979f-4f91-894b-e406dd1f4284 button.colab-df-convert');\n",
              "        buttonEl.style.display =\n",
              "          google.colab.kernel.accessAllowed ? 'block' : 'none';\n",
              "\n",
              "        async function convertToInteractive(key) {\n",
              "          const element = document.querySelector('#df-b0b6548e-979f-4f91-894b-e406dd1f4284');\n",
              "          const dataTable =\n",
              "            await google.colab.kernel.invokeFunction('convertToInteractive',\n",
              "                                                     [key], {});\n",
              "          if (!dataTable) return;\n",
              "\n",
              "          const docLinkHtml = 'Like what you see? Visit the ' +\n",
              "            '<a target=\"_blank\" href=https://colab.research.google.com/notebooks/data_table.ipynb>data table notebook</a>'\n",
              "            + ' to learn more about interactive tables.';\n",
              "          element.innerHTML = '';\n",
              "          dataTable['output_type'] = 'display_data';\n",
              "          await google.colab.output.renderOutput(dataTable, element);\n",
              "          const docLink = document.createElement('div');\n",
              "          docLink.innerHTML = docLinkHtml;\n",
              "          element.appendChild(docLink);\n",
              "        }\n",
              "      </script>\n",
              "    </div>\n",
              "  </div>\n",
              "  "
            ]
          },
          "metadata": {},
          "execution_count": 18
        }
      ],
      "source": [
        "test"
      ]
    },
    {
      "cell_type": "markdown",
      "metadata": {
        "id": "FInqXW4M6sWD"
      },
      "source": [
        "# **Baseline Model**"
      ]
    },
    {
      "cell_type": "markdown",
      "metadata": {
        "id": "1K3Jou7O61GT"
      },
      "source": [
        "I created a baseline model using the mean of ratings as specified in requirements doc. For each movie, I found the average rating of that movie across all users. That average is the prediction for what any given user will rate the movie. \n",
        "\n",
        "For calculating the average rating, I used the rating dataset as that has the ratings for all the users for each movie. \n",
        "\n",
        "Then, to calculate the rmse, I used the average of ratings as the training data and the actual rating for each movie given by each user as the test data. "
      ]
    },
    {
      "cell_type": "code",
      "execution_count": null,
      "metadata": {
        "id": "cjDz7DdN7emM"
      },
      "outputs": [],
      "source": [
        "#get the user rating from the ratings dataset:\n",
        "user_ratings = ratings.filter(['movieId','rating'], axis=1)\n",
        "user_ratings\n",
        "y_test = test.rating\n"
      ]
    },
    {
      "cell_type": "code",
      "execution_count": null,
      "metadata": {
        "colab": {
          "base_uri": "https://localhost:8080/",
          "height": 424
        },
        "id": "Ql07IejU7uIU",
        "outputId": "0cd2c203-de27-4d1a-d135-4cfc21f66dc3"
      },
      "outputs": [
        {
          "data": {
            "text/html": [
              "\n",
              "  <div id=\"df-365cbc8d-fc86-41a1-907c-ae5625c893c7\">\n",
              "    <div class=\"colab-df-container\">\n",
              "      <div>\n",
              "<style scoped>\n",
              "    .dataframe tbody tr th:only-of-type {\n",
              "        vertical-align: middle;\n",
              "    }\n",
              "\n",
              "    .dataframe tbody tr th {\n",
              "        vertical-align: top;\n",
              "    }\n",
              "\n",
              "    .dataframe thead th {\n",
              "        text-align: right;\n",
              "    }\n",
              "</style>\n",
              "<table border=\"1\" class=\"dataframe\">\n",
              "  <thead>\n",
              "    <tr style=\"text-align: right;\">\n",
              "      <th></th>\n",
              "      <th>movieId</th>\n",
              "      <th>rating</th>\n",
              "    </tr>\n",
              "  </thead>\n",
              "  <tbody>\n",
              "    <tr>\n",
              "      <th>1181</th>\n",
              "      <td>1189</td>\n",
              "      <td>5.0</td>\n",
              "    </tr>\n",
              "    <tr>\n",
              "      <th>1620</th>\n",
              "      <td>1653</td>\n",
              "      <td>5.0</td>\n",
              "    </tr>\n",
              "    <tr>\n",
              "      <th>1566</th>\n",
              "      <td>1599</td>\n",
              "      <td>5.0</td>\n",
              "    </tr>\n",
              "    <tr>\n",
              "      <th>1479</th>\n",
              "      <td>1500</td>\n",
              "      <td>5.0</td>\n",
              "    </tr>\n",
              "    <tr>\n",
              "      <th>1449</th>\n",
              "      <td>1467</td>\n",
              "      <td>5.0</td>\n",
              "    </tr>\n",
              "    <tr>\n",
              "      <th>...</th>\n",
              "      <td>...</td>\n",
              "      <td>...</td>\n",
              "    </tr>\n",
              "    <tr>\n",
              "      <th>1468</th>\n",
              "      <td>1486</td>\n",
              "      <td>1.0</td>\n",
              "    </tr>\n",
              "    <tr>\n",
              "      <th>1097</th>\n",
              "      <td>1104</td>\n",
              "      <td>1.0</td>\n",
              "    </tr>\n",
              "    <tr>\n",
              "      <th>1568</th>\n",
              "      <td>1601</td>\n",
              "      <td>1.0</td>\n",
              "    </tr>\n",
              "    <tr>\n",
              "      <th>438</th>\n",
              "      <td>439</td>\n",
              "      <td>1.0</td>\n",
              "    </tr>\n",
              "    <tr>\n",
              "      <th>1593</th>\n",
              "      <td>1626</td>\n",
              "      <td>1.0</td>\n",
              "    </tr>\n",
              "  </tbody>\n",
              "</table>\n",
              "<p>1650 rows × 2 columns</p>\n",
              "</div>\n",
              "      <button class=\"colab-df-convert\" onclick=\"convertToInteractive('df-365cbc8d-fc86-41a1-907c-ae5625c893c7')\"\n",
              "              title=\"Convert this dataframe to an interactive table.\"\n",
              "              style=\"display:none;\">\n",
              "        \n",
              "  <svg xmlns=\"http://www.w3.org/2000/svg\" height=\"24px\"viewBox=\"0 0 24 24\"\n",
              "       width=\"24px\">\n",
              "    <path d=\"M0 0h24v24H0V0z\" fill=\"none\"/>\n",
              "    <path d=\"M18.56 5.44l.94 2.06.94-2.06 2.06-.94-2.06-.94-.94-2.06-.94 2.06-2.06.94zm-11 1L8.5 8.5l.94-2.06 2.06-.94-2.06-.94L8.5 2.5l-.94 2.06-2.06.94zm10 10l.94 2.06.94-2.06 2.06-.94-2.06-.94-.94-2.06-.94 2.06-2.06.94z\"/><path d=\"M17.41 7.96l-1.37-1.37c-.4-.4-.92-.59-1.43-.59-.52 0-1.04.2-1.43.59L10.3 9.45l-7.72 7.72c-.78.78-.78 2.05 0 2.83L4 21.41c.39.39.9.59 1.41.59.51 0 1.02-.2 1.41-.59l7.78-7.78 2.81-2.81c.8-.78.8-2.07 0-2.86zM5.41 20L4 18.59l7.72-7.72 1.47 1.35L5.41 20z\"/>\n",
              "  </svg>\n",
              "      </button>\n",
              "      \n",
              "  <style>\n",
              "    .colab-df-container {\n",
              "      display:flex;\n",
              "      flex-wrap:wrap;\n",
              "      gap: 12px;\n",
              "    }\n",
              "\n",
              "    .colab-df-convert {\n",
              "      background-color: #E8F0FE;\n",
              "      border: none;\n",
              "      border-radius: 50%;\n",
              "      cursor: pointer;\n",
              "      display: none;\n",
              "      fill: #1967D2;\n",
              "      height: 32px;\n",
              "      padding: 0 0 0 0;\n",
              "      width: 32px;\n",
              "    }\n",
              "\n",
              "    .colab-df-convert:hover {\n",
              "      background-color: #E2EBFA;\n",
              "      box-shadow: 0px 1px 2px rgba(60, 64, 67, 0.3), 0px 1px 3px 1px rgba(60, 64, 67, 0.15);\n",
              "      fill: #174EA6;\n",
              "    }\n",
              "\n",
              "    [theme=dark] .colab-df-convert {\n",
              "      background-color: #3B4455;\n",
              "      fill: #D2E3FC;\n",
              "    }\n",
              "\n",
              "    [theme=dark] .colab-df-convert:hover {\n",
              "      background-color: #434B5C;\n",
              "      box-shadow: 0px 1px 3px 1px rgba(0, 0, 0, 0.15);\n",
              "      filter: drop-shadow(0px 1px 2px rgba(0, 0, 0, 0.3));\n",
              "      fill: #FFFFFF;\n",
              "    }\n",
              "  </style>\n",
              "\n",
              "      <script>\n",
              "        const buttonEl =\n",
              "          document.querySelector('#df-365cbc8d-fc86-41a1-907c-ae5625c893c7 button.colab-df-convert');\n",
              "        buttonEl.style.display =\n",
              "          google.colab.kernel.accessAllowed ? 'block' : 'none';\n",
              "\n",
              "        async function convertToInteractive(key) {\n",
              "          const element = document.querySelector('#df-365cbc8d-fc86-41a1-907c-ae5625c893c7');\n",
              "          const dataTable =\n",
              "            await google.colab.kernel.invokeFunction('convertToInteractive',\n",
              "                                                     [key], {});\n",
              "          if (!dataTable) return;\n",
              "\n",
              "          const docLinkHtml = 'Like what you see? Visit the ' +\n",
              "            '<a target=\"_blank\" href=https://colab.research.google.com/notebooks/data_table.ipynb>data table notebook</a>'\n",
              "            + ' to learn more about interactive tables.';\n",
              "          element.innerHTML = '';\n",
              "          dataTable['output_type'] = 'display_data';\n",
              "          await google.colab.output.renderOutput(dataTable, element);\n",
              "          const docLink = document.createElement('div');\n",
              "          docLink.innerHTML = docLinkHtml;\n",
              "          element.appendChild(docLink);\n",
              "        }\n",
              "      </script>\n",
              "    </div>\n",
              "  </div>\n",
              "  "
            ],
            "text/plain": [
              "      movieId  rating\n",
              "1181     1189     5.0\n",
              "1620     1653     5.0\n",
              "1566     1599     5.0\n",
              "1479     1500     5.0\n",
              "1449     1467     5.0\n",
              "...       ...     ...\n",
              "1468     1486     1.0\n",
              "1097     1104     1.0\n",
              "1568     1601     1.0\n",
              "438       439     1.0\n",
              "1593     1626     1.0\n",
              "\n",
              "[1650 rows x 2 columns]"
            ]
          },
          "execution_count": 9,
          "metadata": {},
          "output_type": "execute_result"
        }
      ],
      "source": [
        "# take the average rating of each movie:\n",
        "average_ratings = ratings.groupby('movieId', as_index=False)['rating'].mean()\n",
        "sorted_average_ratings = average_ratings.sort_values(by='rating', ascending=False)\n",
        "y_pred = sorted_average_ratings\n",
        "y_pred"
      ]
    },
    {
      "cell_type": "markdown",
      "metadata": {
        "id": "40oBrQQd8HI4"
      },
      "source": [
        "In order to pass the prediction and test data into the rmse function, you have to edit the prediction data so that it lines up with the test data.\n",
        "That is what I do below. It takes about 20 seconds to run"
      ]
    },
    {
      "cell_type": "code",
      "execution_count": null,
      "metadata": {
        "colab": {
          "base_uri": "https://localhost:8080/"
        },
        "id": "yE3temb08AZw",
        "outputId": "e08bfc8c-b505-4129-f28c-932b5bb99504"
      },
      "outputs": [
        {
          "name": "stdout",
          "output_type": "stream",
          "text": [
            "19968\n",
            "19968\n"
          ]
        }
      ],
      "source": [
        "predicted_ratings = []\n",
        "\n",
        "for id in test.movieId:\n",
        "  try:\n",
        "    y_pred.loc[y_pred.movieId == id]\n",
        "    predicted_ratings.append(y_pred.loc[y_pred.movieId == id].rating.tolist()[0])\n",
        "  except Exception as e:\n",
        "    test = test.loc[test.movieId != id ]\n",
        "    continue\n",
        "predicted_ratings[0:10]\n",
        "print(len(predicted_ratings))\n",
        "print(len(test))"
      ]
    },
    {
      "cell_type": "markdown",
      "metadata": {
        "id": "n6Ae6mmm9H3B"
      },
      "source": [
        "**RMSE Value for Baseline Model**"
      ]
    },
    {
      "cell_type": "code",
      "execution_count": null,
      "metadata": {
        "colab": {
          "base_uri": "https://localhost:8080/"
        },
        "id": "jsuJ9xoJ9G2Y",
        "outputId": "ad415fc6-dbc4-497b-db75-6191b501abef"
      },
      "outputs": [
        {
          "name": "stdout",
          "output_type": "stream",
          "text": [
            "RMSE: 1.0314196522331975\n"
          ]
        }
      ],
      "source": [
        "from sklearn.metrics import mean_squared_error\n",
        "import math\n",
        "y_test = test.rating\n",
        "mse = mean_squared_error(predicted_ratings, y_test)\n",
        "rmse = math.sqrt(mse)\n",
        "print(f'RMSE: {rmse}')"
      ]
    },
    {
      "cell_type": "markdown",
      "metadata": {
        "id": "66YVk0r2-dTH"
      },
      "source": [
        "As you can see, I got an RMSE of around 1 which is a reasonable rmse as Dave said in slack"
      ]
    },
    {
      "cell_type": "code",
      "execution_count": null,
      "metadata": {
        "id": "SQddzgsfmBpJ"
      },
      "outputs": [],
      "source": [
        "ratings = pd.read_csv(\"http://files.grouplens.org/datasets/movielens/ml-100k/u1.base\",sep='\\t',header=None, names=[\"userId\", \"movieId\", \"rating\", \"timestamp\"])\n",
        "test = pd.read_csv(\"http://files.grouplens.org/datasets/movielens/ml-100k/u1.test\",sep='\\t',header=None, names=[\"userId\", \"movieId\", \"rating\", \"timestamp\"])"
      ]
    },
    {
      "cell_type": "markdown",
      "metadata": {
        "id": "tK5fTG9DMJmK"
      },
      "source": [
        "# **Simple Model**\n",
        "\n",
        "For the simple model, I used Collabarative Filtering. I decided to try three different types of matrix factorizations and see which one got the best RMSE. I used SVD for the first model, the turicreate class for the second class and the matrix_factorization class for the third model.  "
      ]
    },
    {
      "cell_type": "code",
      "execution_count": null,
      "metadata": {
        "colab": {
          "base_uri": "https://localhost:8080/"
        },
        "id": "TKYkULIASqCN",
        "outputId": "5e832fd6-c1fc-4f76-fe24-55a8c4aef46b"
      },
      "outputs": [
        {
          "name": "stdout",
          "output_type": "stream",
          "text": [
            "943\n",
            "1650\n"
          ]
        }
      ],
      "source": [
        "#Get the number of unique users and movies\n",
        "n_users = ratings.userId.unique().shape[0]\n",
        "n_items = ratings.movieId.unique().shape[0]\n",
        "print(n_users)\n",
        "print(n_items)"
      ]
    },
    {
      "cell_type": "markdown",
      "metadata": {
        "id": "ePe_dTln9mzL"
      },
      "source": [
        "# **SVD Model**"
      ]
    },
    {
      "cell_type": "markdown",
      "metadata": {
        "id": "Xuff5Jlv6fld"
      },
      "source": [
        "Got the basis for the Singular Value Decomposition (SVD) code from here:\n",
        "\n",
        "https://www.jiristodulka.com/post/recsys_cf/"
      ]
    },
    {
      "cell_type": "code",
      "execution_count": null,
      "metadata": {
        "colab": {
          "base_uri": "https://localhost:8080/"
        },
        "id": "Xtklypv1eXK_",
        "outputId": "a6a5489e-c650-427f-b39c-07bb41179861"
      },
      "outputs": [
        {
          "name": "stdout",
          "output_type": "stream",
          "text": [
            "Collecting scikit-surprise\n",
            "  Downloading scikit-surprise-1.1.1.tar.gz (11.8 MB)\n",
            "\u001b[K     |████████████████████████████████| 11.8 MB 18.6 MB/s \n",
            "\u001b[?25hRequirement already satisfied: joblib>=0.11 in /usr/local/lib/python3.7/dist-packages (from scikit-surprise) (1.1.0)\n",
            "Requirement already satisfied: numpy>=1.11.2 in /usr/local/lib/python3.7/dist-packages (from scikit-surprise) (1.21.6)\n",
            "Requirement already satisfied: scipy>=1.0.0 in /usr/local/lib/python3.7/dist-packages (from scikit-surprise) (1.4.1)\n",
            "Requirement already satisfied: six>=1.10.0 in /usr/local/lib/python3.7/dist-packages (from scikit-surprise) (1.15.0)\n",
            "Building wheels for collected packages: scikit-surprise\n",
            "  Building wheel for scikit-surprise (setup.py) ... \u001b[?25l\u001b[?25hdone\n",
            "  Created wheel for scikit-surprise: filename=scikit_surprise-1.1.1-cp37-cp37m-linux_x86_64.whl size=1633741 sha256=9a05a6fe1217efd08f4c8cbf8bd4c778c1830579180077ff9f8de208794b27ad\n",
            "  Stored in directory: /root/.cache/pip/wheels/76/44/74/b498c42be47b2406bd27994e16c5188e337c657025ab400c1c\n",
            "Successfully built scikit-surprise\n",
            "Installing collected packages: scikit-surprise\n",
            "Successfully installed scikit-surprise-1.1.1\n"
          ]
        }
      ],
      "source": [
        "pip install scikit-surprise"
      ]
    },
    {
      "cell_type": "markdown",
      "metadata": {
        "id": "w6XFCS_X8bTj"
      },
      "source": [
        "I performed the following steps with train/val/test:\n",
        "\n",
        "I split the data into train and val data\n",
        "\n",
        "I ran SVD with different values of n_factors and evaluated performance of these approximations on the validation set and choose the n_factors with the lowest value of RMSE.\n",
        "\n",
        "I applied the chosen model on test dataset to see how it performs on unseen data and got the RMSE."
      ]
    },
    {
      "cell_type": "code",
      "execution_count": null,
      "metadata": {
        "colab": {
          "base_uri": "https://localhost:8080/"
        },
        "id": "06UerYEHd-_b",
        "outputId": "adb6a425-8116-4b5f-aa98-534885b16972"
      },
      "outputs": [
        {
          "data": {
            "text/plain": [
              "<surprise.prediction_algorithms.matrix_factorization.SVD at 0x7f6e2cef9310>"
            ]
          },
          "execution_count": 15,
          "metadata": {},
          "output_type": "execute_result"
        }
      ],
      "source": [
        "from surprise import SVD\n",
        "from surprise.reader import Reader # this class is used to parse the ratings dataset as it contains ratings\n",
        "from surprise import Dataset\n",
        "from sklearn.model_selection import train_test_split\n",
        "\n",
        "# I dont need the y varibale, just setting it so I do not get an error.\n",
        "#Splitting the data into 80% train and 20% test\n",
        "X_train, X_val, y_train, y_val = train_test_split(ratings, ratings, test_size=0.2, random_state = 42) \n",
        "\n",
        "reader = Reader(rating_scale=(1, 5)) # set it to 1-5 as that is the range of the ratings\n",
        "data = Dataset.load_from_df(X_train[[\"userId\",\t\"movieId\",\t\"rating\"]], reader=reader)\n",
        "trainset = data.build_full_trainset()\n",
        "\n",
        "#create the SVD mocdel and fit it\n",
        "#I set n_factors to 2 as that got the best RMSE as can be seen in the next code cell. \n",
        "SVD_model = SVD(n_factors = 2, lr_all=.01, reg_all=.0001)\n",
        "#training the dataset with train data\n",
        "SVD_model.fit(trainset)"
      ]
    },
    {
      "cell_type": "code",
      "execution_count": null,
      "metadata": {
        "colab": {
          "base_uri": "https://localhost:8080/"
        },
        "id": "TGEl8VBLwfME",
        "outputId": "d6a5a91e-3c3b-4e0e-a1ca-3883f608c8cb"
      },
      "outputs": [
        {
          "name": "stdout",
          "output_type": "stream",
          "text": [
            "RMSE: 0.9441\n",
            "0.9441213453706617\n",
            "RMSE: 0.9419\n",
            "0.9419181604952445\n",
            "RMSE: 0.9439\n",
            "0.9439055057450595\n",
            "RMSE: 0.9475\n",
            "0.9475111555680957\n",
            "RMSE: 0.9483\n",
            "0.9483406761895137\n",
            "RMSE: 0.9494\n",
            "0.9494299456260195\n",
            "RMSE: 0.9497\n",
            "0.9497049635664565\n",
            "RMSE: 0.9438\n",
            "0.943786790377737\n",
            "RMSE: 0.9534\n",
            "0.9534227766834524\n",
            "RMSE: 0.9490\n",
            "0.9489755483248434\n",
            "RMSE: 0.9454\n",
            "0.9453614811834036\n",
            "RMSE: 0.9464\n",
            "0.9463766854137257\n",
            "RMSE: 0.9501\n",
            "0.9500674068772555\n",
            "RMSE: 0.9548\n",
            "0.9548396221349348\n",
            "RMSE: 0.9568\n",
            "0.9568121064014644\n",
            "RMSE: 0.9530\n",
            "0.9530332922945791\n",
            "RMSE: 0.9559\n",
            "0.9559180196898005\n",
            "RMSE: 0.9573\n",
            "0.9573406945360556\n",
            "RMSE: 0.9613\n",
            "0.9613416607291424\n"
          ]
        }
      ],
      "source": [
        "#running SVD with different values of n_factors on the val data\n",
        "from surprise import accuracy\n",
        "from surprise.model_selection import train_test_split as tts\n",
        "for i in range (1,20):\n",
        "  reader = Reader(rating_scale=(1, 5)) # set it to 1-5 as that is the range of the ratings\n",
        "  data = Dataset.load_from_df(X_train[[\"userId\",\t\"movieId\",\t\"rating\"]], reader=reader)\n",
        "  trainset = data.build_full_trainset()\n",
        "  SVD_model = SVD(n_factors = i, lr_all=.01)\n",
        "  SVD_model.fit(trainset)\n",
        "  val_data = Dataset.load_from_df(X_val[[\"userId\",\t\"movieId\",\t\"rating\"]], reader=reader)\n",
        "  trainset, testset = tts(val_data, test_size=.000000000000000001, random_state = 42)\n",
        "  test_set = trainset.build_testset() #Return a list of ratings that can be used as a testset in the test() method.\n",
        "  predictions = SVD_model.test(test_set)\n",
        "  print(accuracy.rmse(predictions))"
      ]
    },
    {
      "cell_type": "markdown",
      "metadata": {
        "id": "8lDkUANf87Ym"
      },
      "source": [
        "As you can see above, the SVD model with of n_factors=2 had the lowest RMSE"
      ]
    },
    {
      "cell_type": "code",
      "execution_count": null,
      "metadata": {
        "id": "AN3o8PgZg3KI"
      },
      "outputs": [],
      "source": [
        "#getting the test data ready to see how the SVD model performs on unseen data and get the RMSE \n",
        "from surprise.model_selection import train_test_split as tts\n",
        "reader = Reader(rating_scale=(1, 5)) # set it to 1-5 as that is the range of the ratings\n",
        "test_data = Dataset.load_from_df(test[[\"userId\",\t\"movieId\",\t\"rating\"]], reader=reader)\n",
        "trainset, testset = tts(test_data, test_size=.000000000000000001, random_state = 42)\n",
        "test_set = trainset.build_testset()\n",
        "predictions = SVD_model.test(test_set)"
      ]
    },
    {
      "cell_type": "markdown",
      "metadata": {
        "id": "NEkHHrYY9WcZ"
      },
      "source": [
        "# **RMSE of SVD Model**"
      ]
    },
    {
      "cell_type": "code",
      "execution_count": null,
      "metadata": {
        "colab": {
          "base_uri": "https://localhost:8080/"
        },
        "id": "VmyhbfmJm11r",
        "outputId": "dcde1bd2-ed1f-4ea2-d186-49f39e884821"
      },
      "outputs": [
        {
          "name": "stdout",
          "output_type": "stream",
          "text": [
            "RMSE: 0.9679\n"
          ]
        },
        {
          "data": {
            "text/plain": [
              "0.967888987610967"
            ]
          },
          "execution_count": 18,
          "metadata": {},
          "output_type": "execute_result"
        }
      ],
      "source": [
        "accuracy.rmse(predictions)"
      ]
    },
    {
      "cell_type": "markdown",
      "metadata": {
        "id": "FXfOKZX79VNx"
      },
      "source": [
        "As you can see, the SVD model got an RMSE of around .96, which is pretty solid."
      ]
    },
    {
      "cell_type": "code",
      "execution_count": null,
      "metadata": {
        "id": "-9eXstpymLut"
      },
      "outputs": [],
      "source": [
        "ratings = pd.read_csv(\"http://files.grouplens.org/datasets/movielens/ml-100k/u1.base\",sep='\\t',header=None, names=[\"userId\", \"movieId\", \"rating\", \"timestamp\"])\n",
        "test = pd.read_csv(\"http://files.grouplens.org/datasets/movielens/ml-100k/u1.test\",sep='\\t',header=None, names=[\"userId\", \"movieId\", \"rating\", \"timestamp\"])"
      ]
    },
    {
      "cell_type": "markdown",
      "metadata": {
        "id": "xNPMNF8l9jlC"
      },
      "source": [
        "# **Turicreate Model**"
      ]
    },
    {
      "cell_type": "markdown",
      "metadata": {
        "id": "4nBnf5cC9tyC"
      },
      "source": [
        "Source for this:\n",
        "\n",
        "https://apple.github.io/turicreate/docs/api/generated/turicreate.recommender.item_similarity_recommender.ItemSimilarityRecommender.evaluate.html"
      ]
    },
    {
      "cell_type": "code",
      "execution_count": null,
      "metadata": {
        "id": "zsFqhFf4NRFo"
      },
      "outputs": [],
      "source": [
        "! pip install turicreate"
      ]
    },
    {
      "cell_type": "code",
      "execution_count": null,
      "metadata": {
        "id": "7_Pfkh4a6Hr2"
      },
      "outputs": [],
      "source": [
        "import turicreate"
      ]
    },
    {
      "cell_type": "code",
      "execution_count": null,
      "metadata": {
        "colab": {
          "base_uri": "https://localhost:8080/",
          "height": 868
        },
        "id": "M0w_1P-nOQY0",
        "outputId": "4e0a455b-ba51-4fad-a7c1-775603361285"
      },
      "outputs": [
        {
          "data": {
            "text/html": [
              "<pre>Preparing data set.</pre>"
            ],
            "text/plain": [
              "Preparing data set."
            ]
          },
          "metadata": {},
          "output_type": "display_data"
        },
        {
          "data": {
            "text/html": [
              "<pre>    Data has 63996 observations with 943 users and 1622 items.</pre>"
            ],
            "text/plain": [
              "    Data has 63996 observations with 943 users and 1622 items."
            ]
          },
          "metadata": {},
          "output_type": "display_data"
        },
        {
          "data": {
            "text/html": [
              "<pre>    Data prepared in: 0.109254s</pre>"
            ],
            "text/plain": [
              "    Data prepared in: 0.109254s"
            ]
          },
          "metadata": {},
          "output_type": "display_data"
        },
        {
          "data": {
            "text/html": [
              "<pre>Training ranking_factorization_recommender for recommendations.</pre>"
            ],
            "text/plain": [
              "Training ranking_factorization_recommender for recommendations."
            ]
          },
          "metadata": {},
          "output_type": "display_data"
        },
        {
          "data": {
            "text/html": [
              "<pre>+--------------------------------+--------------------------------------------------+----------+</pre>"
            ],
            "text/plain": [
              "+--------------------------------+--------------------------------------------------+----------+"
            ]
          },
          "metadata": {},
          "output_type": "display_data"
        },
        {
          "data": {
            "text/html": [
              "<pre>| Parameter                      | Description                                      | Value    |</pre>"
            ],
            "text/plain": [
              "| Parameter                      | Description                                      | Value    |"
            ]
          },
          "metadata": {},
          "output_type": "display_data"
        },
        {
          "data": {
            "text/html": [
              "<pre>+--------------------------------+--------------------------------------------------+----------+</pre>"
            ],
            "text/plain": [
              "+--------------------------------+--------------------------------------------------+----------+"
            ]
          },
          "metadata": {},
          "output_type": "display_data"
        },
        {
          "data": {
            "text/html": [
              "<pre>| num_factors                    | Factor Dimension                                 | 32       |</pre>"
            ],
            "text/plain": [
              "| num_factors                    | Factor Dimension                                 | 32       |"
            ]
          },
          "metadata": {},
          "output_type": "display_data"
        },
        {
          "data": {
            "text/html": [
              "<pre>| regularization                 | L2 Regularization on Factors                     | 1e-09    |</pre>"
            ],
            "text/plain": [
              "| regularization                 | L2 Regularization on Factors                     | 1e-09    |"
            ]
          },
          "metadata": {},
          "output_type": "display_data"
        },
        {
          "data": {
            "text/html": [
              "<pre>| solver                         | Solver used for training                         | adagrad  |</pre>"
            ],
            "text/plain": [
              "| solver                         | Solver used for training                         | adagrad  |"
            ]
          },
          "metadata": {},
          "output_type": "display_data"
        },
        {
          "data": {
            "text/html": [
              "<pre>| linear_regularization          | L2 Regularization on Linear Coefficients         | 1e-09    |</pre>"
            ],
            "text/plain": [
              "| linear_regularization          | L2 Regularization on Linear Coefficients         | 1e-09    |"
            ]
          },
          "metadata": {},
          "output_type": "display_data"
        },
        {
          "data": {
            "text/html": [
              "<pre>| ranking_regularization         | Rank-based Regularization Weight                 | 0.25     |</pre>"
            ],
            "text/plain": [
              "| ranking_regularization         | Rank-based Regularization Weight                 | 0.25     |"
            ]
          },
          "metadata": {},
          "output_type": "display_data"
        },
        {
          "data": {
            "text/html": [
              "<pre>| max_iterations                 | Maximum Number of Iterations                     | 25       |</pre>"
            ],
            "text/plain": [
              "| max_iterations                 | Maximum Number of Iterations                     | 25       |"
            ]
          },
          "metadata": {},
          "output_type": "display_data"
        },
        {
          "data": {
            "text/html": [
              "<pre>+--------------------------------+--------------------------------------------------+----------+</pre>"
            ],
            "text/plain": [
              "+--------------------------------+--------------------------------------------------+----------+"
            ]
          },
          "metadata": {},
          "output_type": "display_data"
        },
        {
          "data": {
            "text/html": [
              "<pre>  Optimizing model using SGD; tuning step size.</pre>"
            ],
            "text/plain": [
              "  Optimizing model using SGD; tuning step size."
            ]
          },
          "metadata": {},
          "output_type": "display_data"
        },
        {
          "data": {
            "text/html": [
              "<pre>  Using 10000 / 63996 points for tuning the step size.</pre>"
            ],
            "text/plain": [
              "  Using 10000 / 63996 points for tuning the step size."
            ]
          },
          "metadata": {},
          "output_type": "display_data"
        },
        {
          "data": {
            "text/html": [
              "<pre>+---------+-------------------+------------------------------------------+</pre>"
            ],
            "text/plain": [
              "+---------+-------------------+------------------------------------------+"
            ]
          },
          "metadata": {},
          "output_type": "display_data"
        },
        {
          "data": {
            "text/html": [
              "<pre>| Attempt | Initial Step Size | Estimated Objective Value                |</pre>"
            ],
            "text/plain": [
              "| Attempt | Initial Step Size | Estimated Objective Value                |"
            ]
          },
          "metadata": {},
          "output_type": "display_data"
        },
        {
          "data": {
            "text/html": [
              "<pre>+---------+-------------------+------------------------------------------+</pre>"
            ],
            "text/plain": [
              "+---------+-------------------+------------------------------------------+"
            ]
          },
          "metadata": {},
          "output_type": "display_data"
        },
        {
          "data": {
            "text/html": [
              "<pre>| 0       | 16.6667           | Not Viable                               |</pre>"
            ],
            "text/plain": [
              "| 0       | 16.6667           | Not Viable                               |"
            ]
          },
          "metadata": {},
          "output_type": "display_data"
        },
        {
          "data": {
            "text/html": [
              "<pre>| 1       | 4.16667           | Not Viable                               |</pre>"
            ],
            "text/plain": [
              "| 1       | 4.16667           | Not Viable                               |"
            ]
          },
          "metadata": {},
          "output_type": "display_data"
        },
        {
          "data": {
            "text/html": [
              "<pre>| 2       | 1.04167           | Not Viable                               |</pre>"
            ],
            "text/plain": [
              "| 2       | 1.04167           | Not Viable                               |"
            ]
          },
          "metadata": {},
          "output_type": "display_data"
        },
        {
          "data": {
            "text/html": [
              "<pre>| 3       | 0.260417          | 1.63468                                  |</pre>"
            ],
            "text/plain": [
              "| 3       | 0.260417          | 1.63468                                  |"
            ]
          },
          "metadata": {},
          "output_type": "display_data"
        },
        {
          "data": {
            "text/html": [
              "<pre>| 4       | 0.130208          | 1.50538                                  |</pre>"
            ],
            "text/plain": [
              "| 4       | 0.130208          | 1.50538                                  |"
            ]
          },
          "metadata": {},
          "output_type": "display_data"
        },
        {
          "data": {
            "text/html": [
              "<pre>| 5       | 0.0651042         | 1.4593                                   |</pre>"
            ],
            "text/plain": [
              "| 5       | 0.0651042         | 1.4593                                   |"
            ]
          },
          "metadata": {},
          "output_type": "display_data"
        },
        {
          "data": {
            "text/html": [
              "<pre>| 6       | 0.0325521         | 1.6669                                   |</pre>"
            ],
            "text/plain": [
              "| 6       | 0.0325521         | 1.6669                                   |"
            ]
          },
          "metadata": {},
          "output_type": "display_data"
        },
        {
          "data": {
            "text/html": [
              "<pre>| 7       | 0.016276          | 1.98701                                  |</pre>"
            ],
            "text/plain": [
              "| 7       | 0.016276          | 1.98701                                  |"
            ]
          },
          "metadata": {},
          "output_type": "display_data"
        },
        {
          "data": {
            "text/html": [
              "<pre>| 8       | 0.00813802        | 2.13373                                  |</pre>"
            ],
            "text/plain": [
              "| 8       | 0.00813802        | 2.13373                                  |"
            ]
          },
          "metadata": {},
          "output_type": "display_data"
        },
        {
          "data": {
            "text/html": [
              "<pre>+---------+-------------------+------------------------------------------+</pre>"
            ],
            "text/plain": [
              "+---------+-------------------+------------------------------------------+"
            ]
          },
          "metadata": {},
          "output_type": "display_data"
        },
        {
          "data": {
            "text/html": [
              "<pre>| Final   | 0.0651042         | 1.4593                                   |</pre>"
            ],
            "text/plain": [
              "| Final   | 0.0651042         | 1.4593                                   |"
            ]
          },
          "metadata": {},
          "output_type": "display_data"
        },
        {
          "data": {
            "text/html": [
              "<pre>+---------+-------------------+------------------------------------------+</pre>"
            ],
            "text/plain": [
              "+---------+-------------------+------------------------------------------+"
            ]
          },
          "metadata": {},
          "output_type": "display_data"
        },
        {
          "data": {
            "text/html": [
              "<pre>Starting Optimization.</pre>"
            ],
            "text/plain": [
              "Starting Optimization."
            ]
          },
          "metadata": {},
          "output_type": "display_data"
        },
        {
          "data": {
            "text/html": [
              "<pre>+---------+--------------+-------------------+-----------------------+-------------+</pre>"
            ],
            "text/plain": [
              "+---------+--------------+-------------------+-----------------------+-------------+"
            ]
          },
          "metadata": {},
          "output_type": "display_data"
        },
        {
          "data": {
            "text/html": [
              "<pre>| Iter.   | Elapsed Time | Approx. Objective | Approx. Training RMSE | Step Size   |</pre>"
            ],
            "text/plain": [
              "| Iter.   | Elapsed Time | Approx. Objective | Approx. Training RMSE | Step Size   |"
            ]
          },
          "metadata": {},
          "output_type": "display_data"
        },
        {
          "data": {
            "text/html": [
              "<pre>+---------+--------------+-------------------+-----------------------+-------------+</pre>"
            ],
            "text/plain": [
              "+---------+--------------+-------------------+-----------------------+-------------+"
            ]
          },
          "metadata": {},
          "output_type": "display_data"
        },
        {
          "data": {
            "text/html": [
              "<pre>| Initial | 90us         | 2.44677           | 1.1171                |             |</pre>"
            ],
            "text/plain": [
              "| Initial | 90us         | 2.44677           | 1.1171                |             |"
            ]
          },
          "metadata": {},
          "output_type": "display_data"
        },
        {
          "data": {
            "text/html": [
              "<pre>+---------+--------------+-------------------+-----------------------+-------------+</pre>"
            ],
            "text/plain": [
              "+---------+--------------+-------------------+-----------------------+-------------+"
            ]
          },
          "metadata": {},
          "output_type": "display_data"
        },
        {
          "data": {
            "text/html": [
              "<pre>| 1       | 178.646ms    | 2.14028           | 1.13806               | 0.0651042   |</pre>"
            ],
            "text/plain": [
              "| 1       | 178.646ms    | 2.14028           | 1.13806               | 0.0651042   |"
            ]
          },
          "metadata": {},
          "output_type": "display_data"
        },
        {
          "data": {
            "text/html": [
              "<pre>| 2       | 339.386ms    | 1.93496           | 1.06372               | 0.0651042   |</pre>"
            ],
            "text/plain": [
              "| 2       | 339.386ms    | 1.93496           | 1.06372               | 0.0651042   |"
            ]
          },
          "metadata": {},
          "output_type": "display_data"
        },
        {
          "data": {
            "text/html": [
              "<pre>| 3       | 508.853ms    | 1.81605           | 1.01509               | 0.0651042   |</pre>"
            ],
            "text/plain": [
              "| 3       | 508.853ms    | 1.81605           | 1.01509               | 0.0651042   |"
            ]
          },
          "metadata": {},
          "output_type": "display_data"
        },
        {
          "data": {
            "text/html": [
              "<pre>| 4       | 674.752ms    | 1.74871           | 0.992464              | 0.0651042   |</pre>"
            ],
            "text/plain": [
              "| 4       | 674.752ms    | 1.74871           | 0.992464              | 0.0651042   |"
            ]
          },
          "metadata": {},
          "output_type": "display_data"
        },
        {
          "data": {
            "text/html": [
              "<pre>| 5       | 841.91ms     | 1.70133           | 0.976193              | 0.0651042   |</pre>"
            ],
            "text/plain": [
              "| 5       | 841.91ms     | 1.70133           | 0.976193              | 0.0651042   |"
            ]
          },
          "metadata": {},
          "output_type": "display_data"
        },
        {
          "data": {
            "text/html": [
              "<pre>| 10      | 1.63s        | 1.54521           | 0.917235              | 0.0651042   |</pre>"
            ],
            "text/plain": [
              "| 10      | 1.63s        | 1.54521           | 0.917235              | 0.0651042   |"
            ]
          },
          "metadata": {},
          "output_type": "display_data"
        },
        {
          "data": {
            "text/html": [
              "<pre>| 25      | 4.00s        | 1.3426            | 0.817629              | 0.0651042   |</pre>"
            ],
            "text/plain": [
              "| 25      | 4.00s        | 1.3426            | 0.817629              | 0.0651042   |"
            ]
          },
          "metadata": {},
          "output_type": "display_data"
        },
        {
          "data": {
            "text/html": [
              "<pre>+---------+--------------+-------------------+-----------------------+-------------+</pre>"
            ],
            "text/plain": [
              "+---------+--------------+-------------------+-----------------------+-------------+"
            ]
          },
          "metadata": {},
          "output_type": "display_data"
        },
        {
          "data": {
            "text/html": [
              "<pre>Optimization Complete: Maximum number of passes through the data reached.</pre>"
            ],
            "text/plain": [
              "Optimization Complete: Maximum number of passes through the data reached."
            ]
          },
          "metadata": {},
          "output_type": "display_data"
        },
        {
          "data": {
            "text/html": [
              "<pre>Computing final objective value and training RMSE.</pre>"
            ],
            "text/plain": [
              "Computing final objective value and training RMSE."
            ]
          },
          "metadata": {},
          "output_type": "display_data"
        },
        {
          "data": {
            "text/html": [
              "<pre>       Final objective value: 1.34764</pre>"
            ],
            "text/plain": [
              "       Final objective value: 1.34764"
            ]
          },
          "metadata": {},
          "output_type": "display_data"
        },
        {
          "data": {
            "text/html": [
              "<pre>       Final training RMSE: 0.798866</pre>"
            ],
            "text/plain": [
              "       Final training RMSE: 0.798866"
            ]
          },
          "metadata": {},
          "output_type": "display_data"
        }
      ],
      "source": [
        "#Training the model\n",
        "#changing the names of the column headers so the model works\n",
        "ratings = ratings.rename(columns={'userId': 'user_id', 'movieId': 'item_id'})\n",
        "test = test.rename(columns={'userId': 'user_id', 'movieId': 'item_id'})\n",
        "\n",
        "#convert data to SFrame\n",
        "data = turicreate.SFrame(ratings)\n",
        "train_d, test_d = turicreate.recommender.util.random_split_by_user(data)\n",
        "m = turicreate.recommender.create(train_d, target='rating')\n",
        "test_data = turicreate.SFrame(test)"
      ]
    },
    {
      "cell_type": "markdown",
      "metadata": {
        "id": "DykWWALM-Kdw"
      },
      "source": [
        "As you can see, the Final training RMSE is .8 which is very good. "
      ]
    },
    {
      "cell_type": "markdown",
      "metadata": {
        "id": "7lX0qFfN-Pyo"
      },
      "source": [
        "Test the turicreate model on the test data."
      ]
    },
    {
      "cell_type": "code",
      "execution_count": null,
      "metadata": {
        "colab": {
          "base_uri": "https://localhost:8080/"
        },
        "id": "ULR7VpO_bR8b",
        "outputId": "cb751a21-639a-4d9d-900d-998e39f85756"
      },
      "outputs": [
        {
          "name": "stdout",
          "output_type": "stream",
          "text": [
            "\n",
            "Precision and recall summary statistics by cutoff\n",
            "+--------+---------------------+----------------------+\n",
            "| cutoff |    mean_precision   |     mean_recall      |\n",
            "+--------+---------------------+----------------------+\n",
            "|   1    |  0.3376906318082788 | 0.01054490577329334  |\n",
            "|   2    | 0.32570806100217864 | 0.019572619625913664 |\n",
            "|   3    |  0.3021060275962237 | 0.02750305887858495  |\n",
            "|   4    |  0.2979302832244008 | 0.038448056888710086 |\n",
            "|   5    | 0.29150326797385623 | 0.04798373849955808  |\n",
            "|   6    |  0.2839506172839507 | 0.05352832111368813  |\n",
            "|   7    |  0.2794895736072209 | 0.06007023555763848  |\n",
            "|   8    |  0.2739651416122004 | 0.06677994662862105  |\n",
            "|   9    | 0.27281529895908996 | 0.07508605096545626  |\n",
            "|   10   | 0.26840958605664494 | 0.08133809359528169  |\n",
            "+--------+---------------------+----------------------+\n",
            "[10 rows x 3 columns]\n",
            "\n",
            "\n",
            "Overall RMSE: 1.042038046608013\n",
            "\n",
            "Per User RMSE (best)\n",
            "+---------+----------------------+-------+\n",
            "| user_id |         rmse         | count |\n",
            "+---------+----------------------+-------+\n",
            "|   446   | 0.028244819731694015 |   1   |\n",
            "+---------+----------------------+-------+\n",
            "[1 rows x 3 columns]\n",
            "\n",
            "\n",
            "Per User RMSE (worst)\n",
            "+---------+--------------------+-------+\n",
            "| user_id |        rmse        | count |\n",
            "+---------+--------------------+-------+\n",
            "|   202   | 1.8991661599756322 |   7   |\n",
            "+---------+--------------------+-------+\n",
            "[1 rows x 3 columns]\n",
            "\n",
            "\n",
            "Per Item RMSE (best)\n",
            "+---------+------------------------+-------+\n",
            "| item_id |          rmse          | count |\n",
            "+---------+------------------------+-------+\n",
            "|   1156  | 0.00031197596307963593 |   1   |\n",
            "+---------+------------------------+-------+\n",
            "[1 rows x 3 columns]\n",
            "\n",
            "\n",
            "Per Item RMSE (worst)\n",
            "+---------+-------------------+-------+\n",
            "| item_id |        rmse       | count |\n",
            "+---------+-------------------+-------+\n",
            "|   1450  | 2.983981283274226 |   1   |\n",
            "+---------+-------------------+-------+\n",
            "[1 rows x 3 columns]\n",
            "\n"
          ]
        }
      ],
      "source": [
        "eval = m.evaluate(test_data)"
      ]
    },
    {
      "cell_type": "markdown",
      "metadata": {
        "id": "Y8yPALEQ-W4b"
      },
      "source": [
        "# **RMSE of Turicreate Model:**\n",
        "\n",
        "The RMSE using the test dataset is around 1.04, which is definitely worse than it was for the training data (this makes sense as the model saw the training data but never saw the test data). However, an RMSE of 1.04 is not too bad. "
      ]
    },
    {
      "cell_type": "code",
      "execution_count": null,
      "metadata": {
        "id": "qRu5uBfcmQko"
      },
      "outputs": [],
      "source": [
        "#reset the ratings and test datasets as the column headers were changed\n",
        "ratings = pd.read_csv(\"http://files.grouplens.org/datasets/movielens/ml-100k/u1.base\",sep='\\t',header=None, names=[\"userId\", \"movieId\", \"rating\", \"timestamp\"])\n",
        "test = pd.read_csv(\"http://files.grouplens.org/datasets/movielens/ml-100k/u1.test\",sep='\\t',header=None, names=[\"userId\", \"movieId\", \"rating\", \"timestamp\"])"
      ]
    },
    {
      "cell_type": "markdown",
      "metadata": {
        "id": "_QQrJSuW9kDv"
      },
      "source": [
        "# **matrix_factorization Model**\n",
        "\n",
        "Source: \n",
        "\n",
        "https://github.com/Quang-Vinh/matrix-factorization"
      ]
    },
    {
      "cell_type": "code",
      "execution_count": null,
      "metadata": {
        "colab": {
          "base_uri": "https://localhost:8080/"
        },
        "id": "Ib9HBe_w9-Ms",
        "outputId": "888b2927-ea2c-4fec-d03f-8715cf4d65d7"
      },
      "outputs": [
        {
          "output_type": "stream",
          "name": "stdout",
          "text": [
            "Collecting matrix_factorization\n",
            "  Downloading matrix_factorization-1.3.tar.gz (12 kB)\n",
            "Requirement already satisfied: numba>=0.49.1 in /usr/local/lib/python3.7/dist-packages (from matrix_factorization) (0.51.2)\n",
            "Requirement already satisfied: numpy>=1.18.5 in /usr/local/lib/python3.7/dist-packages (from matrix_factorization) (1.21.6)\n",
            "Requirement already satisfied: pandas>=1.0.4 in /usr/local/lib/python3.7/dist-packages (from matrix_factorization) (1.3.5)\n",
            "Requirement already satisfied: scikit-learn>=0.23.1 in /usr/local/lib/python3.7/dist-packages (from matrix_factorization) (1.0.2)\n",
            "Requirement already satisfied: scipy>=1.4.1 in /usr/local/lib/python3.7/dist-packages (from matrix_factorization) (1.4.1)\n",
            "Requirement already satisfied: llvmlite<0.35,>=0.34.0.dev0 in /usr/local/lib/python3.7/dist-packages (from numba>=0.49.1->matrix_factorization) (0.34.0)\n",
            "Requirement already satisfied: setuptools in /usr/local/lib/python3.7/dist-packages (from numba>=0.49.1->matrix_factorization) (57.4.0)\n",
            "Requirement already satisfied: pytz>=2017.3 in /usr/local/lib/python3.7/dist-packages (from pandas>=1.0.4->matrix_factorization) (2022.1)\n",
            "Requirement already satisfied: python-dateutil>=2.7.3 in /usr/local/lib/python3.7/dist-packages (from pandas>=1.0.4->matrix_factorization) (2.8.2)\n",
            "Requirement already satisfied: six>=1.5 in /usr/local/lib/python3.7/dist-packages (from python-dateutil>=2.7.3->pandas>=1.0.4->matrix_factorization) (1.15.0)\n",
            "Requirement already satisfied: threadpoolctl>=2.0.0 in /usr/local/lib/python3.7/dist-packages (from scikit-learn>=0.23.1->matrix_factorization) (3.1.0)\n",
            "Requirement already satisfied: joblib>=0.11 in /usr/local/lib/python3.7/dist-packages (from scikit-learn>=0.23.1->matrix_factorization) (1.1.0)\n",
            "Building wheels for collected packages: matrix-factorization\n",
            "  Building wheel for matrix-factorization (setup.py) ... \u001b[?25l\u001b[?25hdone\n",
            "  Created wheel for matrix-factorization: filename=matrix_factorization-1.3-py3-none-any.whl size=16467 sha256=bc13bc877e7ead9bf1230507b38572edbed3373b40653b74596a4dbb9dbb1c1e\n",
            "  Stored in directory: /root/.cache/pip/wheels/f6/34/7b/11dd792f060e9c2d7230855147d3bfadbd2b6bbcf5132dcbbc\n",
            "Successfully built matrix-factorization\n",
            "Installing collected packages: matrix-factorization\n",
            "Successfully installed matrix-factorization-1.3\n"
          ]
        }
      ],
      "source": [
        "pip install matrix_factorization"
      ]
    },
    {
      "cell_type": "code",
      "execution_count": null,
      "metadata": {
        "colab": {
          "base_uri": "https://localhost:8080/"
        },
        "id": "66xUSesCBI-M",
        "outputId": "92e5c134-8fb1-4265-de27-eef903937be0"
      },
      "outputs": [
        {
          "output_type": "stream",
          "name": "stdout",
          "text": [
            "Collecting numba==0.53.0\n",
            "  Downloading numba-0.53.0-cp37-cp37m-manylinux2014_x86_64.whl (3.4 MB)\n",
            "\u001b[K     |████████████████████████████████| 3.4 MB 7.2 MB/s \n",
            "\u001b[?25hRequirement already satisfied: numpy>=1.15 in /usr/local/lib/python3.7/dist-packages (from numba==0.53.0) (1.21.6)\n",
            "Requirement already satisfied: setuptools in /usr/local/lib/python3.7/dist-packages (from numba==0.53.0) (57.4.0)\n",
            "Collecting llvmlite<0.37,>=0.36.0rc1\n",
            "  Downloading llvmlite-0.36.0-cp37-cp37m-manylinux2010_x86_64.whl (25.3 MB)\n",
            "\u001b[K     |████████████████████████████████| 25.3 MB 1.3 MB/s \n",
            "\u001b[?25hInstalling collected packages: llvmlite, numba\n",
            "  Attempting uninstall: llvmlite\n",
            "    Found existing installation: llvmlite 0.34.0\n",
            "    Uninstalling llvmlite-0.34.0:\n",
            "      Successfully uninstalled llvmlite-0.34.0\n",
            "  Attempting uninstall: numba\n",
            "    Found existing installation: numba 0.51.2\n",
            "    Uninstalling numba-0.51.2:\n",
            "      Successfully uninstalled numba-0.51.2\n",
            "Successfully installed llvmlite-0.36.0 numba-0.53.0\n"
          ]
        }
      ],
      "source": [
        "pip install numba==0.53.0"
      ]
    },
    {
      "cell_type": "code",
      "execution_count": null,
      "metadata": {
        "id": "mPE4D_SR9l9m"
      },
      "outputs": [],
      "source": [
        "from matrix_factorization import BaselineModel, KernelMF\n",
        "from sklearn.metrics import mean_squared_error\n",
        "from sklearn.model_selection import train_test_split\n",
        "#Training the model\n",
        "ratings = ratings.rename(columns={'userId': 'user_id', 'movieId': 'item_id'})\n",
        "X = ratings[['user_id', 'item_id']]\n",
        "y = ratings['rating']\n",
        "# Prepare data. SPlit it to train and val data to make sure the model was not overfitting\n",
        "X_train, X_test, y_train, y_test = train_test_split(X, y, test_size=0.2, random_state = 42)\n"
      ]
    },
    {
      "cell_type": "markdown",
      "metadata": {
        "id": "6e6XiOJ6_7WT"
      },
      "source": [
        "I set n_epoch to 75, as after 75 ephochs, the model started to overfit. I set n_factors to 30 as the model was performing well with that. I set regularization to .00001 to prevent overfitting."
      ]
    },
    {
      "cell_type": "code",
      "execution_count": null,
      "metadata": {
        "colab": {
          "base_uri": "https://localhost:8080/"
        },
        "id": "Lp6JXAxf2ulm",
        "outputId": "0e335a53-aea3-45f7-88ec-650c949025d5"
      },
      "outputs": [
        {
          "output_type": "stream",
          "name": "stdout",
          "text": [
            "Epoch  1 / 75  -  train_rmse: 1.077603043973847\n",
            "Epoch  2 / 75  -  train_rmse: 1.0491873427019625\n",
            "Epoch  3 / 75  -  train_rmse: 1.0283973652844023\n",
            "Epoch  4 / 75  -  train_rmse: 1.01256893460606\n",
            "Epoch  5 / 75  -  train_rmse: 1.0001122887576843\n",
            "Epoch  6 / 75  -  train_rmse: 0.9900225254515012\n",
            "Epoch  7 / 75  -  train_rmse: 0.9816641799991912\n",
            "Epoch  8 / 75  -  train_rmse: 0.974615387510719\n",
            "Epoch  9 / 75  -  train_rmse: 0.9685572484357554\n",
            "Epoch  10 / 75  -  train_rmse: 0.9632802102854381\n",
            "Epoch  11 / 75  -  train_rmse: 0.9586178028748943\n",
            "Epoch  12 / 75  -  train_rmse: 0.9544565025265432\n",
            "Epoch  13 / 75  -  train_rmse: 0.9507046421078639\n",
            "Epoch  14 / 75  -  train_rmse: 0.9472906739224207\n",
            "Epoch  15 / 75  -  train_rmse: 0.9441613620812522\n",
            "Epoch  16 / 75  -  train_rmse: 0.9412715323866437\n",
            "Epoch  17 / 75  -  train_rmse: 0.9385833827863941\n",
            "Epoch  18 / 75  -  train_rmse: 0.9360702885412894\n",
            "Epoch  19 / 75  -  train_rmse: 0.9337082939270751\n",
            "Epoch  20 / 75  -  train_rmse: 0.9314779797159062\n",
            "Epoch  21 / 75  -  train_rmse: 0.9293634876814083\n",
            "Epoch  22 / 75  -  train_rmse: 0.9273497651876718\n",
            "Epoch  23 / 75  -  train_rmse: 0.9254252850072899\n",
            "Epoch  24 / 75  -  train_rmse: 0.9235799324972458\n",
            "Epoch  25 / 75  -  train_rmse: 0.9218040530887939\n",
            "Epoch  26 / 75  -  train_rmse: 0.9200908108104384\n",
            "Epoch  27 / 75  -  train_rmse: 0.9184322979032937\n",
            "Epoch  28 / 75  -  train_rmse: 0.9168236514686234\n",
            "Epoch  29 / 75  -  train_rmse: 0.9152579552495335\n",
            "Epoch  30 / 75  -  train_rmse: 0.9137308391607918\n",
            "Epoch  31 / 75  -  train_rmse: 0.9122375077183124\n",
            "Epoch  32 / 75  -  train_rmse: 0.9107753676079915\n",
            "Epoch  33 / 75  -  train_rmse: 0.9093388411098369\n",
            "Epoch  34 / 75  -  train_rmse: 0.9079257414695336\n",
            "Epoch  35 / 75  -  train_rmse: 0.9065325115006356\n",
            "Epoch  36 / 75  -  train_rmse: 0.9051563137355287\n",
            "Epoch  37 / 75  -  train_rmse: 0.9037949221539333\n",
            "Epoch  38 / 75  -  train_rmse: 0.9024448807877578\n",
            "Epoch  39 / 75  -  train_rmse: 0.9011050262902155\n",
            "Epoch  40 / 75  -  train_rmse: 0.8997725321162849\n",
            "Epoch  41 / 75  -  train_rmse: 0.898445579581934\n",
            "Epoch  42 / 75  -  train_rmse: 0.8971218477856818\n",
            "Epoch  43 / 75  -  train_rmse: 0.8957998408841558\n",
            "Epoch  44 / 75  -  train_rmse: 0.8944780015597529\n",
            "Epoch  45 / 75  -  train_rmse: 0.8931543122484574\n",
            "Epoch  46 / 75  -  train_rmse: 0.8918271136932836\n",
            "Epoch  47 / 75  -  train_rmse: 0.890495507950044\n",
            "Epoch  48 / 75  -  train_rmse: 0.8891576704539377\n",
            "Epoch  49 / 75  -  train_rmse: 0.887812384806772\n",
            "Epoch  50 / 75  -  train_rmse: 0.8864575368249282\n",
            "Epoch  51 / 75  -  train_rmse: 0.8850927013017048\n",
            "Epoch  52 / 75  -  train_rmse: 0.8837167610976168\n",
            "Epoch  53 / 75  -  train_rmse: 0.8823278565481038\n",
            "Epoch  54 / 75  -  train_rmse: 0.8809253962036603\n",
            "Epoch  55 / 75  -  train_rmse: 0.8795082891652264\n",
            "Epoch  56 / 75  -  train_rmse: 0.8780754086932253\n",
            "Epoch  57 / 75  -  train_rmse: 0.8766257746870353\n",
            "Epoch  58 / 75  -  train_rmse: 0.8751585806341551\n",
            "Epoch  59 / 75  -  train_rmse: 0.8736728264880548\n",
            "Epoch  60 / 75  -  train_rmse: 0.872167559887006\n",
            "Epoch  61 / 75  -  train_rmse: 0.8706424167360333\n",
            "Epoch  62 / 75  -  train_rmse: 0.8690959520669111\n",
            "Epoch  63 / 75  -  train_rmse: 0.8675282985821727\n",
            "Epoch  64 / 75  -  train_rmse: 0.8659385069999087\n",
            "Epoch  65 / 75  -  train_rmse: 0.8643259507136036\n",
            "Epoch  66 / 75  -  train_rmse: 0.862689925362914\n",
            "Epoch  67 / 75  -  train_rmse: 0.861029961035597\n",
            "Epoch  68 / 75  -  train_rmse: 0.8593458798829157\n",
            "Epoch  69 / 75  -  train_rmse: 0.8576374093913661\n",
            "Epoch  70 / 75  -  train_rmse: 0.8559039110324893\n",
            "Epoch  71 / 75  -  train_rmse: 0.8541455013772261\n",
            "Epoch  72 / 75  -  train_rmse: 0.8523617462173899\n",
            "Epoch  73 / 75  -  train_rmse: 0.850552886736267\n",
            "Epoch  74 / 75  -  train_rmse: 0.8487185864959435\n",
            "Epoch  75 / 75  -  train_rmse: 0.846859097942497\n",
            "Epoch  1 / 75  -  train_rmse: 1.1113067100156597\n",
            "Epoch  2 / 75  -  train_rmse: 1.098428051380469\n",
            "Epoch  3 / 75  -  train_rmse: 1.0867671698687102\n",
            "Epoch  4 / 75  -  train_rmse: 1.0761529788130146\n",
            "Epoch  5 / 75  -  train_rmse: 1.0664344968087716\n",
            "Epoch  6 / 75  -  train_rmse: 1.0575005329877738\n",
            "Epoch  7 / 75  -  train_rmse: 1.0492412164376306\n",
            "Epoch  8 / 75  -  train_rmse: 1.0415764741501121\n",
            "Epoch  9 / 75  -  train_rmse: 1.0344480565380003\n",
            "Epoch  10 / 75  -  train_rmse: 1.0277838443245795\n",
            "Epoch  11 / 75  -  train_rmse: 1.021545163667665\n",
            "Epoch  12 / 75  -  train_rmse: 1.0156820660519357\n",
            "Epoch  13 / 75  -  train_rmse: 1.0101515648606014\n",
            "Epoch  14 / 75  -  train_rmse: 1.004924946748597\n",
            "Epoch  15 / 75  -  train_rmse: 0.9999723483416662\n",
            "Epoch  16 / 75  -  train_rmse: 0.9952738964844144\n",
            "Epoch  17 / 75  -  train_rmse: 0.9908023895153\n",
            "Epoch  18 / 75  -  train_rmse: 0.9865402528217762\n",
            "Epoch  19 / 75  -  train_rmse: 0.982469877696771\n",
            "Epoch  20 / 75  -  train_rmse: 0.9785764393214097\n",
            "Epoch  21 / 75  -  train_rmse: 0.9748460891665947\n",
            "Epoch  22 / 75  -  train_rmse: 0.971264967285138\n",
            "Epoch  23 / 75  -  train_rmse: 0.9678234365271711\n",
            "Epoch  24 / 75  -  train_rmse: 0.9645132123411227\n",
            "Epoch  25 / 75  -  train_rmse: 0.9613230660713997\n",
            "Epoch  26 / 75  -  train_rmse: 0.9582441058480166\n",
            "Epoch  27 / 75  -  train_rmse: 0.9552712929287475\n",
            "Epoch  28 / 75  -  train_rmse: 0.9523938017286655\n",
            "Epoch  29 / 75  -  train_rmse: 0.9496076537623691\n",
            "Epoch  30 / 75  -  train_rmse: 0.946907790949558\n",
            "Epoch  31 / 75  -  train_rmse: 0.9442882571818934\n",
            "Epoch  32 / 75  -  train_rmse: 0.9417435790996205\n",
            "Epoch  33 / 75  -  train_rmse: 0.9392700472250105\n",
            "Epoch  34 / 75  -  train_rmse: 0.9368624091292447\n",
            "Epoch  35 / 75  -  train_rmse: 0.9345177580240311\n",
            "Epoch  36 / 75  -  train_rmse: 0.9322312292658104\n",
            "Epoch  37 / 75  -  train_rmse: 0.9299998533889807\n",
            "Epoch  38 / 75  -  train_rmse: 0.9278215892771564\n",
            "Epoch  39 / 75  -  train_rmse: 0.9256921338890621\n",
            "Epoch  40 / 75  -  train_rmse: 0.9236095580430935\n",
            "Epoch  41 / 75  -  train_rmse: 0.9215705944232234\n",
            "Epoch  42 / 75  -  train_rmse: 0.9195729265442397\n",
            "Epoch  43 / 75  -  train_rmse: 0.9176144197518584\n",
            "Epoch  44 / 75  -  train_rmse: 0.9156936328031259\n",
            "Epoch  45 / 75  -  train_rmse: 0.9138075025606155\n",
            "Epoch  46 / 75  -  train_rmse: 0.9119545415834089\n",
            "Epoch  47 / 75  -  train_rmse: 0.9101325124506134\n",
            "Epoch  48 / 75  -  train_rmse: 0.9083399195229727\n",
            "Epoch  49 / 75  -  train_rmse: 0.9065758706157158\n",
            "Epoch  50 / 75  -  train_rmse: 0.904838223220874\n",
            "Epoch  51 / 75  -  train_rmse: 0.9031256908597872\n",
            "Epoch  52 / 75  -  train_rmse: 0.9014370197679623\n",
            "Epoch  53 / 75  -  train_rmse: 0.8997708430811328\n",
            "Epoch  54 / 75  -  train_rmse: 0.8981258296670903\n",
            "Epoch  55 / 75  -  train_rmse: 0.8965009261591371\n",
            "Epoch  56 / 75  -  train_rmse: 0.8948949957335732\n",
            "Epoch  57 / 75  -  train_rmse: 0.893306857767579\n",
            "Epoch  58 / 75  -  train_rmse: 0.8917359277958011\n",
            "Epoch  59 / 75  -  train_rmse: 0.8901812435827477\n",
            "Epoch  60 / 75  -  train_rmse: 0.8886419081604424\n",
            "Epoch  61 / 75  -  train_rmse: 0.8871166751135056\n",
            "Epoch  62 / 75  -  train_rmse: 0.8856046483065139\n",
            "Epoch  63 / 75  -  train_rmse: 0.8841056924687541\n",
            "Epoch  64 / 75  -  train_rmse: 0.8826184876740624\n",
            "Epoch  65 / 75  -  train_rmse: 0.881142363719658\n",
            "Epoch  66 / 75  -  train_rmse: 0.8796767744326275\n",
            "Epoch  67 / 75  -  train_rmse: 0.8782210624350065\n",
            "Epoch  68 / 75  -  train_rmse: 0.8767745602329667\n",
            "Epoch  69 / 75  -  train_rmse: 0.8753365506005203\n",
            "Epoch  70 / 75  -  train_rmse: 0.8739065638682371\n",
            "Epoch  71 / 75  -  train_rmse: 0.8724838884239309\n",
            "Epoch  72 / 75  -  train_rmse: 0.8710680534235782\n",
            "Epoch  73 / 75  -  train_rmse: 0.8696586264316905\n",
            "Epoch  74 / 75  -  train_rmse: 0.8682551458235784\n",
            "Epoch  75 / 75  -  train_rmse: 0.8668569542417673\n"
          ]
        },
        {
          "output_type": "execute_result",
          "data": {
            "text/plain": [
              "KernelMF(gamma=0.03333333333333333, lr=0.001, n_epochs=75, n_factors=30,\n",
              "         reg=1e-05)"
            ]
          },
          "metadata": {},
          "execution_count": 23
        }
      ],
      "source": [
        "matrix_fact = KernelMF(n_epochs = 75, n_factors = 30, lr = 0.001, reg = 0.00001)\n",
        "matrix_fact.fit(X_train, y_train)\n",
        "matrix_fact_val = KernelMF(n_epochs = 75, n_factors = 30, lr = 0.001, reg = 0.00001)\n",
        "matrix_fact_val.fit(X_test, y_test)"
      ]
    },
    {
      "cell_type": "markdown",
      "metadata": {
        "id": "sTZNdXtqCZZz"
      },
      "source": [
        "As you can see above, the train RMSE finished at .82 and the val RMSE finished at .86. I therefore do not think that the model is overfitting. "
      ]
    },
    {
      "cell_type": "markdown",
      "metadata": {
        "id": "4mSUG8FxCzNN"
      },
      "source": [
        "# **matrix_factorization RMSE**"
      ]
    },
    {
      "cell_type": "code",
      "execution_count": null,
      "metadata": {
        "colab": {
          "base_uri": "https://localhost:8080/"
        },
        "id": "rmeP0CWV2ysm",
        "outputId": "ba08bc96-7865-4635-f6a0-eb7134ec1bcc"
      },
      "outputs": [
        {
          "output_type": "stream",
          "name": "stdout",
          "text": [
            "0.964549176568027\n"
          ]
        }
      ],
      "source": [
        "test = test.rename(columns={'userId': 'user_id', 'movieId': 'item_id'})\n",
        "\n",
        "x_test = test[['user_id', 'item_id']]\n",
        "pred = matrix_fact.predict(x_test)\n",
        "rmse = mean_squared_error(test.rating, pred, squared = False)\n",
        "print(rmse)"
      ]
    },
    {
      "cell_type": "markdown",
      "metadata": {
        "id": "5nDeEqYOC3dW"
      },
      "source": [
        "As you can see above, the RMSE of the matrix_factorization model using the test dataset is around .96, which is pretty good."
      ]
    },
    {
      "cell_type": "markdown",
      "metadata": {
        "id": "vzzRLV7ZDIe7"
      },
      "source": [
        "**RMSE Comparisons between the three Simple models:**\n",
        "\n",
        "SVD Model: .96\n",
        "\n",
        "Turicreate Model: 1.04\n",
        "\n",
        "matrix_factorization model: .96"
      ]
    },
    {
      "cell_type": "markdown",
      "metadata": {
        "id": "SIG0UClIDZKS"
      },
      "source": [
        "# **HYBRID MODEL**\n",
        "\n",
        "For the hybrid model, I will take the embeddings that were made from the movie and user ID's using the matrix_factorization model and I will combine those embeddings with the one-hot encoded genres from the ml_movies dataset. I will also add the normalized age of the user and his gender and profession. The user embeddings and movie embeddings each have a length of 30. What I do is I multiply the user_embedding[0] * movie_embedding[0], and do the same for embedding[1] * movie_embedding[1], etc up until 30. Then I add the one-hot encoded genres at the end of the araay. In essence, I will have a 2d array like:\n",
        "\n",
        "\n",
        "[[embeddings of user1[0] * embeddings that movie[0], embeddings of user1[1] * embeddings that movie[1], etc. until embeddings of user1[30] * embeddings that movie[30] genres of that movie, normalized age of user, one-hot encoded gender of user, one-hot encoded profession of user], \n",
        "[embeddings of user2[0] * embeddings that movie[0], embeddings of user2[1] * embeddings that movie[1], etc. until embeddings of user2[30] * embeddings that movie[30] genres of that movie, , normalized age of user, one-hot encoded gender of user, one-hot encoded profession of user],\n",
        "etc.]\n",
        "\n",
        "So you end up with a 2d matrix with features of (80k, 73)\n",
        "\n",
        "The reason for multiplying the first feature in the movie by the first feature in the user, etc. and keeping each one and not doing the dot product of the two matrices is because each user feature is co-dependent on the movie but if you add it up all together then you are losing some of the data that could be helpful when combined with the genres. \n",
        "\n",
        "After constructing the 2d array, I will pass it through a neural network and get the RMSE of that model. \n",
        "\n",
        "I broke this hybrid part into two parts:\n",
        "\n",
        "1. fitting the model and constructing the model with the training data embeddings \n",
        "\n",
        "2. Using the test data to get the RMSE of thee model. In order to pass the test data into the model, I had to get the test data in the same format as the train data. This meant creating user and movie ID embeddings for the test data as well. "
      ]
    },
    {
      "cell_type": "markdown",
      "metadata": {
        "id": "M1O1qfcp3Bkn"
      },
      "source": [
        "**1. Training Part**\n",
        "\n",
        "The matrix_factorization class has a map called user_id_map which maps the UserID to the index in the user_features array which is the user's embedding. The item_id map does the same thing for the movie IDs - it maps the movie to its features. Therefore, what I did is the following. For every user, I get the movieID and userID and then with those, I get the index from the map, and from that index, I get the userID and movieID embeddings. For the user info, I get the user ID and match that userID with the right row in the u.user dataset. For the genre, I take the movieID, find the row in the ml_movies dataset with that movieID and then take the genres from that row. Then, I set the data up like I described above, with the genres in the matrix as well. \n",
        "\n",
        "That is what is done in the code cell below. It takes aboue 3 minutes to run"
      ]
    },
    {
      "cell_type": "code",
      "execution_count": null,
      "metadata": {
        "colab": {
          "base_uri": "https://localhost:8080/"
        },
        "id": "4knUWNzA3A_Q",
        "outputId": "846fc548-d1ac-4295-b86d-188da3afc1df"
      },
      "outputs": [
        {
          "output_type": "stream",
          "name": "stdout",
          "text": [
            "(80000, 30)\n",
            "(80000,)\n",
            "(80000, 1, 19)\n"
          ]
        },
        {
          "output_type": "stream",
          "name": "stderr",
          "text": [
            "/usr/local/lib/python3.7/dist-packages/numpy/core/fromnumeric.py:1970: VisibleDeprecationWarning: Creating an ndarray from ragged nested sequences (which is a list-or-tuple of lists-or-tuples-or ndarrays with different lengths or shapes) is deprecated. If you meant to do this, you must specify 'dtype=object' when creating the ndarray.\n",
            "  result = asarray(a).shape\n"
          ]
        },
        {
          "output_type": "stream",
          "name": "stdout",
          "text": [
            "(80000, 1, 26)\n"
          ]
        }
      ],
      "source": [
        "users = ratings['user_id'].tolist()\n",
        "movies = ratings['item_id'].tolist()\n",
        "movie_ratings = ratings['rating'].tolist()\n",
        "\n",
        "genres = []\n",
        "user_embedding = []\n",
        "movie_embedding = []\n",
        "user_info = []\n",
        "y_test = []\n",
        "for user in users:\n",
        "  genders = []\n",
        "  #get user embeddings\n",
        "  user_embedding.append(matrix_fact.user_features[matrix_fact.user_id_map.get(user)])\n",
        "  #get the user info (age, gender, profession)\n",
        "  user_list = users_list.loc[users_list.userId == user]\n",
        "  user_list = user_list[['userId', 'age', 'zipcode', 'gender_F', 'gender_M', 'profession_administrator','profession_artist', 'profession_doctor', 'profession_educator', 'profession_engineer', 'profession_entertainment',  'profession_executive', 'profession_healthcare',  'profession_homemaker',  'profession_lawyer',  'profession_librarian', 'profession_marketing', 'profession_none', 'profession_other', 'profession_programmer', 'profession_retired', 'profession_salesman',  'profession_scientist', 'profession_student', 'profession_technician', 'profession_writer' ]].values.tolist()\n",
        "  user_info.append(user_list)\n",
        "for movie in movies:\n",
        "  #get movie embeddings\n",
        "  movie_embedding.append(matrix_fact.item_features[matrix_fact.item_id_map.get(movie)])\n",
        "  #get genre of the movie\n",
        "  full_movie_dataset =  ml_movies.loc[ml_movies.ml_movieId == movie]\n",
        "  genre = full_movie_dataset[[\"genre_unknown\", \"Action\", \"Adventure\", \"Animation\", \"Family\", \"Comedy\", \"Crime\", \"Documentary\", \"Drama\", \"Fantasy\", \"Film-Noir\", \"Horror\", \"Music\", \"Mystery\", \"Romance\", \"Science Fiction\", \"Thriller\", \"War\", \"Western\"]].values.tolist()\n",
        "  genres.append(genre)\n",
        "  y_test.append(movie_ratings[movie])\n",
        "y_test = np.asarray(y_test)\n",
        "print(np.shape(user_embedding))\n",
        "print(np.shape(movie_embedding))\n",
        "print(np.shape(genres))\n",
        "print(np.shape(user_info))"
      ]
    },
    {
      "cell_type": "markdown",
      "metadata": {
        "id": "Ot9wkAJQK5aq"
      },
      "source": [
        "As you can see, I printed the shape of the user_embeddings. It is (80000, 30), which makes sense as there are 80k rows in the training dataset and I set n_factors to equal 30, so there should be 30 abstract features in the sub-matrices. Additionally, there are 19 genres and 26 pieces of info about the user.\n"
      ]
    },
    {
      "cell_type": "markdown",
      "metadata": {
        "id": "vwPdPvcWLceb"
      },
      "source": [
        "The next thing I do with the data is make the 2d matrix as described above so I can pass it in to the Neural Network. The 2d matrixx should have a shape of 80k by 73 (30 of the user embedding * movie embeddings combonations  + 19 for genres + 1 for age + 2 for gender + 21 for professions).However, there are 39 matrices witin the 2d array that do not have the full 139 features and are therefore not included in the 2d array. Thus, as you can see below, the shape of the 2d matrix is (79961, 73) and not (80000, 73). \n",
        "In this code below, I also line up the test data correctly so that I can pass it into the train_test_split.\n",
        "\n"
      ]
    },
    {
      "cell_type": "code",
      "source": [
        "final_matrix = []\n",
        "final_test_matrix = []\n",
        "for i in range(0, 80000):\n",
        "  matrix = []\n",
        "  #combine the user embedding, movie embedding and genres into one matrix\n",
        "  user_embedding[i] = [float(v) for v in user_embedding[i]]\n",
        "\n",
        "  matrix.extend([a*b for a,b in zip(user_embedding[i],movie_embedding[i])])\n",
        "\n",
        "  genre = [float(j) for j in genres[i][0]]\n",
        "  matrix.extend(genre)\n",
        "  #get the age of user\n",
        "  matrix.extend([user_info[i][0][1]])\n",
        "  #get the one-hot encoded gender and professions\n",
        "  for x in range (3 , 26):\n",
        "    matrix.extend([user_info[i][0][x]])\n",
        "  #check to make sure there are 73 features\n",
        "  if (np.array(matrix).shape == (73,)):\n",
        "    final_test_matrix.append(y_test[i])\n",
        "    final_matrix.append(np.array(matrix, dtype=object))\n",
        "#convert to an np array so that it can be put into the Neural Network\n",
        "final_matrix = np.asarray(final_matrix, dtype=object)\n",
        "final_test_matrix = np.asarray(final_test_matrix, dtype=object)\n",
        "print(np.shape(final_matrix))\n",
        "print(np.shape(final_test_matrix))\n",
        "#below you can see an example of one of the arrays in the 2d array. \n",
        "print(np.shape(final_matrix))\n"
      ],
      "metadata": {
        "colab": {
          "base_uri": "https://localhost:8080/"
        },
        "id": "nU2z1woJR7dg",
        "outputId": "1174843f-702d-48b5-f4bf-f1c25e8dccba"
      },
      "execution_count": null,
      "outputs": [
        {
          "output_type": "stream",
          "name": "stderr",
          "text": [
            "/usr/local/lib/python3.7/dist-packages/ipykernel_launcher.py:18: VisibleDeprecationWarning: Creating an ndarray from ragged nested sequences (which is a list-or-tuple of lists-or-tuples-or ndarrays with different lengths or shapes) is deprecated. If you meant to do this, you must specify 'dtype=object' when creating the ndarray.\n"
          ]
        },
        {
          "output_type": "stream",
          "name": "stdout",
          "text": [
            "(79961, 73)\n",
            "(79961,)\n",
            "(79961, 73)\n"
          ]
        }
      ]
    },
    {
      "cell_type": "code",
      "execution_count": null,
      "metadata": {
        "colab": {
          "base_uri": "https://localhost:8080/"
        },
        "id": "QXgAXvpO1xps",
        "outputId": "92b8269e-b65c-492f-9653-2a201b09a326"
      },
      "outputs": [
        {
          "output_type": "stream",
          "name": "stdout",
          "text": [
            "[-0.02363814706283003 -0.003933670901311338 0.011028269589947601\n",
            " -0.010112477678210994 -0.002299236199741434 0.0023089981296091134\n",
            " 0.031023887085438115 -0.017334281521022944 -0.002751745963005455\n",
            " 0.017904992134256913 -0.02808903196418546 -0.03073443053145639\n",
            " 0.0027819812542168192 0.026009377211296016 -0.00038615608097963854\n",
            " -0.022535199099018806 -0.008578969351115715 -0.03240400144361543\n",
            " 0.004723679526541698 0.010050381830671685 0.07291562208817326\n",
            " 0.028329239871375367 0.00015256289581969137 -0.013368431998583945\n",
            " 0.07075361161130632 -0.023908225408960943 0.0016821802827144872\n",
            " 0.002011250428366152 0.04219218656318163 0.0014913792603873566 0.0 0.0\n",
            " 0.0 1.0 1.0 1.0 0.0 0.0 0.0 0.0 0.0 0.0 0.0 0.0 0.0 0.0 0.0 0.0 0.0\n",
            " 0.3287671232876712 0 1 0 0 0 0 0 0 0 0 0 0 0 0 0 0 0 0 0 0 0 1 0]\n"
          ]
        }
      ],
      "source": [
        "print(final_matrix[0])"
      ]
    },
    {
      "cell_type": "code",
      "execution_count": null,
      "metadata": {
        "colab": {
          "base_uri": "https://localhost:8080/"
        },
        "id": "RfGRKiBA3RDV",
        "outputId": "ed0f6a94-df10-4824-f4e9-4d0b31732fb2"
      },
      "outputs": [
        {
          "output_type": "stream",
          "name": "stdout",
          "text": [
            "(79961, 73)\n",
            "[-1.6677584e-05  1.4420399e-02 -3.8465345e-03 -7.8709405e-03\n",
            " -2.3868628e-02  9.0962527e-03 -8.8337930e-03  9.2794141e-03\n",
            "  5.7977401e-03 -1.0206482e-03 -1.7286027e-02  1.3164919e-02\n",
            " -1.0212304e-03  4.1338327e-04 -6.2192702e-03 -2.2079399e-02\n",
            "  1.2557406e-02  3.7189957e-03  2.2957256e-02 -2.8498087e-04\n",
            " -2.6145440e-02  9.2368228e-03 -1.4488453e-02  8.0187684e-03\n",
            " -1.5097253e-03  1.2836302e-02  1.1605097e-02 -3.3927195e-02\n",
            " -2.6132099e-02  7.1267843e-02  0.0000000e+00  0.0000000e+00\n",
            "  0.0000000e+00  0.0000000e+00  0.0000000e+00  0.0000000e+00\n",
            "  0.0000000e+00  0.0000000e+00  1.0000000e+00  0.0000000e+00\n",
            "  0.0000000e+00  0.0000000e+00  0.0000000e+00  0.0000000e+00\n",
            "  0.0000000e+00  0.0000000e+00  0.0000000e+00  1.0000000e+00\n",
            "  0.0000000e+00  3.9726028e-01  1.0000000e+00  0.0000000e+00\n",
            "  0.0000000e+00  0.0000000e+00  0.0000000e+00  0.0000000e+00\n",
            "  0.0000000e+00  0.0000000e+00  0.0000000e+00  0.0000000e+00\n",
            "  0.0000000e+00  0.0000000e+00  0.0000000e+00  0.0000000e+00\n",
            "  0.0000000e+00  0.0000000e+00  0.0000000e+00  0.0000000e+00\n",
            "  0.0000000e+00  0.0000000e+00  1.0000000e+00  0.0000000e+00\n",
            "  0.0000000e+00]\n"
          ]
        }
      ],
      "source": [
        "#below you can see an example of one of the arrays in the 2d array. \n",
        "print(np.shape(final_matrix))\n",
        "\n",
        "#split the data into training and testing\n",
        "X_train, X_test, y_train, y_test = train_test_split(final_matrix, final_test_matrix, test_size=0.20, random_state = 42)\n",
        "\n",
        "X_train = np.asarray(X_train).astype(np.float32)\n",
        "y_train = np.asarray(y_train).astype(np.float32)\n",
        "X_test = np.asarray(X_test).astype(np.float32)\n",
        "y_test = np.asarray(y_test).astype(np.float32)\n",
        "print(X_train[0])"
      ]
    },
    {
      "cell_type": "markdown",
      "metadata": {
        "id": "aZPa6FGtM5YJ"
      },
      "source": [
        "# **Keras Model**\n",
        "\n",
        "For the Keras Model, I decided to have 4 layers, with the input layer having 128 units and the output layer having 1 unit (a rating between 0 and 5). The input shape is 73 as described above. I decided to use relu as the activation for all the layers and have a dropout of .5 between all the layers. I used adam as the optimizer and MSE as the loss. I then used a batch size of 128 and ran the model for 40 epochs (the loss started to stabilize at around 35/40 epochs).\n",
        "The reason for all these choices is because this led to a model which did not overfit and led to a good RMSE using the training dataset and a pretty good RMSE using the testing dataset, as you will see below."
      ]
    },
    {
      "cell_type": "code",
      "execution_count": null,
      "metadata": {
        "colab": {
          "base_uri": "https://localhost:8080/"
        },
        "id": "V2kky5eS3Vww",
        "outputId": "a494f67d-3693-4ae9-947f-6fa612e04917"
      },
      "outputs": [
        {
          "output_type": "stream",
          "name": "stdout",
          "text": [
            "Model: \"sequential_4\"\n",
            "_________________________________________________________________\n",
            " Layer (type)                Output Shape              Param #   \n",
            "=================================================================\n",
            " dense_16 (Dense)            (None, 128)               9472      \n",
            "                                                                 \n",
            " dropout_12 (Dropout)        (None, 128)               0         \n",
            "                                                                 \n",
            " dense_17 (Dense)            (None, 32)                4128      \n",
            "                                                                 \n",
            " dropout_13 (Dropout)        (None, 32)                0         \n",
            "                                                                 \n",
            " dense_18 (Dense)            (None, 8)                 264       \n",
            "                                                                 \n",
            " dropout_14 (Dropout)        (None, 8)                 0         \n",
            "                                                                 \n",
            " dense_19 (Dense)            (None, 1)                 9         \n",
            "                                                                 \n",
            "=================================================================\n",
            "Total params: 13,873\n",
            "Trainable params: 13,873\n",
            "Non-trainable params: 0\n",
            "_________________________________________________________________\n"
          ]
        }
      ],
      "source": [
        "from tensorflow import keras\n",
        "from tensorflow.keras.models import Sequential\n",
        "from tensorflow.keras.layers import Dense, Activation, Dropout\n",
        "import tensorflow as tf\n",
        "\n",
        "from tensorflow.keras import layers\n",
        "model = Sequential()\n",
        "model.add(Dense(128, input_shape = [73], activation='relu'))\n",
        "model.add(Dropout(0.5))\n",
        "model.add(Dense(32, activation='relu'))\n",
        "model.add(Dropout(0.5))\n",
        "model.add(Dense(8, activation='relu'))\n",
        "model.add(Dropout(0.5))\n",
        "model.add(Dense(1, activation= 'relu'))\n",
        "\n",
        "model.summary()"
      ]
    },
    {
      "cell_type": "code",
      "execution_count": null,
      "metadata": {
        "id": "3Wf2_Cmf3ahT"
      },
      "outputs": [],
      "source": [
        "model.compile(\n",
        "    optimizer='adam',\n",
        "    loss=['mean_squared_error'])"
      ]
    },
    {
      "cell_type": "code",
      "execution_count": null,
      "metadata": {
        "colab": {
          "base_uri": "https://localhost:8080/"
        },
        "id": "hRUOA8vC3d-C",
        "outputId": "17fafd6a-f47a-46c6-83d5-5622c5fe99a1"
      },
      "outputs": [
        {
          "output_type": "stream",
          "name": "stdout",
          "text": [
            "Epoch 1/40\n",
            "400/400 [==============================] - 2s 3ms/step - loss: 5.7804 - val_loss: 2.6121\n",
            "Epoch 2/40\n",
            "400/400 [==============================] - 1s 3ms/step - loss: 4.1964 - val_loss: 2.0458\n",
            "Epoch 3/40\n",
            "400/400 [==============================] - 1s 3ms/step - loss: 3.5062 - val_loss: 1.8823\n",
            "Epoch 4/40\n",
            "400/400 [==============================] - 1s 3ms/step - loss: 2.7886 - val_loss: 1.6723\n",
            "Epoch 5/40\n",
            "400/400 [==============================] - 1s 3ms/step - loss: 2.4178 - val_loss: 1.5884\n",
            "Epoch 6/40\n",
            "400/400 [==============================] - 1s 3ms/step - loss: 2.1742 - val_loss: 1.4488\n",
            "Epoch 7/40\n",
            "400/400 [==============================] - 1s 3ms/step - loss: 1.9647 - val_loss: 1.4105\n",
            "Epoch 8/40\n",
            "400/400 [==============================] - 1s 3ms/step - loss: 1.8082 - val_loss: 1.3579\n",
            "Epoch 9/40\n",
            "400/400 [==============================] - 1s 3ms/step - loss: 1.6537 - val_loss: 1.3009\n",
            "Epoch 10/40\n",
            "400/400 [==============================] - 1s 3ms/step - loss: 1.5376 - val_loss: 1.2883\n",
            "Epoch 11/40\n",
            "400/400 [==============================] - 1s 3ms/step - loss: 1.4653 - val_loss: 1.2684\n",
            "Epoch 12/40\n",
            "400/400 [==============================] - 1s 3ms/step - loss: 1.3996 - val_loss: 1.2591\n",
            "Epoch 13/40\n",
            "400/400 [==============================] - 1s 3ms/step - loss: 1.3519 - val_loss: 1.2440\n",
            "Epoch 14/40\n",
            "400/400 [==============================] - 1s 3ms/step - loss: 1.3233 - val_loss: 1.2221\n",
            "Epoch 15/40\n",
            "400/400 [==============================] - 1s 3ms/step - loss: 1.3038 - val_loss: 1.2208\n",
            "Epoch 16/40\n",
            "400/400 [==============================] - 1s 3ms/step - loss: 1.2910 - val_loss: 1.2114\n",
            "Epoch 17/40\n",
            "400/400 [==============================] - 1s 3ms/step - loss: 1.2794 - val_loss: 1.2132\n",
            "Epoch 18/40\n",
            "400/400 [==============================] - 1s 3ms/step - loss: 1.2761 - val_loss: 1.2016\n",
            "Epoch 19/40\n",
            "400/400 [==============================] - 1s 3ms/step - loss: 1.2698 - val_loss: 1.1953\n",
            "Epoch 20/40\n",
            "400/400 [==============================] - 1s 3ms/step - loss: 1.2656 - val_loss: 1.1923\n",
            "Epoch 21/40\n",
            "400/400 [==============================] - 1s 3ms/step - loss: 1.2617 - val_loss: 1.1852\n",
            "Epoch 22/40\n",
            "400/400 [==============================] - 1s 3ms/step - loss: 1.2515 - val_loss: 1.1825\n",
            "Epoch 23/40\n",
            "400/400 [==============================] - 1s 3ms/step - loss: 1.2505 - val_loss: 1.1865\n",
            "Epoch 24/40\n",
            "400/400 [==============================] - 1s 3ms/step - loss: 1.2494 - val_loss: 1.1809\n",
            "Epoch 25/40\n",
            "400/400 [==============================] - 1s 3ms/step - loss: 1.2483 - val_loss: 1.1730\n",
            "Epoch 26/40\n",
            "400/400 [==============================] - 1s 3ms/step - loss: 1.2441 - val_loss: 1.1732\n",
            "Epoch 27/40\n",
            "400/400 [==============================] - 1s 3ms/step - loss: 1.2463 - val_loss: 1.1804\n",
            "Epoch 28/40\n",
            "400/400 [==============================] - 1s 3ms/step - loss: 1.2394 - val_loss: 1.1751\n",
            "Epoch 29/40\n",
            "400/400 [==============================] - 1s 3ms/step - loss: 1.2416 - val_loss: 1.1729\n",
            "Epoch 30/40\n",
            "400/400 [==============================] - 1s 3ms/step - loss: 1.2341 - val_loss: 1.1704\n",
            "Epoch 31/40\n",
            "400/400 [==============================] - 1s 3ms/step - loss: 1.2405 - val_loss: 1.1736\n",
            "Epoch 32/40\n",
            "400/400 [==============================] - 1s 3ms/step - loss: 1.2392 - val_loss: 1.1626\n",
            "Epoch 33/40\n",
            "400/400 [==============================] - 1s 3ms/step - loss: 1.2375 - val_loss: 1.1664\n",
            "Epoch 34/40\n",
            "400/400 [==============================] - 1s 3ms/step - loss: 1.2379 - val_loss: 1.1627\n",
            "Epoch 35/40\n",
            "400/400 [==============================] - 1s 3ms/step - loss: 1.2337 - val_loss: 1.1738\n",
            "Epoch 36/40\n",
            "400/400 [==============================] - 1s 3ms/step - loss: 1.2304 - val_loss: 1.1655\n",
            "Epoch 37/40\n",
            "400/400 [==============================] - 1s 3ms/step - loss: 1.2283 - val_loss: 1.1604\n",
            "Epoch 38/40\n",
            "400/400 [==============================] - 1s 3ms/step - loss: 1.2302 - val_loss: 1.1660\n",
            "Epoch 39/40\n",
            "400/400 [==============================] - 1s 3ms/step - loss: 1.2263 - val_loss: 1.1648\n",
            "Epoch 40/40\n",
            "400/400 [==============================] - 1s 3ms/step - loss: 1.2278 - val_loss: 1.1648\n"
          ]
        }
      ],
      "source": [
        "answer = model.fit(\n",
        "    X_train,\n",
        "    y_train,\n",
        "    batch_size=128,\n",
        "    epochs=40,\n",
        "    # Calculate validation results on .2 of  training data\n",
        "    validation_split = 0.2)"
      ]
    },
    {
      "cell_type": "code",
      "execution_count": null,
      "metadata": {
        "colab": {
          "base_uri": "https://localhost:8080/",
          "height": 295
        },
        "id": "yP1Cj7tM3iRQ",
        "outputId": "49c636ed-6820-400e-cbb9-d23b5ff7931d"
      },
      "outputs": [
        {
          "output_type": "display_data",
          "data": {
            "text/plain": [
              "<Figure size 432x288 with 1 Axes>"
            ],
            "image/png": "[encoded data removed]"
          },
          "metadata": {
            "needs_background": "light"
          }
        }
      ],
      "source": [
        "from matplotlib import pyplot as plt\n",
        "plt.plot(answer.history['loss'])\n",
        "plt.plot(answer.history['val_loss'])\n",
        "plt.title('Loss Graph')\n",
        "plt.ylabel('loss')\n",
        "plt.xlabel('epoch')\n",
        "plt.legend(['train', 'val'], loc='upper left')\n",
        "plt.show()"
      ]
    },
    {
      "cell_type": "markdown",
      "metadata": {
        "id": "jKoed_QsOtaL"
      },
      "source": [
        "As you can see above, the training loss ends up at around 1.2 and the val loss is around the same, showing that the model did not overfit."
      ]
    },
    {
      "cell_type": "code",
      "execution_count": null,
      "metadata": {
        "colab": {
          "base_uri": "https://localhost:8080/"
        },
        "id": "aToDVkeG3i43",
        "outputId": "ad9116a6-82c3-4feb-a0f2-48df98a42f13"
      },
      "outputs": [
        {
          "output_type": "stream",
          "name": "stdout",
          "text": [
            "[[3.611653 ]\n",
            " [3.5684063]\n",
            " [3.6352432]\n",
            " [3.648843 ]\n",
            " [3.596571 ]\n",
            " [3.6067119]\n",
            " [3.5906343]\n",
            " [3.615587 ]\n",
            " [3.630107 ]\n",
            " [2.6903596]]\n",
            "4.867549\n",
            "0.4249959\n"
          ]
        }
      ],
      "source": [
        "y_prediction = model.predict(X_test)\n",
        "print((y_prediction[0:10])) #print out some predictions to make sure they are between 0 and 5\n",
        "print(y_prediction.max())\n",
        "print(y_prediction.min())"
      ]
    },
    {
      "cell_type": "markdown",
      "source": [
        "As you can see the max rating from the predictions is around 5 and the min is around .5, showing there is good variation between the ratings. "
      ],
      "metadata": {
        "id": "JP21ZugKe8vA"
      }
    },
    {
      "cell_type": "markdown",
      "metadata": {
        "id": "twU4TMoiO5Vk"
      },
      "source": [
        "# **RMSE using the training dataset**"
      ]
    },
    {
      "cell_type": "code",
      "execution_count": null,
      "metadata": {
        "colab": {
          "base_uri": "https://localhost:8080/"
        },
        "id": "VGQXspj23me9",
        "outputId": "fa2eb379-4487-4a29-e41d-549a0ef6aadb"
      },
      "outputs": [
        {
          "output_type": "stream",
          "name": "stdout",
          "text": [
            "RMSE: 1.0742452144622803\n"
          ]
        }
      ],
      "source": [
        "print('RMSE: {}'.format(np.sqrt(mean_squared_error(y_prediction, y_test))))"
      ]
    },
    {
      "cell_type": "markdown",
      "metadata": {
        "id": "WjRRLg3DO4fL"
      },
      "source": [
        "As you can see, the RMSE using the training dataset is around 1.07, which is not bad. "
      ]
    },
    {
      "cell_type": "markdown",
      "metadata": {
        "id": "GELwpBM13vxb"
      },
      "source": [
        "**2. Testing Part**\n",
        "\n",
        "I do the same thing with the test dataset (get embeddings and make the 2d matrix) so that I can pass it into the model to calculate the model's RMSE with an unseen dataset"
      ]
    },
    {
      "cell_type": "code",
      "execution_count": null,
      "metadata": {
        "colab": {
          "base_uri": "https://localhost:8080/"
        },
        "id": "RjxcdiIA3wW9",
        "outputId": "d235d8d1-f6df-4b42-b0da-de46785ff5f5"
      },
      "outputs": [
        {
          "output_type": "stream",
          "name": "stdout",
          "text": [
            "Epoch  1 / 75  -  train_rmse: 1.129763494145136\n",
            "Epoch  2 / 75  -  train_rmse: 1.1099931659158362\n",
            "Epoch  3 / 75  -  train_rmse: 1.0934120944822194\n",
            "Epoch  4 / 75  -  train_rmse: 1.0793685601401952\n",
            "Epoch  5 / 75  -  train_rmse: 1.067316423927595\n",
            "Epoch  6 / 75  -  train_rmse: 1.0568507474186613\n",
            "Epoch  7 / 75  -  train_rmse: 1.0476673605953226\n",
            "Epoch  8 / 75  -  train_rmse: 1.0395016364897238\n",
            "Epoch  9 / 75  -  train_rmse: 1.0321894759572925\n",
            "Epoch  10 / 75  -  train_rmse: 1.02557898267541\n",
            "Epoch  11 / 75  -  train_rmse: 1.0195584228055243\n",
            "Epoch  12 / 75  -  train_rmse: 1.0140364825255508\n",
            "Epoch  13 / 75  -  train_rmse: 1.0089361691913308\n",
            "Epoch  14 / 75  -  train_rmse: 1.004195342673503\n",
            "Epoch  15 / 75  -  train_rmse: 0.9997695961171543\n",
            "Epoch  16 / 75  -  train_rmse: 0.9956191708285823\n",
            "Epoch  17 / 75  -  train_rmse: 0.9917086384690399\n",
            "Epoch  18 / 75  -  train_rmse: 0.9880100395061838\n",
            "Epoch  19 / 75  -  train_rmse: 0.984501192634112\n",
            "Epoch  20 / 75  -  train_rmse: 0.981160517203726\n",
            "Epoch  21 / 75  -  train_rmse: 0.9779710361727857\n",
            "Epoch  22 / 75  -  train_rmse: 0.9749165454858085\n",
            "Epoch  23 / 75  -  train_rmse: 0.9719849110671873\n",
            "Epoch  24 / 75  -  train_rmse: 0.9691646124629198\n",
            "Epoch  25 / 75  -  train_rmse: 0.9664469485217642\n",
            "Epoch  26 / 75  -  train_rmse: 0.9638220117919525\n",
            "Epoch  27 / 75  -  train_rmse: 0.9612815436973279\n",
            "Epoch  28 / 75  -  train_rmse: 0.9588194002341969\n",
            "Epoch  29 / 75  -  train_rmse: 0.9564281454229548\n",
            "Epoch  30 / 75  -  train_rmse: 0.9541017353488132\n",
            "Epoch  31 / 75  -  train_rmse: 0.951836231180358\n",
            "Epoch  32 / 75  -  train_rmse: 0.9496276666084303\n",
            "Epoch  33 / 75  -  train_rmse: 0.9474700516094372\n",
            "Epoch  34 / 75  -  train_rmse: 0.9453612437157621\n",
            "Epoch  35 / 75  -  train_rmse: 0.9432970668440547\n",
            "Epoch  36 / 75  -  train_rmse: 0.9412740396642818\n",
            "Epoch  37 / 75  -  train_rmse: 0.9392893631090773\n",
            "Epoch  38 / 75  -  train_rmse: 0.9373402556000066\n",
            "Epoch  39 / 75  -  train_rmse: 0.935424318222033\n",
            "Epoch  40 / 75  -  train_rmse: 0.9335394872944867\n",
            "Epoch  41 / 75  -  train_rmse: 0.9316829567918758\n",
            "Epoch  42 / 75  -  train_rmse: 0.9298535009555094\n",
            "Epoch  43 / 75  -  train_rmse: 0.9280480838322683\n",
            "Epoch  44 / 75  -  train_rmse: 0.9262660035403173\n",
            "Epoch  45 / 75  -  train_rmse: 0.9245049205793497\n",
            "Epoch  46 / 75  -  train_rmse: 0.9227638535628616\n",
            "Epoch  47 / 75  -  train_rmse: 0.9210407899441612\n",
            "Epoch  48 / 75  -  train_rmse: 0.9193348688211079\n",
            "Epoch  49 / 75  -  train_rmse: 0.9176442744401154\n",
            "Epoch  50 / 75  -  train_rmse: 0.9159681776009778\n",
            "Epoch  51 / 75  -  train_rmse: 0.9143053069149051\n",
            "Epoch  52 / 75  -  train_rmse: 0.9126546862213827\n",
            "Epoch  53 / 75  -  train_rmse: 0.9110151308976632\n",
            "Epoch  54 / 75  -  train_rmse: 0.9093858075298624\n",
            "Epoch  55 / 75  -  train_rmse: 0.9077654140706444\n",
            "Epoch  56 / 75  -  train_rmse: 0.9061530461216983\n",
            "Epoch  57 / 75  -  train_rmse: 0.9045482783685187\n",
            "Epoch  58 / 75  -  train_rmse: 0.9029499098718334\n",
            "Epoch  59 / 75  -  train_rmse: 0.9013574796140942\n",
            "Epoch  60 / 75  -  train_rmse: 0.8997698584966188\n",
            "Epoch  61 / 75  -  train_rmse: 0.8981865937239778\n",
            "Epoch  62 / 75  -  train_rmse: 0.8966066211102885\n",
            "Epoch  63 / 75  -  train_rmse: 0.8950295139744479\n",
            "Epoch  64 / 75  -  train_rmse: 0.8934545602095009\n",
            "Epoch  65 / 75  -  train_rmse: 0.8918811765361436\n",
            "Epoch  66 / 75  -  train_rmse: 0.8903085618400632\n",
            "Epoch  67 / 75  -  train_rmse: 0.8887366189818043\n",
            "Epoch  68 / 75  -  train_rmse: 0.8871641677849063\n",
            "Epoch  69 / 75  -  train_rmse: 0.8855910615673394\n",
            "Epoch  70 / 75  -  train_rmse: 0.8840166029247678\n",
            "Epoch  71 / 75  -  train_rmse: 0.882440505195115\n",
            "Epoch  72 / 75  -  train_rmse: 0.8808620688711338\n",
            "Epoch  73 / 75  -  train_rmse: 0.8792807627405256\n",
            "Epoch  74 / 75  -  train_rmse: 0.8776962093370725\n",
            "Epoch  75 / 75  -  train_rmse: 0.8761078592333094\n",
            "Epoch  1 / 75  -  train_rmse: 1.150246657024762\n",
            "Epoch  2 / 75  -  train_rmse: 1.1427021163291387\n",
            "Epoch  3 / 75  -  train_rmse: 1.1354331366508101\n",
            "Epoch  4 / 75  -  train_rmse: 1.1284281891764214\n",
            "Epoch  5 / 75  -  train_rmse: 1.1216739940777152\n",
            "Epoch  6 / 75  -  train_rmse: 1.115153908773151\n",
            "Epoch  7 / 75  -  train_rmse: 1.1088621787977313\n",
            "Epoch  8 / 75  -  train_rmse: 1.1027832551572587\n",
            "Epoch  9 / 75  -  train_rmse: 1.0969058832319478\n",
            "Epoch  10 / 75  -  train_rmse: 1.0912206558969695\n",
            "Epoch  11 / 75  -  train_rmse: 1.0857162753292866\n",
            "Epoch  12 / 75  -  train_rmse: 1.0803850396060761\n",
            "Epoch  13 / 75  -  train_rmse: 1.0752171513737594\n",
            "Epoch  14 / 75  -  train_rmse: 1.0702078325026392\n",
            "Epoch  15 / 75  -  train_rmse: 1.0653443927792299\n",
            "Epoch  16 / 75  -  train_rmse: 1.060621913310746\n",
            "Epoch  17 / 75  -  train_rmse: 1.0560342762925496\n",
            "Epoch  18 / 75  -  train_rmse: 1.0515740913568639\n",
            "Epoch  19 / 75  -  train_rmse: 1.0472349035812196\n",
            "Epoch  20 / 75  -  train_rmse: 1.0430119420119135\n",
            "Epoch  21 / 75  -  train_rmse: 1.0388992764644276\n",
            "Epoch  22 / 75  -  train_rmse: 1.0348919316207814\n",
            "Epoch  23 / 75  -  train_rmse: 1.0309852739704666\n",
            "Epoch  24 / 75  -  train_rmse: 1.027173046915187\n",
            "Epoch  25 / 75  -  train_rmse: 1.023452185759913\n",
            "Epoch  26 / 75  -  train_rmse: 1.0198190632930972\n",
            "Epoch  27 / 75  -  train_rmse: 1.0162689337582922\n",
            "Epoch  28 / 75  -  train_rmse: 1.0127972525471967\n",
            "Epoch  29 / 75  -  train_rmse: 1.0094023970882573\n",
            "Epoch  30 / 75  -  train_rmse: 1.0060806515113256\n",
            "Epoch  31 / 75  -  train_rmse: 1.0028281510165833\n",
            "Epoch  32 / 75  -  train_rmse: 0.9996431464988422\n",
            "Epoch  33 / 75  -  train_rmse: 0.9965226504537873\n",
            "Epoch  34 / 75  -  train_rmse: 0.9934631680047009\n",
            "Epoch  35 / 75  -  train_rmse: 0.990462190584299\n",
            "Epoch  36 / 75  -  train_rmse: 0.9875181830846529\n",
            "Epoch  37 / 75  -  train_rmse: 0.984627861670111\n",
            "Epoch  38 / 75  -  train_rmse: 0.9817903908162773\n",
            "Epoch  39 / 75  -  train_rmse: 0.9790018790643973\n",
            "Epoch  40 / 75  -  train_rmse: 0.9762609612306005\n",
            "Epoch  41 / 75  -  train_rmse: 0.9735661006215937\n",
            "Epoch  42 / 75  -  train_rmse: 0.9709164756556398\n",
            "Epoch  43 / 75  -  train_rmse: 0.9683097532880621\n",
            "Epoch  44 / 75  -  train_rmse: 0.9657432028563896\n",
            "Epoch  45 / 75  -  train_rmse: 0.9632157289515938\n",
            "Epoch  46 / 75  -  train_rmse: 0.9607261243060852\n",
            "Epoch  47 / 75  -  train_rmse: 0.958273329957047\n",
            "Epoch  48 / 75  -  train_rmse: 0.9558568047280493\n",
            "Epoch  49 / 75  -  train_rmse: 0.953473040577858\n",
            "Epoch  50 / 75  -  train_rmse: 0.9511221606672051\n",
            "Epoch  51 / 75  -  train_rmse: 0.9488024327417715\n",
            "Epoch  52 / 75  -  train_rmse: 0.9465135688487076\n",
            "Epoch  53 / 75  -  train_rmse: 0.9442537778872984\n",
            "Epoch  54 / 75  -  train_rmse: 0.9420220751349666\n",
            "Epoch  55 / 75  -  train_rmse: 0.939818322518249\n",
            "Epoch  56 / 75  -  train_rmse: 0.9376408765563845\n",
            "Epoch  57 / 75  -  train_rmse: 0.9354886130981923\n",
            "Epoch  58 / 75  -  train_rmse: 0.9333608801751117\n",
            "Epoch  59 / 75  -  train_rmse: 0.9312569043936811\n",
            "Epoch  60 / 75  -  train_rmse: 0.9291758576996031\n",
            "Epoch  61 / 75  -  train_rmse: 0.9271172021227847\n",
            "Epoch  62 / 75  -  train_rmse: 0.9250799079178491\n",
            "Epoch  63 / 75  -  train_rmse: 0.9230632207416635\n",
            "Epoch  64 / 75  -  train_rmse: 0.9210666316107463\n",
            "Epoch  65 / 75  -  train_rmse: 0.9190894515299786\n",
            "Epoch  66 / 75  -  train_rmse: 0.9171311895245043\n",
            "Epoch  67 / 75  -  train_rmse: 0.9151905229185768\n",
            "Epoch  68 / 75  -  train_rmse: 0.9132675536404986\n",
            "Epoch  69 / 75  -  train_rmse: 0.9113613109564535\n",
            "Epoch  70 / 75  -  train_rmse: 0.9094719205561899\n",
            "Epoch  71 / 75  -  train_rmse: 0.9075981699993101\n",
            "Epoch  72 / 75  -  train_rmse: 0.9057398502197077\n",
            "Epoch  73 / 75  -  train_rmse: 0.9038962601144452\n",
            "Epoch  74 / 75  -  train_rmse: 0.9020668459103915\n",
            "Epoch  75 / 75  -  train_rmse: 0.9002513116129427\n"
          ]
        },
        {
          "output_type": "execute_result",
          "data": {
            "text/plain": [
              "KernelMF(gamma=0.03333333333333333, lr=0.001, n_epochs=75, n_factors=30,\n",
              "         reg=1e-05)"
            ]
          },
          "metadata": {},
          "execution_count": 65
        }
      ],
      "source": [
        "test = test.rename(columns={'userId': 'user_id', 'movieId': 'item_id'})\n",
        "X = test[['user_id', 'item_id']]\n",
        "y = test['rating']\n",
        "# Prepare data\n",
        "X_train, X_test, y_train, y_test = train_test_split(X, y, test_size=0.2)\n",
        "matrix_fact_test = KernelMF(n_epochs = 75, n_factors = 30, lr = 0.001, reg = 0.00001) # more than 200 epochs, val rmse was way higher => overfitting set reg to that to prevent overfitting and seems to work\n",
        "matrix_fact_test.fit(X_train, y_train) #more than 10 n_factors and it was overfitting\n",
        "matrix_fact_test_val = KernelMF(n_epochs = 75, n_factors = 30, lr = 0.001, reg = 0.00001)\n",
        "matrix_fact_test_val.fit(X_test, y_test)"
      ]
    },
    {
      "cell_type": "code",
      "execution_count": null,
      "metadata": {
        "colab": {
          "base_uri": "https://localhost:8080/"
        },
        "id": "pAxHmxUD3_is",
        "outputId": "6485ee02-01ae-43ad-82ca-a00e622f6562"
      },
      "outputs": [
        {
          "output_type": "stream",
          "name": "stdout",
          "text": [
            "(20000, 30)\n",
            "(20000,)\n",
            "(20000, 1, 19)\n"
          ]
        },
        {
          "output_type": "stream",
          "name": "stderr",
          "text": [
            "/usr/local/lib/python3.7/dist-packages/numpy/core/fromnumeric.py:1970: VisibleDeprecationWarning: Creating an ndarray from ragged nested sequences (which is a list-or-tuple of lists-or-tuples-or ndarrays with different lengths or shapes) is deprecated. If you meant to do this, you must specify 'dtype=object' when creating the ndarray.\n",
            "  result = asarray(a).shape\n"
          ]
        }
      ],
      "source": [
        "users = test['user_id'].tolist()\n",
        "movies = test['item_id'].tolist()\n",
        "movie_ratings = test['rating'].tolist()\n",
        "test_genres = []\n",
        "test_user_embedding = []\n",
        "test_movie_embedding = []\n",
        "test_user_info = []\n",
        "test_y_test = []\n",
        "for user in users:\n",
        "  test_user_embedding.append(matrix_fact_test.user_features[matrix_fact_test.user_id_map.get(user)])\n",
        "  test_user_list = users_list.loc[users_list.userId == user]\n",
        "  test_user_list = test_user_list[['userId', 'age', 'zipcode', 'gender_F', 'gender_M', 'profession_administrator','profession_artist', 'profession_doctor', 'profession_educator', 'profession_engineer', 'profession_entertainment',  'profession_executive', 'profession_healthcare',  'profession_homemaker',  'profession_lawyer',  'profession_librarian', 'profession_marketing', 'profession_none', 'profession_other', 'profession_programmer', 'profession_retired', 'profession_salesman',  'profession_scientist', 'profession_student', 'profession_technician', 'profession_writer' ]].values.tolist()\n",
        "  test_user_info.append(test_user_list)\n",
        "for movie in movies:\n",
        "  test_movie_embedding.append(matrix_fact_test.item_features[matrix_fact_test.item_id_map.get(movie)])\n",
        "  test_full_movie_dataset =  ml_movies.loc[ml_movies.ml_movieId == movie]\n",
        "  test_genre = test_full_movie_dataset[[\"genre_unknown\", \"Action\", \"Adventure\", \"Animation\", \"Family\", \"Comedy\", \"Crime\", \"Documentary\", \"Drama\", \"Fantasy\", \"Film-Noir\", \"Horror\", \"Music\", \"Mystery\", \"Romance\", \"Science Fiction\", \"Thriller\", \"War\", \"Western\"]].values.tolist()\n",
        "  test_genres.append(test_genre)\n",
        "  test_y_test.append(movie_ratings[movie])\n",
        "test_y_test = np.asarray(test_y_test)\n",
        "print(np.shape(test_user_embedding))\n",
        "print(np.shape(test_movie_embedding))\n",
        "print(np.shape(test_genres))"
      ]
    },
    {
      "cell_type": "code",
      "execution_count": null,
      "metadata": {
        "colab": {
          "base_uri": "https://localhost:8080/"
        },
        "id": "wfiPtlpD4Chq",
        "outputId": "8e58603e-63bf-4c95-e9f8-d059d3ca58fa"
      },
      "outputs": [
        {
          "output_type": "stream",
          "name": "stderr",
          "text": [
            "/usr/local/lib/python3.7/dist-packages/ipykernel_launcher.py:13: VisibleDeprecationWarning: Creating an ndarray from ragged nested sequences (which is a list-or-tuple of lists-or-tuples-or ndarrays with different lengths or shapes) is deprecated. If you meant to do this, you must specify 'dtype=object' when creating the ndarray.\n",
            "  del sys.path[0]\n"
          ]
        },
        {
          "output_type": "stream",
          "name": "stdout",
          "text": [
            "(19957, 73)\n",
            "(19957,)\n"
          ]
        }
      ],
      "source": [
        "test_final_matrix = []\n",
        "test_final_test_matrix = []\n",
        "for i in range(0, 20000):\n",
        "  test_matrix = []\n",
        "  test_user_embedding[i] = [float(v) for v in user_embedding[i]]\n",
        "\n",
        "  test_matrix.extend([a*b for a,b in zip(test_user_embedding[i],test_movie_embedding[i])])\n",
        "  test_genre = [float(j) for j in test_genres[i][0]]\n",
        "  test_matrix.extend(test_genre)\n",
        "  test_matrix.extend([test_user_info[i][0][1]])\n",
        "  for x in range (3 , 26):\n",
        "    test_matrix.extend([test_user_info[i][0][x]])\n",
        "  if (np.array(test_matrix).shape == (73,)):\n",
        "    test_final_test_matrix.append(test_y_test[i])\n",
        "    test_final_matrix.append(np.array(test_matrix, dtype=object))\n",
        "test_final_matrix = np.asarray(test_final_matrix)\n",
        "test_final_test_matrix = np.asarray(test_final_test_matrix)\n",
        "print(np.shape(test_final_matrix))\n",
        "print(np.shape(test_final_test_matrix))\n"
      ]
    },
    {
      "cell_type": "code",
      "execution_count": null,
      "metadata": {
        "colab": {
          "base_uri": "https://localhost:8080/"
        },
        "id": "XUJ2VouL4Hfe",
        "outputId": "6f63e13e-115a-457c-f730-6786705a906c"
      },
      "outputs": [
        {
          "output_type": "stream",
          "name": "stdout",
          "text": [
            "[[3.6680582]\n",
            " [3.7332087]\n",
            " [3.9034302]\n",
            " [3.7186306]\n",
            " [2.9310985]\n",
            " [3.733142 ]\n",
            " [3.5959427]\n",
            " [2.5790863]\n",
            " [3.5973756]\n",
            " [3.9463756]]\n",
            "4.7779365\n",
            "0.3148694\n"
          ]
        }
      ],
      "source": [
        "test_final_matrix = np.asarray(test_final_matrix).astype(np.float32)\n",
        "test_y_prediction = model.predict(test_final_matrix)\n",
        "print((test_y_prediction[0:10]))\n",
        "print(test_y_prediction.max())\n",
        "print(test_y_prediction.min())"
      ]
    },
    {
      "cell_type": "markdown",
      "metadata": {
        "id": "sWMoIRbIQE5D"
      },
      "source": [
        "# **RMSE of Hybrid Model**"
      ]
    },
    {
      "cell_type": "code",
      "execution_count": null,
      "metadata": {
        "colab": {
          "base_uri": "https://localhost:8080/"
        },
        "id": "QMuZA91x4LgB",
        "outputId": "ad878cd4-fe03-4a04-fd20-d8b10704ca4c"
      },
      "outputs": [
        {
          "output_type": "stream",
          "name": "stdout",
          "text": [
            "RMSE: 1.3409349094710783\n"
          ]
        }
      ],
      "source": [
        "print('RMSE: {}'.format(np.sqrt(mean_squared_error(test_y_prediction, test_final_test_matrix))))"
      ]
    },
    {
      "cell_type": "markdown",
      "metadata": {
        "id": "edjP4lpOQJMH"
      },
      "source": [
        "As you can see above, the RMSE of the hybrid model using an unseen dataset. is around 1.3, which is not too bad. "
      ]
    },
    {
      "cell_type": "markdown",
      "metadata": {
        "id": "WVfot3YvQPUS"
      },
      "source": [
        "# **RMSE Comparison between Models:**\n",
        "\n",
        "**Baseline Model:** 1.03\n",
        "\n",
        "**Simple Model:**\n",
        "  \n",
        "  a. SVD: .96\n",
        "  \n",
        "  b. Turicreate: 1.04\n",
        "  \n",
        "  c. matrix_factorization: .96\n",
        "\n",
        "\n",
        "\n",
        "**Hybrid Model:** 1.3"
      ]
    }
  ],
  "metadata": {
    "colab": {
      "collapsed_sections": [],
      "name": "Recommender System",
      "provenance": []
    },
    "kernelspec": {
      "display_name": "Python 3",
      "name": "python3"
    }
  },
  "nbformat": 4,
  "nbformat_minor": 0
}